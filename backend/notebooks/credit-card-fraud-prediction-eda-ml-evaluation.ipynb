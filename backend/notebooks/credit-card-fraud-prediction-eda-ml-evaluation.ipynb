{
 "cells": [
  {
   "cell_type": "markdown",
   "id": "141fad7b",
   "metadata": {
    "papermill": {
     "duration": 0.099456,
     "end_time": "2022-04-24T18:10:12.631495",
     "exception": false,
     "start_time": "2022-04-24T18:10:12.532039",
     "status": "completed"
    },
    "tags": []
   },
   "source": [
    "## Credit Card Fraud Case Study"
   ]
  },
  {
   "cell_type": "markdown",
   "id": "5267df87",
   "metadata": {
    "papermill": {
     "duration": 0.095685,
     "end_time": "2022-04-24T18:10:12.825835",
     "exception": false,
     "start_time": "2022-04-24T18:10:12.730150",
     "status": "completed"
    },
    "tags": []
   },
   "source": [
    "### Importing basic modules"
   ]
  },
  {
   "cell_type": "code",
   "execution_count": 2,
   "id": "dfdda693",
   "metadata": {
    "execution": {
     "iopub.execute_input": "2022-04-24T18:10:13.022100Z",
     "iopub.status.busy": "2022-04-24T18:10:13.021736Z",
     "iopub.status.idle": "2022-04-24T18:10:14.199097Z",
     "shell.execute_reply": "2022-04-24T18:10:14.198360Z"
    },
    "papermill": {
     "duration": 1.279994,
     "end_time": "2022-04-24T18:10:14.201534",
     "exception": false,
     "start_time": "2022-04-24T18:10:12.921540",
     "status": "completed"
    },
    "tags": []
   },
   "outputs": [],
   "source": [
    "import numpy as np\n",
    "import pandas as pd\n",
    "import matplotlib.pyplot as plt\n",
    "import seaborn as sns\n",
    "%matplotlib inline"
   ]
  },
  {
   "cell_type": "code",
   "execution_count": 2,
   "id": "b00dbf3d",
   "metadata": {},
   "outputs": [
    {
     "name": "stdout",
     "output_type": "stream",
     "text": [
      "Requirement already satisfied: scikit-learn==1.0.2 in c:\\users\\surya\\anaconda3\\lib\\site-packages (1.0.2)\n",
      "Requirement already satisfied: threadpoolctl>=2.0.0 in c:\\users\\surya\\anaconda3\\lib\\site-packages (from scikit-learn==1.0.2) (2.1.0)\n",
      "Requirement already satisfied: scipy>=1.1.0 in c:\\users\\surya\\anaconda3\\lib\\site-packages (from scikit-learn==1.0.2) (1.6.2)\n",
      "Requirement already satisfied: joblib>=0.11 in c:\\users\\surya\\anaconda3\\lib\\site-packages (from scikit-learn==1.0.2) (1.0.1)\n",
      "Requirement already satisfied: numpy>=1.14.6 in c:\\users\\surya\\anaconda3\\lib\\site-packages (from scikit-learn==1.0.2) (1.21.0)\n",
      "Note: you may need to restart the kernel to use updated packages.\n"
     ]
    }
   ],
   "source": [
    "pip install scikit-learn==1.0.2 "
   ]
  },
  {
   "cell_type": "markdown",
   "id": "3e6da26f",
   "metadata": {
    "papermill": {
     "duration": 0.097704,
     "end_time": "2022-04-24T18:10:14.396705",
     "exception": false,
     "start_time": "2022-04-24T18:10:14.299001",
     "status": "completed"
    },
    "tags": []
   },
   "source": [
    "### Importing Data"
   ]
  },
  {
   "cell_type": "code",
   "execution_count": 3,
   "id": "a49178b7",
   "metadata": {
    "execution": {
     "iopub.execute_input": "2022-04-24T18:10:14.589043Z",
     "iopub.status.busy": "2022-04-24T18:10:14.588748Z",
     "iopub.status.idle": "2022-04-24T18:10:30.477976Z",
     "shell.execute_reply": "2022-04-24T18:10:30.477339Z"
    },
    "papermill": {
     "duration": 15.988692,
     "end_time": "2022-04-24T18:10:30.480723",
     "exception": false,
     "start_time": "2022-04-24T18:10:14.492031",
     "status": "completed"
    },
    "tags": []
   },
   "outputs": [
    {
     "data": {
      "text/html": [
       "<div>\n",
       "<style scoped>\n",
       "    .dataframe tbody tr th:only-of-type {\n",
       "        vertical-align: middle;\n",
       "    }\n",
       "\n",
       "    .dataframe tbody tr th {\n",
       "        vertical-align: top;\n",
       "    }\n",
       "\n",
       "    .dataframe thead th {\n",
       "        text-align: right;\n",
       "    }\n",
       "</style>\n",
       "<table border=\"1\" class=\"dataframe\">\n",
       "  <thead>\n",
       "    <tr style=\"text-align: right;\">\n",
       "      <th></th>\n",
       "      <th>Unnamed: 0</th>\n",
       "      <th>trans_date_trans_time</th>\n",
       "      <th>cc_num</th>\n",
       "      <th>merchant</th>\n",
       "      <th>category</th>\n",
       "      <th>amt</th>\n",
       "      <th>first</th>\n",
       "      <th>last</th>\n",
       "      <th>gender</th>\n",
       "      <th>street</th>\n",
       "      <th>...</th>\n",
       "      <th>lat</th>\n",
       "      <th>long</th>\n",
       "      <th>city_pop</th>\n",
       "      <th>job</th>\n",
       "      <th>dob</th>\n",
       "      <th>trans_num</th>\n",
       "      <th>unix_time</th>\n",
       "      <th>merch_lat</th>\n",
       "      <th>merch_long</th>\n",
       "      <th>is_fraud</th>\n",
       "    </tr>\n",
       "  </thead>\n",
       "  <tbody>\n",
       "    <tr>\n",
       "      <th>0</th>\n",
       "      <td>0</td>\n",
       "      <td>2020-06-21 12:14:25</td>\n",
       "      <td>2291163933867244</td>\n",
       "      <td>fraud_Kirlin and Sons</td>\n",
       "      <td>personal_care</td>\n",
       "      <td>2.86</td>\n",
       "      <td>Jeff</td>\n",
       "      <td>Elliott</td>\n",
       "      <td>M</td>\n",
       "      <td>351 Darlene Green</td>\n",
       "      <td>...</td>\n",
       "      <td>33.9659</td>\n",
       "      <td>-80.9355</td>\n",
       "      <td>333497</td>\n",
       "      <td>Mechanical engineer</td>\n",
       "      <td>1968-03-19</td>\n",
       "      <td>2da90c7d74bd46a0caf3777415b3ebd3</td>\n",
       "      <td>1371816865</td>\n",
       "      <td>33.986391</td>\n",
       "      <td>-81.200714</td>\n",
       "      <td>0</td>\n",
       "    </tr>\n",
       "    <tr>\n",
       "      <th>1</th>\n",
       "      <td>1</td>\n",
       "      <td>2020-06-21 12:14:33</td>\n",
       "      <td>3573030041201292</td>\n",
       "      <td>fraud_Sporer-Keebler</td>\n",
       "      <td>personal_care</td>\n",
       "      <td>29.84</td>\n",
       "      <td>Joanne</td>\n",
       "      <td>Williams</td>\n",
       "      <td>F</td>\n",
       "      <td>3638 Marsh Union</td>\n",
       "      <td>...</td>\n",
       "      <td>40.3207</td>\n",
       "      <td>-110.4360</td>\n",
       "      <td>302</td>\n",
       "      <td>Sales professional, IT</td>\n",
       "      <td>1990-01-17</td>\n",
       "      <td>324cc204407e99f51b0d6ca0055005e7</td>\n",
       "      <td>1371816873</td>\n",
       "      <td>39.450498</td>\n",
       "      <td>-109.960431</td>\n",
       "      <td>0</td>\n",
       "    </tr>\n",
       "    <tr>\n",
       "      <th>2</th>\n",
       "      <td>2</td>\n",
       "      <td>2020-06-21 12:14:53</td>\n",
       "      <td>3598215285024754</td>\n",
       "      <td>fraud_Swaniawski, Nitzsche and Welch</td>\n",
       "      <td>health_fitness</td>\n",
       "      <td>41.28</td>\n",
       "      <td>Ashley</td>\n",
       "      <td>Lopez</td>\n",
       "      <td>F</td>\n",
       "      <td>9333 Valentine Point</td>\n",
       "      <td>...</td>\n",
       "      <td>40.6729</td>\n",
       "      <td>-73.5365</td>\n",
       "      <td>34496</td>\n",
       "      <td>Librarian, public</td>\n",
       "      <td>1970-10-21</td>\n",
       "      <td>c81755dbbbea9d5c77f094348a7579be</td>\n",
       "      <td>1371816893</td>\n",
       "      <td>40.495810</td>\n",
       "      <td>-74.196111</td>\n",
       "      <td>0</td>\n",
       "    </tr>\n",
       "    <tr>\n",
       "      <th>3</th>\n",
       "      <td>3</td>\n",
       "      <td>2020-06-21 12:15:15</td>\n",
       "      <td>3591919803438423</td>\n",
       "      <td>fraud_Haley Group</td>\n",
       "      <td>misc_pos</td>\n",
       "      <td>60.05</td>\n",
       "      <td>Brian</td>\n",
       "      <td>Williams</td>\n",
       "      <td>M</td>\n",
       "      <td>32941 Krystal Mill Apt. 552</td>\n",
       "      <td>...</td>\n",
       "      <td>28.5697</td>\n",
       "      <td>-80.8191</td>\n",
       "      <td>54767</td>\n",
       "      <td>Set designer</td>\n",
       "      <td>1987-07-25</td>\n",
       "      <td>2159175b9efe66dc301f149d3d5abf8c</td>\n",
       "      <td>1371816915</td>\n",
       "      <td>28.812398</td>\n",
       "      <td>-80.883061</td>\n",
       "      <td>0</td>\n",
       "    </tr>\n",
       "    <tr>\n",
       "      <th>4</th>\n",
       "      <td>4</td>\n",
       "      <td>2020-06-21 12:15:17</td>\n",
       "      <td>3526826139003047</td>\n",
       "      <td>fraud_Johnston-Casper</td>\n",
       "      <td>travel</td>\n",
       "      <td>3.19</td>\n",
       "      <td>Nathan</td>\n",
       "      <td>Massey</td>\n",
       "      <td>M</td>\n",
       "      <td>5783 Evan Roads Apt. 465</td>\n",
       "      <td>...</td>\n",
       "      <td>44.2529</td>\n",
       "      <td>-85.0170</td>\n",
       "      <td>1126</td>\n",
       "      <td>Furniture designer</td>\n",
       "      <td>1955-07-06</td>\n",
       "      <td>57ff021bd3f328f8738bb535c302a31b</td>\n",
       "      <td>1371816917</td>\n",
       "      <td>44.959148</td>\n",
       "      <td>-85.884734</td>\n",
       "      <td>0</td>\n",
       "    </tr>\n",
       "  </tbody>\n",
       "</table>\n",
       "<p>5 rows × 23 columns</p>\n",
       "</div>"
      ],
      "text/plain": [
       "   Unnamed: 0 trans_date_trans_time            cc_num  \\\n",
       "0           0   2020-06-21 12:14:25  2291163933867244   \n",
       "1           1   2020-06-21 12:14:33  3573030041201292   \n",
       "2           2   2020-06-21 12:14:53  3598215285024754   \n",
       "3           3   2020-06-21 12:15:15  3591919803438423   \n",
       "4           4   2020-06-21 12:15:17  3526826139003047   \n",
       "\n",
       "                               merchant        category    amt   first  \\\n",
       "0                 fraud_Kirlin and Sons   personal_care   2.86    Jeff   \n",
       "1                  fraud_Sporer-Keebler   personal_care  29.84  Joanne   \n",
       "2  fraud_Swaniawski, Nitzsche and Welch  health_fitness  41.28  Ashley   \n",
       "3                     fraud_Haley Group        misc_pos  60.05   Brian   \n",
       "4                 fraud_Johnston-Casper          travel   3.19  Nathan   \n",
       "\n",
       "       last gender                       street  ...      lat      long  \\\n",
       "0   Elliott      M            351 Darlene Green  ...  33.9659  -80.9355   \n",
       "1  Williams      F             3638 Marsh Union  ...  40.3207 -110.4360   \n",
       "2     Lopez      F         9333 Valentine Point  ...  40.6729  -73.5365   \n",
       "3  Williams      M  32941 Krystal Mill Apt. 552  ...  28.5697  -80.8191   \n",
       "4    Massey      M     5783 Evan Roads Apt. 465  ...  44.2529  -85.0170   \n",
       "\n",
       "   city_pop                     job         dob  \\\n",
       "0    333497     Mechanical engineer  1968-03-19   \n",
       "1       302  Sales professional, IT  1990-01-17   \n",
       "2     34496       Librarian, public  1970-10-21   \n",
       "3     54767            Set designer  1987-07-25   \n",
       "4      1126      Furniture designer  1955-07-06   \n",
       "\n",
       "                          trans_num   unix_time  merch_lat  merch_long  \\\n",
       "0  2da90c7d74bd46a0caf3777415b3ebd3  1371816865  33.986391  -81.200714   \n",
       "1  324cc204407e99f51b0d6ca0055005e7  1371816873  39.450498 -109.960431   \n",
       "2  c81755dbbbea9d5c77f094348a7579be  1371816893  40.495810  -74.196111   \n",
       "3  2159175b9efe66dc301f149d3d5abf8c  1371816915  28.812398  -80.883061   \n",
       "4  57ff021bd3f328f8738bb535c302a31b  1371816917  44.959148  -85.884734   \n",
       "\n",
       "   is_fraud  \n",
       "0         0  \n",
       "1         0  \n",
       "2         0  \n",
       "3         0  \n",
       "4         0  \n",
       "\n",
       "[5 rows x 23 columns]"
      ]
     },
     "execution_count": 3,
     "metadata": {},
     "output_type": "execute_result"
    }
   ],
   "source": [
    "train = pd.read_csv('fraudTrain.csv')\n",
    "test = pd.read_csv('fraudTest.csv')\n",
    "test.head()"
   ]
  },
  {
   "cell_type": "code",
   "execution_count": 4,
   "id": "277a4627",
   "metadata": {
    "execution": {
     "iopub.execute_input": "2022-04-24T18:10:30.675983Z",
     "iopub.status.busy": "2022-04-24T18:10:30.675543Z",
     "iopub.status.idle": "2022-04-24T18:10:30.682260Z",
     "shell.execute_reply": "2022-04-24T18:10:30.681219Z"
    },
    "papermill": {
     "duration": 0.106444,
     "end_time": "2022-04-24T18:10:30.684083",
     "exception": false,
     "start_time": "2022-04-24T18:10:30.577639",
     "status": "completed"
    },
    "tags": []
   },
   "outputs": [
    {
     "name": "stdout",
     "output_type": "stream",
     "text": [
      "(555719, 23)\n",
      "(1296675, 23)\n"
     ]
    },
    {
     "data": {
      "text/plain": [
       "(None, None)"
      ]
     },
     "execution_count": 4,
     "metadata": {},
     "output_type": "execute_result"
    }
   ],
   "source": [
    "print(test.shape),print(train.shape)"
   ]
  },
  {
   "cell_type": "markdown",
   "id": "3da68fee",
   "metadata": {
    "papermill": {
     "duration": 0.097672,
     "end_time": "2022-04-24T18:10:30.878897",
     "exception": false,
     "start_time": "2022-04-24T18:10:30.781225",
     "status": "completed"
    },
    "tags": []
   },
   "source": [
    "### Data Cleaning "
   ]
  },
  {
   "cell_type": "code",
   "execution_count": 5,
   "id": "936ec015",
   "metadata": {
    "execution": {
     "iopub.execute_input": "2022-04-24T18:10:31.075669Z",
     "iopub.status.busy": "2022-04-24T18:10:31.075377Z",
     "iopub.status.idle": "2022-04-24T18:10:31.789203Z",
     "shell.execute_reply": "2022-04-24T18:10:31.788331Z"
    },
    "papermill": {
     "duration": 0.814189,
     "end_time": "2022-04-24T18:10:31.791353",
     "exception": false,
     "start_time": "2022-04-24T18:10:30.977164",
     "status": "completed"
    },
    "tags": []
   },
   "outputs": [
    {
     "data": {
      "text/plain": [
       "Unnamed: 0               0\n",
       "trans_date_trans_time    0\n",
       "cc_num                   0\n",
       "merchant                 0\n",
       "category                 0\n",
       "amt                      0\n",
       "first                    0\n",
       "last                     0\n",
       "gender                   0\n",
       "street                   0\n",
       "city                     0\n",
       "state                    0\n",
       "zip                      0\n",
       "lat                      0\n",
       "long                     0\n",
       "city_pop                 0\n",
       "job                      0\n",
       "dob                      0\n",
       "trans_num                0\n",
       "unix_time                0\n",
       "merch_lat                0\n",
       "merch_long               0\n",
       "is_fraud                 0\n",
       "dtype: int64"
      ]
     },
     "execution_count": 5,
     "metadata": {},
     "output_type": "execute_result"
    }
   ],
   "source": [
    "test.isnull().sum()"
   ]
  },
  {
   "cell_type": "code",
   "execution_count": 6,
   "id": "2f24a852",
   "metadata": {
    "execution": {
     "iopub.execute_input": "2022-04-24T18:10:31.989811Z",
     "iopub.status.busy": "2022-04-24T18:10:31.989495Z",
     "iopub.status.idle": "2022-04-24T18:10:33.640126Z",
     "shell.execute_reply": "2022-04-24T18:10:33.639240Z"
    },
    "papermill": {
     "duration": 1.751524,
     "end_time": "2022-04-24T18:10:33.642116",
     "exception": false,
     "start_time": "2022-04-24T18:10:31.890592",
     "status": "completed"
    },
    "tags": []
   },
   "outputs": [
    {
     "data": {
      "text/plain": [
       "Unnamed: 0               0\n",
       "trans_date_trans_time    0\n",
       "cc_num                   0\n",
       "merchant                 0\n",
       "category                 0\n",
       "amt                      0\n",
       "first                    0\n",
       "last                     0\n",
       "gender                   0\n",
       "street                   0\n",
       "city                     0\n",
       "state                    0\n",
       "zip                      0\n",
       "lat                      0\n",
       "long                     0\n",
       "city_pop                 0\n",
       "job                      0\n",
       "dob                      0\n",
       "trans_num                0\n",
       "unix_time                0\n",
       "merch_lat                0\n",
       "merch_long               0\n",
       "is_fraud                 0\n",
       "dtype: int64"
      ]
     },
     "execution_count": 6,
     "metadata": {},
     "output_type": "execute_result"
    }
   ],
   "source": [
    "train.isnull().sum()"
   ]
  },
  {
   "cell_type": "code",
   "execution_count": 7,
   "id": "b4c489c9",
   "metadata": {
    "execution": {
     "iopub.execute_input": "2022-04-24T18:10:33.840287Z",
     "iopub.status.busy": "2022-04-24T18:10:33.839969Z",
     "iopub.status.idle": "2022-04-24T18:10:36.247691Z",
     "shell.execute_reply": "2022-04-24T18:10:36.246629Z"
    },
    "papermill": {
     "duration": 2.510512,
     "end_time": "2022-04-24T18:10:36.250299",
     "exception": false,
     "start_time": "2022-04-24T18:10:33.739787",
     "status": "completed"
    },
    "tags": []
   },
   "outputs": [
    {
     "name": "stdout",
     "output_type": "stream",
     "text": [
      "<class 'pandas.core.frame.DataFrame'>\n",
      "RangeIndex: 555719 entries, 0 to 555718\n",
      "Data columns (total 23 columns):\n",
      " #   Column                 Non-Null Count   Dtype  \n",
      "---  ------                 --------------   -----  \n",
      " 0   Unnamed: 0             555719 non-null  int64  \n",
      " 1   trans_date_trans_time  555719 non-null  object \n",
      " 2   cc_num                 555719 non-null  int64  \n",
      " 3   merchant               555719 non-null  object \n",
      " 4   category               555719 non-null  object \n",
      " 5   amt                    555719 non-null  float64\n",
      " 6   first                  555719 non-null  object \n",
      " 7   last                   555719 non-null  object \n",
      " 8   gender                 555719 non-null  object \n",
      " 9   street                 555719 non-null  object \n",
      " 10  city                   555719 non-null  object \n",
      " 11  state                  555719 non-null  object \n",
      " 12  zip                    555719 non-null  int64  \n",
      " 13  lat                    555719 non-null  float64\n",
      " 14  long                   555719 non-null  float64\n",
      " 15  city_pop               555719 non-null  int64  \n",
      " 16  job                    555719 non-null  object \n",
      " 17  dob                    555719 non-null  object \n",
      " 18  trans_num              555719 non-null  object \n",
      " 19  unix_time              555719 non-null  int64  \n",
      " 20  merch_lat              555719 non-null  float64\n",
      " 21  merch_long             555719 non-null  float64\n",
      " 22  is_fraud               555719 non-null  int64  \n",
      "dtypes: float64(5), int64(6), object(12)\n",
      "memory usage: 97.5+ MB\n",
      "<class 'pandas.core.frame.DataFrame'>\n",
      "RangeIndex: 1296675 entries, 0 to 1296674\n",
      "Data columns (total 23 columns):\n",
      " #   Column                 Non-Null Count    Dtype  \n",
      "---  ------                 --------------    -----  \n",
      " 0   Unnamed: 0             1296675 non-null  int64  \n",
      " 1   trans_date_trans_time  1296675 non-null  object \n",
      " 2   cc_num                 1296675 non-null  int64  \n",
      " 3   merchant               1296675 non-null  object \n",
      " 4   category               1296675 non-null  object \n",
      " 5   amt                    1296675 non-null  float64\n",
      " 6   first                  1296675 non-null  object \n",
      " 7   last                   1296675 non-null  object \n",
      " 8   gender                 1296675 non-null  object \n",
      " 9   street                 1296675 non-null  object \n",
      " 10  city                   1296675 non-null  object \n",
      " 11  state                  1296675 non-null  object \n",
      " 12  zip                    1296675 non-null  int64  \n",
      " 13  lat                    1296675 non-null  float64\n",
      " 14  long                   1296675 non-null  float64\n",
      " 15  city_pop               1296675 non-null  int64  \n",
      " 16  job                    1296675 non-null  object \n",
      " 17  dob                    1296675 non-null  object \n",
      " 18  trans_num              1296675 non-null  object \n",
      " 19  unix_time              1296675 non-null  int64  \n",
      " 20  merch_lat              1296675 non-null  float64\n",
      " 21  merch_long             1296675 non-null  float64\n",
      " 22  is_fraud               1296675 non-null  int64  \n",
      "dtypes: float64(5), int64(6), object(12)\n",
      "memory usage: 227.5+ MB\n"
     ]
    },
    {
     "data": {
      "text/plain": [
       "(None, None)"
      ]
     },
     "execution_count": 7,
     "metadata": {},
     "output_type": "execute_result"
    }
   ],
   "source": [
    "test.info(), train.info()"
   ]
  },
  {
   "cell_type": "markdown",
   "id": "83171664",
   "metadata": {
    "papermill": {
     "duration": 0.100428,
     "end_time": "2022-04-24T18:10:36.449448",
     "exception": false,
     "start_time": "2022-04-24T18:10:36.349020",
     "status": "completed"
    },
    "tags": []
   },
   "source": [
    "Converting dob,trans_date_trans_time  column in both test & train to datetime data type and creating new 'trans_date' column - "
   ]
  },
  {
   "cell_type": "code",
   "execution_count": 8,
   "id": "66b082fd",
   "metadata": {
    "execution": {
     "iopub.execute_input": "2022-04-24T18:10:36.651413Z",
     "iopub.status.busy": "2022-04-24T18:10:36.650861Z",
     "iopub.status.idle": "2022-04-24T18:10:52.680510Z",
     "shell.execute_reply": "2022-04-24T18:10:52.679624Z"
    },
    "papermill": {
     "duration": 16.134202,
     "end_time": "2022-04-24T18:10:52.682891",
     "exception": false,
     "start_time": "2022-04-24T18:10:36.548689",
     "status": "completed"
    },
    "tags": []
   },
   "outputs": [],
   "source": [
    "train['trans_date_trans_time']=pd.to_datetime(train['trans_date_trans_time'])\n",
    "train['trans_date']=train['trans_date_trans_time'].dt.strftime('%Y-%m-%d')\n",
    "train['trans_date']=pd.to_datetime(train['trans_date'])\n",
    "train['dob']=pd.to_datetime(train['dob'])\n",
    "\n",
    "test['trans_date_trans_time']=pd.to_datetime(test['trans_date_trans_time'])\n",
    "test['trans_date']=test['trans_date_trans_time'].dt.strftime('%Y-%m-%d')\n",
    "test['trans_date']=pd.to_datetime(test['trans_date'])\n",
    "test['dob']=pd.to_datetime(test['dob'])"
   ]
  },
  {
   "cell_type": "code",
   "execution_count": 9,
   "id": "0a74a9a0",
   "metadata": {
    "execution": {
     "iopub.execute_input": "2022-04-24T18:10:52.882998Z",
     "iopub.status.busy": "2022-04-24T18:10:52.882389Z",
     "iopub.status.idle": "2022-04-24T18:10:52.892400Z",
     "shell.execute_reply": "2022-04-24T18:10:52.891472Z"
    },
    "papermill": {
     "duration": 0.112579,
     "end_time": "2022-04-24T18:10:52.894483",
     "exception": false,
     "start_time": "2022-04-24T18:10:52.781904",
     "status": "completed"
    },
    "tags": []
   },
   "outputs": [
    {
     "data": {
      "text/plain": [
       "(0   2020-06-21\n",
       " 1   2020-06-21\n",
       " 2   2020-06-21\n",
       " 3   2020-06-21\n",
       " 4   2020-06-21\n",
       " Name: trans_date, dtype: datetime64[ns],\n",
       " 0   1968-03-19\n",
       " 1   1990-01-17\n",
       " 2   1970-10-21\n",
       " 3   1987-07-25\n",
       " 4   1955-07-06\n",
       " Name: dob, dtype: datetime64[ns],\n",
       " 0   2019-01-01\n",
       " 1   2019-01-01\n",
       " 2   2019-01-01\n",
       " 3   2019-01-01\n",
       " 4   2019-01-01\n",
       " Name: trans_date, dtype: datetime64[ns],\n",
       " 0   1988-03-09\n",
       " 1   1978-06-21\n",
       " 2   1962-01-19\n",
       " 3   1967-01-12\n",
       " 4   1986-03-28\n",
       " Name: dob, dtype: datetime64[ns])"
      ]
     },
     "execution_count": 9,
     "metadata": {},
     "output_type": "execute_result"
    }
   ],
   "source": [
    "test.trans_date.head(),test.dob.head(),train.trans_date.head(),train.dob.head()"
   ]
  },
  {
   "cell_type": "markdown",
   "id": "8bed11f1",
   "metadata": {
    "papermill": {
     "duration": 0.100669,
     "end_time": "2022-04-24T18:10:53.095837",
     "exception": false,
     "start_time": "2022-04-24T18:10:52.995168",
     "status": "completed"
    },
    "tags": []
   },
   "source": [
    "Removing unnamed column"
   ]
  },
  {
   "cell_type": "code",
   "execution_count": 10,
   "id": "81f9eb6d",
   "metadata": {
    "execution": {
     "iopub.execute_input": "2022-04-24T18:10:53.298414Z",
     "iopub.status.busy": "2022-04-24T18:10:53.298123Z",
     "iopub.status.idle": "2022-04-24T18:10:53.636558Z",
     "shell.execute_reply": "2022-04-24T18:10:53.635816Z"
    },
    "papermill": {
     "duration": 0.442279,
     "end_time": "2022-04-24T18:10:53.638845",
     "exception": false,
     "start_time": "2022-04-24T18:10:53.196566",
     "status": "completed"
    },
    "tags": []
   },
   "outputs": [
    {
     "data": {
      "text/html": [
       "<div>\n",
       "<style scoped>\n",
       "    .dataframe tbody tr th:only-of-type {\n",
       "        vertical-align: middle;\n",
       "    }\n",
       "\n",
       "    .dataframe tbody tr th {\n",
       "        vertical-align: top;\n",
       "    }\n",
       "\n",
       "    .dataframe thead th {\n",
       "        text-align: right;\n",
       "    }\n",
       "</style>\n",
       "<table border=\"1\" class=\"dataframe\">\n",
       "  <thead>\n",
       "    <tr style=\"text-align: right;\">\n",
       "      <th></th>\n",
       "      <th>trans_date_trans_time</th>\n",
       "      <th>cc_num</th>\n",
       "      <th>merchant</th>\n",
       "      <th>category</th>\n",
       "      <th>amt</th>\n",
       "      <th>first</th>\n",
       "      <th>last</th>\n",
       "      <th>gender</th>\n",
       "      <th>street</th>\n",
       "      <th>city</th>\n",
       "      <th>...</th>\n",
       "      <th>long</th>\n",
       "      <th>city_pop</th>\n",
       "      <th>job</th>\n",
       "      <th>dob</th>\n",
       "      <th>trans_num</th>\n",
       "      <th>unix_time</th>\n",
       "      <th>merch_lat</th>\n",
       "      <th>merch_long</th>\n",
       "      <th>is_fraud</th>\n",
       "      <th>trans_date</th>\n",
       "    </tr>\n",
       "  </thead>\n",
       "  <tbody>\n",
       "    <tr>\n",
       "      <th>0</th>\n",
       "      <td>2019-01-01 00:00:18</td>\n",
       "      <td>2703186189652095</td>\n",
       "      <td>fraud_Rippin, Kub and Mann</td>\n",
       "      <td>misc_net</td>\n",
       "      <td>4.97</td>\n",
       "      <td>Jennifer</td>\n",
       "      <td>Banks</td>\n",
       "      <td>F</td>\n",
       "      <td>561 Perry Cove</td>\n",
       "      <td>Moravian Falls</td>\n",
       "      <td>...</td>\n",
       "      <td>-81.1781</td>\n",
       "      <td>3495</td>\n",
       "      <td>Psychologist, counselling</td>\n",
       "      <td>1988-03-09</td>\n",
       "      <td>0b242abb623afc578575680df30655b9</td>\n",
       "      <td>1325376018</td>\n",
       "      <td>36.011293</td>\n",
       "      <td>-82.048315</td>\n",
       "      <td>0</td>\n",
       "      <td>2019-01-01</td>\n",
       "    </tr>\n",
       "    <tr>\n",
       "      <th>1</th>\n",
       "      <td>2019-01-01 00:00:44</td>\n",
       "      <td>630423337322</td>\n",
       "      <td>fraud_Heller, Gutmann and Zieme</td>\n",
       "      <td>grocery_pos</td>\n",
       "      <td>107.23</td>\n",
       "      <td>Stephanie</td>\n",
       "      <td>Gill</td>\n",
       "      <td>F</td>\n",
       "      <td>43039 Riley Greens Suite 393</td>\n",
       "      <td>Orient</td>\n",
       "      <td>...</td>\n",
       "      <td>-118.2105</td>\n",
       "      <td>149</td>\n",
       "      <td>Special educational needs teacher</td>\n",
       "      <td>1978-06-21</td>\n",
       "      <td>1f76529f8574734946361c461b024d99</td>\n",
       "      <td>1325376044</td>\n",
       "      <td>49.159047</td>\n",
       "      <td>-118.186462</td>\n",
       "      <td>0</td>\n",
       "      <td>2019-01-01</td>\n",
       "    </tr>\n",
       "    <tr>\n",
       "      <th>2</th>\n",
       "      <td>2019-01-01 00:00:51</td>\n",
       "      <td>38859492057661</td>\n",
       "      <td>fraud_Lind-Buckridge</td>\n",
       "      <td>entertainment</td>\n",
       "      <td>220.11</td>\n",
       "      <td>Edward</td>\n",
       "      <td>Sanchez</td>\n",
       "      <td>M</td>\n",
       "      <td>594 White Dale Suite 530</td>\n",
       "      <td>Malad City</td>\n",
       "      <td>...</td>\n",
       "      <td>-112.2620</td>\n",
       "      <td>4154</td>\n",
       "      <td>Nature conservation officer</td>\n",
       "      <td>1962-01-19</td>\n",
       "      <td>a1a22d70485983eac12b5b88dad1cf95</td>\n",
       "      <td>1325376051</td>\n",
       "      <td>43.150704</td>\n",
       "      <td>-112.154481</td>\n",
       "      <td>0</td>\n",
       "      <td>2019-01-01</td>\n",
       "    </tr>\n",
       "    <tr>\n",
       "      <th>3</th>\n",
       "      <td>2019-01-01 00:01:16</td>\n",
       "      <td>3534093764340240</td>\n",
       "      <td>fraud_Kutch, Hermiston and Farrell</td>\n",
       "      <td>gas_transport</td>\n",
       "      <td>45.00</td>\n",
       "      <td>Jeremy</td>\n",
       "      <td>White</td>\n",
       "      <td>M</td>\n",
       "      <td>9443 Cynthia Court Apt. 038</td>\n",
       "      <td>Boulder</td>\n",
       "      <td>...</td>\n",
       "      <td>-112.1138</td>\n",
       "      <td>1939</td>\n",
       "      <td>Patent attorney</td>\n",
       "      <td>1967-01-12</td>\n",
       "      <td>6b849c168bdad6f867558c3793159a81</td>\n",
       "      <td>1325376076</td>\n",
       "      <td>47.034331</td>\n",
       "      <td>-112.561071</td>\n",
       "      <td>0</td>\n",
       "      <td>2019-01-01</td>\n",
       "    </tr>\n",
       "    <tr>\n",
       "      <th>4</th>\n",
       "      <td>2019-01-01 00:03:06</td>\n",
       "      <td>375534208663984</td>\n",
       "      <td>fraud_Keeling-Crist</td>\n",
       "      <td>misc_pos</td>\n",
       "      <td>41.96</td>\n",
       "      <td>Tyler</td>\n",
       "      <td>Garcia</td>\n",
       "      <td>M</td>\n",
       "      <td>408 Bradley Rest</td>\n",
       "      <td>Doe Hill</td>\n",
       "      <td>...</td>\n",
       "      <td>-79.4629</td>\n",
       "      <td>99</td>\n",
       "      <td>Dance movement psychotherapist</td>\n",
       "      <td>1986-03-28</td>\n",
       "      <td>a41d7549acf90789359a9aa5346dcb46</td>\n",
       "      <td>1325376186</td>\n",
       "      <td>38.674999</td>\n",
       "      <td>-78.632459</td>\n",
       "      <td>0</td>\n",
       "      <td>2019-01-01</td>\n",
       "    </tr>\n",
       "  </tbody>\n",
       "</table>\n",
       "<p>5 rows × 23 columns</p>\n",
       "</div>"
      ],
      "text/plain": [
       "  trans_date_trans_time            cc_num                            merchant  \\\n",
       "0   2019-01-01 00:00:18  2703186189652095          fraud_Rippin, Kub and Mann   \n",
       "1   2019-01-01 00:00:44      630423337322     fraud_Heller, Gutmann and Zieme   \n",
       "2   2019-01-01 00:00:51    38859492057661                fraud_Lind-Buckridge   \n",
       "3   2019-01-01 00:01:16  3534093764340240  fraud_Kutch, Hermiston and Farrell   \n",
       "4   2019-01-01 00:03:06   375534208663984                 fraud_Keeling-Crist   \n",
       "\n",
       "        category     amt      first     last gender  \\\n",
       "0       misc_net    4.97   Jennifer    Banks      F   \n",
       "1    grocery_pos  107.23  Stephanie     Gill      F   \n",
       "2  entertainment  220.11     Edward  Sanchez      M   \n",
       "3  gas_transport   45.00     Jeremy    White      M   \n",
       "4       misc_pos   41.96      Tyler   Garcia      M   \n",
       "\n",
       "                         street            city  ...      long  city_pop  \\\n",
       "0                561 Perry Cove  Moravian Falls  ...  -81.1781      3495   \n",
       "1  43039 Riley Greens Suite 393          Orient  ... -118.2105       149   \n",
       "2      594 White Dale Suite 530      Malad City  ... -112.2620      4154   \n",
       "3   9443 Cynthia Court Apt. 038         Boulder  ... -112.1138      1939   \n",
       "4              408 Bradley Rest        Doe Hill  ...  -79.4629        99   \n",
       "\n",
       "                                 job        dob  \\\n",
       "0          Psychologist, counselling 1988-03-09   \n",
       "1  Special educational needs teacher 1978-06-21   \n",
       "2        Nature conservation officer 1962-01-19   \n",
       "3                    Patent attorney 1967-01-12   \n",
       "4     Dance movement psychotherapist 1986-03-28   \n",
       "\n",
       "                          trans_num   unix_time  merch_lat  merch_long  \\\n",
       "0  0b242abb623afc578575680df30655b9  1325376018  36.011293  -82.048315   \n",
       "1  1f76529f8574734946361c461b024d99  1325376044  49.159047 -118.186462   \n",
       "2  a1a22d70485983eac12b5b88dad1cf95  1325376051  43.150704 -112.154481   \n",
       "3  6b849c168bdad6f867558c3793159a81  1325376076  47.034331 -112.561071   \n",
       "4  a41d7549acf90789359a9aa5346dcb46  1325376186  38.674999  -78.632459   \n",
       "\n",
       "   is_fraud  trans_date  \n",
       "0         0  2019-01-01  \n",
       "1         0  2019-01-01  \n",
       "2         0  2019-01-01  \n",
       "3         0  2019-01-01  \n",
       "4         0  2019-01-01  \n",
       "\n",
       "[5 rows x 23 columns]"
      ]
     },
     "execution_count": 10,
     "metadata": {},
     "output_type": "execute_result"
    }
   ],
   "source": [
    "train.drop(\"Unnamed: 0\",axis=1,inplace=True)\n",
    "test.drop(\"Unnamed: 0\",axis=1,inplace=True)\n",
    "train.head()"
   ]
  },
  {
   "cell_type": "markdown",
   "id": "ffcdbe88",
   "metadata": {
    "papermill": {
     "duration": 0.101563,
     "end_time": "2022-04-24T18:10:53.840706",
     "exception": false,
     "start_time": "2022-04-24T18:10:53.739143",
     "status": "completed"
    },
    "tags": []
   },
   "source": [
    "### EDA, Feature Engineering"
   ]
  },
  {
   "cell_type": "markdown",
   "id": "c45108ed",
   "metadata": {
    "papermill": {
     "duration": 0.10203,
     "end_time": "2022-04-24T18:10:54.043210",
     "exception": false,
     "start_time": "2022-04-24T18:10:53.941180",
     "status": "completed"
    },
    "tags": []
   },
   "source": [
    "### Categorical Variable Analysis"
   ]
  },
  {
   "cell_type": "code",
   "execution_count": 11,
   "id": "6d84ac8e",
   "metadata": {
    "execution": {
     "iopub.execute_input": "2022-04-24T18:10:54.247505Z",
     "iopub.status.busy": "2022-04-24T18:10:54.247228Z",
     "iopub.status.idle": "2022-04-24T18:10:55.030487Z",
     "shell.execute_reply": "2022-04-24T18:10:55.029487Z"
    },
    "papermill": {
     "duration": 0.887746,
     "end_time": "2022-04-24T18:10:55.033141",
     "exception": false,
     "start_time": "2022-04-24T18:10:54.145395",
     "status": "completed"
    },
    "tags": []
   },
   "outputs": [
    {
     "name": "stdout",
     "output_type": "stream",
     "text": [
      "<class 'pandas.core.frame.DataFrame'>\n",
      "Int64Index: 1852394 entries, 0 to 1296674\n",
      "Data columns (total 23 columns):\n",
      " #   Column                 Dtype         \n",
      "---  ------                 -----         \n",
      " 0   trans_date_trans_time  datetime64[ns]\n",
      " 1   cc_num                 int64         \n",
      " 2   merchant               object        \n",
      " 3   category               object        \n",
      " 4   amt                    float64       \n",
      " 5   first                  object        \n",
      " 6   last                   object        \n",
      " 7   gender                 object        \n",
      " 8   street                 object        \n",
      " 9   city                   object        \n",
      " 10  state                  object        \n",
      " 11  zip                    int64         \n",
      " 12  lat                    float64       \n",
      " 13  long                   float64       \n",
      " 14  city_pop               int64         \n",
      " 15  job                    object        \n",
      " 16  dob                    datetime64[ns]\n",
      " 17  trans_num              object        \n",
      " 18  unix_time              int64         \n",
      " 19  merch_lat              float64       \n",
      " 20  merch_long             float64       \n",
      " 21  is_fraud               int64         \n",
      " 22  trans_date             datetime64[ns]\n",
      "dtypes: datetime64[ns](3), float64(5), int64(5), object(10)\n",
      "memory usage: 339.2+ MB\n"
     ]
    }
   ],
   "source": [
    "total = pd.concat([test,train])\n",
    "total.info()"
   ]
  },
  {
   "cell_type": "code",
   "execution_count": 12,
   "id": "820666e2",
   "metadata": {
    "execution": {
     "iopub.execute_input": "2022-04-24T18:10:55.245471Z",
     "iopub.status.busy": "2022-04-24T18:10:55.245156Z",
     "iopub.status.idle": "2022-04-24T18:10:55.756515Z",
     "shell.execute_reply": "2022-04-24T18:10:55.755535Z"
    },
    "papermill": {
     "duration": 0.615309,
     "end_time": "2022-04-24T18:10:55.758756",
     "exception": false,
     "start_time": "2022-04-24T18:10:55.143447",
     "status": "completed"
    },
    "tags": []
   },
   "outputs": [
    {
     "data": {
      "text/plain": [
       "0          F\n",
       "1          F\n",
       "2          F\n",
       "3          F\n",
       "4          F\n",
       "          ..\n",
       "1296670    F\n",
       "1296671    F\n",
       "1296672    F\n",
       "1296673    F\n",
       "1296674    F\n",
       "Name: is_fraud_cat, Length: 1852394, dtype: object"
      ]
     },
     "execution_count": 12,
     "metadata": {},
     "output_type": "execute_result"
    }
   ],
   "source": [
    "total[\"is_fraud_cat\"]=total.is_fraud.apply(lambda x: \"T\" if x==1 else \"F\")\n",
    "total[\"is_fraud_cat\"].astype(\"object\")"
   ]
  },
  {
   "cell_type": "code",
   "execution_count": 13,
   "id": "e8140919",
   "metadata": {
    "execution": {
     "iopub.execute_input": "2022-04-24T18:10:55.967372Z",
     "iopub.status.busy": "2022-04-24T18:10:55.966458Z",
     "iopub.status.idle": "2022-04-24T18:10:56.957402Z",
     "shell.execute_reply": "2022-04-24T18:10:56.956505Z"
    },
    "papermill": {
     "duration": 1.099699,
     "end_time": "2022-04-24T18:10:56.959893",
     "exception": false,
     "start_time": "2022-04-24T18:10:55.860194",
     "status": "completed"
    },
    "tags": []
   },
   "outputs": [],
   "source": [
    "totalcat=total.select_dtypes(include=['object'])"
   ]
  },
  {
   "cell_type": "code",
   "execution_count": 14,
   "id": "bb3f237d",
   "metadata": {
    "execution": {
     "iopub.execute_input": "2022-04-24T18:10:57.165820Z",
     "iopub.status.busy": "2022-04-24T18:10:57.164980Z",
     "iopub.status.idle": "2022-04-24T18:10:57.366930Z",
     "shell.execute_reply": "2022-04-24T18:10:57.366298Z"
    },
    "papermill": {
     "duration": 0.306548,
     "end_time": "2022-04-24T18:10:57.369098",
     "exception": false,
     "start_time": "2022-04-24T18:10:57.062550",
     "status": "completed"
    },
    "tags": []
   },
   "outputs": [
    {
     "data": {
      "text/html": [
       "<div>\n",
       "<style scoped>\n",
       "    .dataframe tbody tr th:only-of-type {\n",
       "        vertical-align: middle;\n",
       "    }\n",
       "\n",
       "    .dataframe tbody tr th {\n",
       "        vertical-align: top;\n",
       "    }\n",
       "\n",
       "    .dataframe thead th {\n",
       "        text-align: right;\n",
       "    }\n",
       "</style>\n",
       "<table border=\"1\" class=\"dataframe\">\n",
       "  <thead>\n",
       "    <tr style=\"text-align: right;\">\n",
       "      <th></th>\n",
       "      <th>merchant</th>\n",
       "      <th>category</th>\n",
       "      <th>first</th>\n",
       "      <th>last</th>\n",
       "      <th>gender</th>\n",
       "      <th>street</th>\n",
       "      <th>city</th>\n",
       "      <th>state</th>\n",
       "      <th>job</th>\n",
       "      <th>trans_num</th>\n",
       "      <th>is_fraud_cat</th>\n",
       "    </tr>\n",
       "  </thead>\n",
       "  <tbody>\n",
       "    <tr>\n",
       "      <th>0</th>\n",
       "      <td>fraud_Kirlin and Sons</td>\n",
       "      <td>personal_care</td>\n",
       "      <td>Jeff</td>\n",
       "      <td>Elliott</td>\n",
       "      <td>M</td>\n",
       "      <td>351 Darlene Green</td>\n",
       "      <td>Columbia</td>\n",
       "      <td>SC</td>\n",
       "      <td>Mechanical engineer</td>\n",
       "      <td>2da90c7d74bd46a0caf3777415b3ebd3</td>\n",
       "      <td>F</td>\n",
       "    </tr>\n",
       "    <tr>\n",
       "      <th>1</th>\n",
       "      <td>fraud_Sporer-Keebler</td>\n",
       "      <td>personal_care</td>\n",
       "      <td>Joanne</td>\n",
       "      <td>Williams</td>\n",
       "      <td>F</td>\n",
       "      <td>3638 Marsh Union</td>\n",
       "      <td>Altonah</td>\n",
       "      <td>UT</td>\n",
       "      <td>Sales professional, IT</td>\n",
       "      <td>324cc204407e99f51b0d6ca0055005e7</td>\n",
       "      <td>F</td>\n",
       "    </tr>\n",
       "    <tr>\n",
       "      <th>2</th>\n",
       "      <td>fraud_Swaniawski, Nitzsche and Welch</td>\n",
       "      <td>health_fitness</td>\n",
       "      <td>Ashley</td>\n",
       "      <td>Lopez</td>\n",
       "      <td>F</td>\n",
       "      <td>9333 Valentine Point</td>\n",
       "      <td>Bellmore</td>\n",
       "      <td>NY</td>\n",
       "      <td>Librarian, public</td>\n",
       "      <td>c81755dbbbea9d5c77f094348a7579be</td>\n",
       "      <td>F</td>\n",
       "    </tr>\n",
       "    <tr>\n",
       "      <th>3</th>\n",
       "      <td>fraud_Haley Group</td>\n",
       "      <td>misc_pos</td>\n",
       "      <td>Brian</td>\n",
       "      <td>Williams</td>\n",
       "      <td>M</td>\n",
       "      <td>32941 Krystal Mill Apt. 552</td>\n",
       "      <td>Titusville</td>\n",
       "      <td>FL</td>\n",
       "      <td>Set designer</td>\n",
       "      <td>2159175b9efe66dc301f149d3d5abf8c</td>\n",
       "      <td>F</td>\n",
       "    </tr>\n",
       "    <tr>\n",
       "      <th>4</th>\n",
       "      <td>fraud_Johnston-Casper</td>\n",
       "      <td>travel</td>\n",
       "      <td>Nathan</td>\n",
       "      <td>Massey</td>\n",
       "      <td>M</td>\n",
       "      <td>5783 Evan Roads Apt. 465</td>\n",
       "      <td>Falmouth</td>\n",
       "      <td>MI</td>\n",
       "      <td>Furniture designer</td>\n",
       "      <td>57ff021bd3f328f8738bb535c302a31b</td>\n",
       "      <td>F</td>\n",
       "    </tr>\n",
       "    <tr>\n",
       "      <th>...</th>\n",
       "      <td>...</td>\n",
       "      <td>...</td>\n",
       "      <td>...</td>\n",
       "      <td>...</td>\n",
       "      <td>...</td>\n",
       "      <td>...</td>\n",
       "      <td>...</td>\n",
       "      <td>...</td>\n",
       "      <td>...</td>\n",
       "      <td>...</td>\n",
       "      <td>...</td>\n",
       "    </tr>\n",
       "    <tr>\n",
       "      <th>1296670</th>\n",
       "      <td>fraud_Reichel Inc</td>\n",
       "      <td>entertainment</td>\n",
       "      <td>Erik</td>\n",
       "      <td>Patterson</td>\n",
       "      <td>M</td>\n",
       "      <td>162 Jessica Row Apt. 072</td>\n",
       "      <td>Hatch</td>\n",
       "      <td>UT</td>\n",
       "      <td>Geoscientist</td>\n",
       "      <td>440b587732da4dc1a6395aba5fb41669</td>\n",
       "      <td>F</td>\n",
       "    </tr>\n",
       "    <tr>\n",
       "      <th>1296671</th>\n",
       "      <td>fraud_Abernathy and Sons</td>\n",
       "      <td>food_dining</td>\n",
       "      <td>Jeffrey</td>\n",
       "      <td>White</td>\n",
       "      <td>M</td>\n",
       "      <td>8617 Holmes Terrace Suite 651</td>\n",
       "      <td>Tuscarora</td>\n",
       "      <td>MD</td>\n",
       "      <td>Production assistant, television</td>\n",
       "      <td>278000d2e0d2277d1de2f890067dcc0a</td>\n",
       "      <td>F</td>\n",
       "    </tr>\n",
       "    <tr>\n",
       "      <th>1296672</th>\n",
       "      <td>fraud_Stiedemann Ltd</td>\n",
       "      <td>food_dining</td>\n",
       "      <td>Christopher</td>\n",
       "      <td>Castaneda</td>\n",
       "      <td>M</td>\n",
       "      <td>1632 Cohen Drive Suite 639</td>\n",
       "      <td>High Rolls Mountain Park</td>\n",
       "      <td>NM</td>\n",
       "      <td>Naval architect</td>\n",
       "      <td>483f52fe67fabef353d552c1e662974c</td>\n",
       "      <td>F</td>\n",
       "    </tr>\n",
       "    <tr>\n",
       "      <th>1296673</th>\n",
       "      <td>fraud_Reinger, Weissnat and Strosin</td>\n",
       "      <td>food_dining</td>\n",
       "      <td>Joseph</td>\n",
       "      <td>Murray</td>\n",
       "      <td>M</td>\n",
       "      <td>42933 Ryan Underpass</td>\n",
       "      <td>Manderson</td>\n",
       "      <td>SD</td>\n",
       "      <td>Volunteer coordinator</td>\n",
       "      <td>d667cdcbadaaed3da3f4020e83591c83</td>\n",
       "      <td>F</td>\n",
       "    </tr>\n",
       "    <tr>\n",
       "      <th>1296674</th>\n",
       "      <td>fraud_Langosh, Wintheiser and Hyatt</td>\n",
       "      <td>food_dining</td>\n",
       "      <td>Jeffrey</td>\n",
       "      <td>Smith</td>\n",
       "      <td>M</td>\n",
       "      <td>135 Joseph Mountains</td>\n",
       "      <td>Sula</td>\n",
       "      <td>MT</td>\n",
       "      <td>Therapist, horticultural</td>\n",
       "      <td>8f7c8e4ab7f25875d753b422917c98c9</td>\n",
       "      <td>F</td>\n",
       "    </tr>\n",
       "  </tbody>\n",
       "</table>\n",
       "<p>1852394 rows × 11 columns</p>\n",
       "</div>"
      ],
      "text/plain": [
       "                                     merchant        category        first  \\\n",
       "0                       fraud_Kirlin and Sons   personal_care         Jeff   \n",
       "1                        fraud_Sporer-Keebler   personal_care       Joanne   \n",
       "2        fraud_Swaniawski, Nitzsche and Welch  health_fitness       Ashley   \n",
       "3                           fraud_Haley Group        misc_pos        Brian   \n",
       "4                       fraud_Johnston-Casper          travel       Nathan   \n",
       "...                                       ...             ...          ...   \n",
       "1296670                     fraud_Reichel Inc   entertainment         Erik   \n",
       "1296671              fraud_Abernathy and Sons     food_dining      Jeffrey   \n",
       "1296672                  fraud_Stiedemann Ltd     food_dining  Christopher   \n",
       "1296673   fraud_Reinger, Weissnat and Strosin     food_dining       Joseph   \n",
       "1296674   fraud_Langosh, Wintheiser and Hyatt     food_dining      Jeffrey   \n",
       "\n",
       "              last gender                         street  \\\n",
       "0          Elliott      M              351 Darlene Green   \n",
       "1         Williams      F               3638 Marsh Union   \n",
       "2            Lopez      F           9333 Valentine Point   \n",
       "3         Williams      M    32941 Krystal Mill Apt. 552   \n",
       "4           Massey      M       5783 Evan Roads Apt. 465   \n",
       "...            ...    ...                            ...   \n",
       "1296670  Patterson      M       162 Jessica Row Apt. 072   \n",
       "1296671      White      M  8617 Holmes Terrace Suite 651   \n",
       "1296672  Castaneda      M     1632 Cohen Drive Suite 639   \n",
       "1296673     Murray      M           42933 Ryan Underpass   \n",
       "1296674      Smith      M           135 Joseph Mountains   \n",
       "\n",
       "                             city state                               job  \\\n",
       "0                        Columbia    SC               Mechanical engineer   \n",
       "1                         Altonah    UT            Sales professional, IT   \n",
       "2                        Bellmore    NY                 Librarian, public   \n",
       "3                      Titusville    FL                      Set designer   \n",
       "4                        Falmouth    MI                Furniture designer   \n",
       "...                           ...   ...                               ...   \n",
       "1296670                     Hatch    UT                      Geoscientist   \n",
       "1296671                 Tuscarora    MD  Production assistant, television   \n",
       "1296672  High Rolls Mountain Park    NM                   Naval architect   \n",
       "1296673                 Manderson    SD             Volunteer coordinator   \n",
       "1296674                      Sula    MT          Therapist, horticultural   \n",
       "\n",
       "                                trans_num is_fraud_cat  \n",
       "0        2da90c7d74bd46a0caf3777415b3ebd3            F  \n",
       "1        324cc204407e99f51b0d6ca0055005e7            F  \n",
       "2        c81755dbbbea9d5c77f094348a7579be            F  \n",
       "3        2159175b9efe66dc301f149d3d5abf8c            F  \n",
       "4        57ff021bd3f328f8738bb535c302a31b            F  \n",
       "...                                   ...          ...  \n",
       "1296670  440b587732da4dc1a6395aba5fb41669            F  \n",
       "1296671  278000d2e0d2277d1de2f890067dcc0a            F  \n",
       "1296672  483f52fe67fabef353d552c1e662974c            F  \n",
       "1296673  d667cdcbadaaed3da3f4020e83591c83            F  \n",
       "1296674  8f7c8e4ab7f25875d753b422917c98c9            F  \n",
       "\n",
       "[1852394 rows x 11 columns]"
      ]
     },
     "execution_count": 14,
     "metadata": {},
     "output_type": "execute_result"
    }
   ],
   "source": [
    "total[totalcat.columns]"
   ]
  },
  {
   "cell_type": "code",
   "execution_count": 15,
   "id": "e55d1403",
   "metadata": {
    "execution": {
     "iopub.execute_input": "2022-04-24T18:10:57.574998Z",
     "iopub.status.busy": "2022-04-24T18:10:57.574717Z",
     "iopub.status.idle": "2022-04-24T18:10:58.117979Z",
     "shell.execute_reply": "2022-04-24T18:10:58.117147Z"
    },
    "papermill": {
     "duration": 0.648097,
     "end_time": "2022-04-24T18:10:58.120184",
     "exception": false,
     "start_time": "2022-04-24T18:10:57.472087",
     "status": "completed"
    },
    "tags": []
   },
   "outputs": [
    {
     "name": "stderr",
     "output_type": "stream",
     "text": [
      "C:\\Users\\surya\\anaconda3\\lib\\site-packages\\seaborn\\_decorators.py:36: FutureWarning: Pass the following variable as a keyword arg: x. From version 0.12, the only valid positional argument will be `data`, and passing other arguments without an explicit keyword will result in an error or misinterpretation.\n",
      "  warnings.warn(\n"
     ]
    },
    {
     "data": {
      "image/png": "[encoded data removed]",
      "text/plain": [
       "<Figure size 432x288 with 1 Axes>"
      ]
     },
     "metadata": {
      "needs_background": "light"
     },
     "output_type": "display_data"
    }
   ],
   "source": [
    "sns.countplot(total[total['is_fraud_cat']==\"T\"].category)\n",
    "plt.xticks(rotation=45)\n",
    "plt.show()"
   ]
  },
  {
   "cell_type": "markdown",
   "id": "3070f03c",
   "metadata": {
    "papermill": {
     "duration": 0.103252,
     "end_time": "2022-04-24T18:10:58.327599",
     "exception": false,
     "start_time": "2022-04-24T18:10:58.224347",
     "status": "completed"
    },
    "tags": []
   },
   "source": [
    "#### Insight- \n",
    "Most frauds occured in categories of shopping_net and grocery_pos"
   ]
  },
  {
   "cell_type": "code",
   "execution_count": 16,
   "id": "4e4d1b35",
   "metadata": {
    "execution": {
     "iopub.execute_input": "2022-04-24T18:10:58.557854Z",
     "iopub.status.busy": "2022-04-24T18:10:58.557597Z",
     "iopub.status.idle": "2022-04-24T18:10:59.037557Z",
     "shell.execute_reply": "2022-04-24T18:10:59.036006Z"
    },
    "papermill": {
     "duration": 0.594778,
     "end_time": "2022-04-24T18:10:59.040282",
     "exception": false,
     "start_time": "2022-04-24T18:10:58.445504",
     "status": "completed"
    },
    "tags": []
   },
   "outputs": [
    {
     "name": "stderr",
     "output_type": "stream",
     "text": [
      "C:\\Users\\surya\\anaconda3\\lib\\site-packages\\seaborn\\_decorators.py:36: FutureWarning: Pass the following variable as a keyword arg: x. From version 0.12, the only valid positional argument will be `data`, and passing other arguments without an explicit keyword will result in an error or misinterpretation.\n",
      "  warnings.warn(\n"
     ]
    },
    {
     "data": {
      "image/png": "[encoded data removed]",
      "text/plain": [
       "<Figure size 432x288 with 1 Axes>"
      ]
     },
     "metadata": {
      "needs_background": "light"
     },
     "output_type": "display_data"
    }
   ],
   "source": [
    "sns.countplot(total[total['is_fraud_cat']==\"T\"].gender)\n",
    "plt.xticks(rotation=45)\n",
    "plt.show()"
   ]
  },
  {
   "cell_type": "markdown",
   "id": "011b6c3b",
   "metadata": {
    "papermill": {
     "duration": 0.104125,
     "end_time": "2022-04-24T18:10:59.250097",
     "exception": false,
     "start_time": "2022-04-24T18:10:59.145972",
     "status": "completed"
    },
    "tags": []
   },
   "source": [
    "#### Insight- \n",
    "Although more cases of fraud happened with female customers, the number is almost  the same for both Males and Females"
   ]
  },
  {
   "cell_type": "code",
   "execution_count": 17,
   "id": "413a2205",
   "metadata": {
    "execution": {
     "iopub.execute_input": "2022-04-24T18:10:59.464045Z",
     "iopub.status.busy": "2022-04-24T18:10:59.463636Z",
     "iopub.status.idle": "2022-04-24T18:11:02.389176Z",
     "shell.execute_reply": "2022-04-24T18:11:02.388303Z"
    },
    "papermill": {
     "duration": 3.038137,
     "end_time": "2022-04-24T18:11:02.394980",
     "exception": false,
     "start_time": "2022-04-24T18:10:59.356843",
     "status": "completed"
    },
    "tags": []
   },
   "outputs": [
    {
     "name": "stderr",
     "output_type": "stream",
     "text": [
      "C:\\Users\\surya\\anaconda3\\lib\\site-packages\\seaborn\\_decorators.py:36: FutureWarning: Pass the following variable as a keyword arg: x. From version 0.12, the only valid positional argument will be `data`, and passing other arguments without an explicit keyword will result in an error or misinterpretation.\n",
      "  warnings.warn(\n"
     ]
    },
    {
     "data": {
      "image/png": "[encoded data removed]",
      "text/plain": [
       "<Figure size 8640x4320 with 1 Axes>"
      ]
     },
     "metadata": {
      "needs_background": "light"
     },
     "output_type": "display_data"
    }
   ],
   "source": [
    "fig, ax = plt.subplots(figsize=(120,60))\n",
    "plt.rcParams.update({'font.size': 60})\n",
    "sns.countplot(total[total['is_fraud_cat']==\"T\"].state)\n",
    "plt.xticks(rotation=45)\n",
    "for p, label in zip(ax.patches, total[\"state\"].value_counts().index):\n",
    "    ax.annotate(label, (p.get_x(), p.get_height()+0.15))\n",
    "plt.title(\"Number of Credit Card Frauds by State\")\n",
    "plt.show()"
   ]
  },
  {
   "cell_type": "markdown",
   "id": "4349823d",
   "metadata": {
    "papermill": {
     "duration": 0.112865,
     "end_time": "2022-04-24T18:11:02.622001",
     "exception": false,
     "start_time": "2022-04-24T18:11:02.509136",
     "status": "completed"
    },
    "tags": []
   },
   "source": [
    "#### Insight- \n",
    "States OH, TX and LA report the most number of credit card frauds"
   ]
  },
  {
   "cell_type": "code",
   "execution_count": 18,
   "id": "33f1fe95",
   "metadata": {
    "execution": {
     "iopub.execute_input": "2022-04-24T18:11:02.849714Z",
     "iopub.status.busy": "2022-04-24T18:11:02.849118Z",
     "iopub.status.idle": "2022-04-24T18:11:03.385048Z",
     "shell.execute_reply": "2022-04-24T18:11:03.384110Z"
    },
    "papermill": {
     "duration": 0.652079,
     "end_time": "2022-04-24T18:11:03.387405",
     "exception": false,
     "start_time": "2022-04-24T18:11:02.735326",
     "status": "completed"
    },
    "tags": []
   },
   "outputs": [
    {
     "data": {
      "image/png": "[encoded data removed]",
      "text/plain": [
       "<Figure size 432x288 with 1 Axes>"
      ]
     },
     "metadata": {
      "needs_background": "light"
     },
     "output_type": "display_data"
    }
   ],
   "source": [
    "import random\n",
    "def randomcolor():\n",
    "    r = random.random()\n",
    "    b = random.random()\n",
    "    g = random.random()\n",
    "    rgb = [r,g,b]\n",
    "    return rgb\n",
    "plt.rcParams.update({'font.size': 20})\n",
    "total[total['is_fraud_cat']==\"T\"][\"city\"].value_counts(sort=True,ascending=False).head(10).plot(kind=\"bar\",color=randomcolor())\n",
    "plt.title(\"Number of Credit Card Frauds by City\")\n",
    "plt.show()"
   ]
  },
  {
   "cell_type": "markdown",
   "id": "add26de3",
   "metadata": {
    "papermill": {
     "duration": 0.115035,
     "end_time": "2022-04-24T18:11:03.617910",
     "exception": false,
     "start_time": "2022-04-24T18:11:03.502875",
     "status": "completed"
    },
    "tags": []
   },
   "source": [
    "#### Insight- \n",
    "Dallas,Houston and Birmingham report the most frauds city wise."
   ]
  },
  {
   "cell_type": "code",
   "execution_count": 33,
   "id": "18c08f1b",
   "metadata": {},
   "outputs": [
    {
     "name": "stdout",
     "output_type": "stream",
     "text": [
      "Materials engineer                       62\n",
      "Trading standards officer                56\n",
      "Naval architect                          53\n",
      "Exhibition designer                      51\n",
      "Surveyor, land/geomatics                 50\n",
      "Mechanical engineer                      49\n",
      "Prison officer                           48\n",
      "Quantity surveyor                        48\n",
      "Audiological scientist                   46\n",
      "Senior tax professional/tax inspector    45\n",
      "Name: job, dtype: int64\n"
     ]
    }
   ],
   "source": [
    "# train\n",
    "\n",
    "print(train[train['is_fraud']==1][\"job\"].value_counts(sort=True,ascending=False).head(10))\n",
    "ans = train[train['is_fraud']==1][\"job\"].value_counts(sort=True,ascending=False).head(10)"
   ]
  },
  {
   "cell_type": "code",
   "execution_count": 34,
   "id": "faff292f",
   "metadata": {},
   "outputs": [
    {
     "name": "stdout",
     "output_type": "stream",
     "text": [
      "{'Materials engineer': 62, 'Trading standards officer': 56, 'Naval architect': 53, 'Exhibition designer': 51, 'Surveyor, land/geomatics': 50, 'Mechanical engineer': 49, 'Prison officer': 48, 'Quantity surveyor': 48, 'Audiological scientist': 46, 'Senior tax professional/tax inspector': 45}\n"
     ]
    }
   ],
   "source": [
    "a = ans.to_dict()\n",
    "print(a)"
   ]
  },
  {
   "cell_type": "code",
   "execution_count": 19,
   "id": "d7130e92",
   "metadata": {
    "execution": {
     "iopub.execute_input": "2022-04-24T18:11:03.848521Z",
     "iopub.status.busy": "2022-04-24T18:11:03.848214Z",
     "iopub.status.idle": "2022-04-24T18:11:04.384267Z",
     "shell.execute_reply": "2022-04-24T18:11:04.383536Z"
    },
    "papermill": {
     "duration": 0.653012,
     "end_time": "2022-04-24T18:11:04.386380",
     "exception": false,
     "start_time": "2022-04-24T18:11:03.733368",
     "status": "completed"
    },
    "tags": []
   },
   "outputs": [
    {
     "data": {
      "image/png": "[encoded data removed]",
      "text/plain": [
       "<Figure size 432x288 with 1 Axes>"
      ]
     },
     "metadata": {
      "needs_background": "light"
     },
     "output_type": "display_data"
    }
   ],
   "source": [
    "total[total['is_fraud_cat']==\"T\"][\"job\"].value_counts(sort=True,ascending=False).head(10).plot(kind=\"bar\",color=randomcolor())\n",
    "plt.title(\"Number of Credit Card Frauds by Job\")\n",
    "plt.show()"
   ]
  },
  {
   "cell_type": "markdown",
   "id": "f5ddedb1",
   "metadata": {
    "papermill": {
     "duration": 0.115213,
     "end_time": "2022-04-24T18:11:04.617788",
     "exception": false,
     "start_time": "2022-04-24T18:11:04.502575",
     "status": "completed"
    },
    "tags": []
   },
   "source": [
    "#### Insight- \n",
    "Most frauds occured in jobs of quantity surveyor followed by naval architect and materials engineer"
   ]
  },
  {
   "cell_type": "markdown",
   "id": "b95aec04",
   "metadata": {
    "papermill": {
     "duration": 0.115883,
     "end_time": "2022-04-24T18:11:04.849704",
     "exception": false,
     "start_time": "2022-04-24T18:11:04.733821",
     "status": "completed"
    },
    "tags": []
   },
   "source": [
    "### Numerical Variable Analysis\n",
    "checking the spread & skewness of all numerical variables"
   ]
  },
  {
   "cell_type": "code",
   "execution_count": 20,
   "id": "730fb49c",
   "metadata": {
    "execution": {
     "iopub.execute_input": "2022-04-24T18:11:05.084372Z",
     "iopub.status.busy": "2022-04-24T18:11:05.084077Z",
     "iopub.status.idle": "2022-04-24T18:11:05.088962Z",
     "shell.execute_reply": "2022-04-24T18:11:05.088332Z"
    },
    "papermill": {
     "duration": 0.124663,
     "end_time": "2022-04-24T18:11:05.090897",
     "exception": false,
     "start_time": "2022-04-24T18:11:04.966234",
     "status": "completed"
    },
    "tags": []
   },
   "outputs": [],
   "source": [
    "del total['is_fraud_cat']\n",
    "from scipy.stats import norm, skew"
   ]
  },
  {
   "cell_type": "code",
   "execution_count": 21,
   "id": "e6e326e3",
   "metadata": {
    "execution": {
     "iopub.execute_input": "2022-04-24T18:11:05.325750Z",
     "iopub.status.busy": "2022-04-24T18:11:05.325467Z",
     "iopub.status.idle": "2022-04-24T18:11:05.368594Z",
     "shell.execute_reply": "2022-04-24T18:11:05.367846Z"
    },
    "papermill": {
     "duration": 0.162835,
     "end_time": "2022-04-24T18:11:05.370937",
     "exception": false,
     "start_time": "2022-04-24T18:11:05.208102",
     "status": "completed"
    },
    "tags": []
   },
   "outputs": [
    {
     "data": {
      "text/html": [
       "<div>\n",
       "<style scoped>\n",
       "    .dataframe tbody tr th:only-of-type {\n",
       "        vertical-align: middle;\n",
       "    }\n",
       "\n",
       "    .dataframe tbody tr th {\n",
       "        vertical-align: top;\n",
       "    }\n",
       "\n",
       "    .dataframe thead th {\n",
       "        text-align: right;\n",
       "    }\n",
       "</style>\n",
       "<table border=\"1\" class=\"dataframe\">\n",
       "  <thead>\n",
       "    <tr style=\"text-align: right;\">\n",
       "      <th></th>\n",
       "      <th>cc_num</th>\n",
       "      <th>amt</th>\n",
       "      <th>zip</th>\n",
       "      <th>lat</th>\n",
       "      <th>long</th>\n",
       "      <th>city_pop</th>\n",
       "      <th>unix_time</th>\n",
       "      <th>merch_lat</th>\n",
       "      <th>merch_long</th>\n",
       "      <th>is_fraud</th>\n",
       "    </tr>\n",
       "  </thead>\n",
       "  <tbody>\n",
       "    <tr>\n",
       "      <th>0</th>\n",
       "      <td>2291163933867244</td>\n",
       "      <td>2.86</td>\n",
       "      <td>29209</td>\n",
       "      <td>33.9659</td>\n",
       "      <td>-80.9355</td>\n",
       "      <td>333497</td>\n",
       "      <td>1371816865</td>\n",
       "      <td>33.986391</td>\n",
       "      <td>-81.200714</td>\n",
       "      <td>0</td>\n",
       "    </tr>\n",
       "    <tr>\n",
       "      <th>1</th>\n",
       "      <td>3573030041201292</td>\n",
       "      <td>29.84</td>\n",
       "      <td>84002</td>\n",
       "      <td>40.3207</td>\n",
       "      <td>-110.4360</td>\n",
       "      <td>302</td>\n",
       "      <td>1371816873</td>\n",
       "      <td>39.450498</td>\n",
       "      <td>-109.960431</td>\n",
       "      <td>0</td>\n",
       "    </tr>\n",
       "    <tr>\n",
       "      <th>2</th>\n",
       "      <td>3598215285024754</td>\n",
       "      <td>41.28</td>\n",
       "      <td>11710</td>\n",
       "      <td>40.6729</td>\n",
       "      <td>-73.5365</td>\n",
       "      <td>34496</td>\n",
       "      <td>1371816893</td>\n",
       "      <td>40.495810</td>\n",
       "      <td>-74.196111</td>\n",
       "      <td>0</td>\n",
       "    </tr>\n",
       "    <tr>\n",
       "      <th>3</th>\n",
       "      <td>3591919803438423</td>\n",
       "      <td>60.05</td>\n",
       "      <td>32780</td>\n",
       "      <td>28.5697</td>\n",
       "      <td>-80.8191</td>\n",
       "      <td>54767</td>\n",
       "      <td>1371816915</td>\n",
       "      <td>28.812398</td>\n",
       "      <td>-80.883061</td>\n",
       "      <td>0</td>\n",
       "    </tr>\n",
       "    <tr>\n",
       "      <th>4</th>\n",
       "      <td>3526826139003047</td>\n",
       "      <td>3.19</td>\n",
       "      <td>49632</td>\n",
       "      <td>44.2529</td>\n",
       "      <td>-85.0170</td>\n",
       "      <td>1126</td>\n",
       "      <td>1371816917</td>\n",
       "      <td>44.959148</td>\n",
       "      <td>-85.884734</td>\n",
       "      <td>0</td>\n",
       "    </tr>\n",
       "    <tr>\n",
       "      <th>...</th>\n",
       "      <td>...</td>\n",
       "      <td>...</td>\n",
       "      <td>...</td>\n",
       "      <td>...</td>\n",
       "      <td>...</td>\n",
       "      <td>...</td>\n",
       "      <td>...</td>\n",
       "      <td>...</td>\n",
       "      <td>...</td>\n",
       "      <td>...</td>\n",
       "    </tr>\n",
       "    <tr>\n",
       "      <th>555714</th>\n",
       "      <td>30560609640617</td>\n",
       "      <td>43.77</td>\n",
       "      <td>63453</td>\n",
       "      <td>40.4931</td>\n",
       "      <td>-91.8912</td>\n",
       "      <td>519</td>\n",
       "      <td>1388534347</td>\n",
       "      <td>39.946837</td>\n",
       "      <td>-91.333331</td>\n",
       "      <td>0</td>\n",
       "    </tr>\n",
       "    <tr>\n",
       "      <th>555715</th>\n",
       "      <td>3556613125071656</td>\n",
       "      <td>111.84</td>\n",
       "      <td>77566</td>\n",
       "      <td>29.0393</td>\n",
       "      <td>-95.4401</td>\n",
       "      <td>28739</td>\n",
       "      <td>1388534349</td>\n",
       "      <td>29.661049</td>\n",
       "      <td>-96.186633</td>\n",
       "      <td>0</td>\n",
       "    </tr>\n",
       "    <tr>\n",
       "      <th>555716</th>\n",
       "      <td>6011724471098086</td>\n",
       "      <td>86.88</td>\n",
       "      <td>99323</td>\n",
       "      <td>46.1966</td>\n",
       "      <td>-118.9017</td>\n",
       "      <td>3684</td>\n",
       "      <td>1388534355</td>\n",
       "      <td>46.658340</td>\n",
       "      <td>-119.715054</td>\n",
       "      <td>0</td>\n",
       "    </tr>\n",
       "    <tr>\n",
       "      <th>555717</th>\n",
       "      <td>4079773899158</td>\n",
       "      <td>7.99</td>\n",
       "      <td>83643</td>\n",
       "      <td>44.6255</td>\n",
       "      <td>-116.4493</td>\n",
       "      <td>129</td>\n",
       "      <td>1388534364</td>\n",
       "      <td>44.470525</td>\n",
       "      <td>-117.080888</td>\n",
       "      <td>0</td>\n",
       "    </tr>\n",
       "    <tr>\n",
       "      <th>555718</th>\n",
       "      <td>4170689372027579</td>\n",
       "      <td>38.13</td>\n",
       "      <td>73034</td>\n",
       "      <td>35.6665</td>\n",
       "      <td>-97.4798</td>\n",
       "      <td>116001</td>\n",
       "      <td>1388534374</td>\n",
       "      <td>36.210097</td>\n",
       "      <td>-97.036372</td>\n",
       "      <td>0</td>\n",
       "    </tr>\n",
       "  </tbody>\n",
       "</table>\n",
       "<p>555719 rows × 10 columns</p>\n",
       "</div>"
      ],
      "text/plain": [
       "                  cc_num     amt    zip      lat      long  city_pop  \\\n",
       "0       2291163933867244    2.86  29209  33.9659  -80.9355    333497   \n",
       "1       3573030041201292   29.84  84002  40.3207 -110.4360       302   \n",
       "2       3598215285024754   41.28  11710  40.6729  -73.5365     34496   \n",
       "3       3591919803438423   60.05  32780  28.5697  -80.8191     54767   \n",
       "4       3526826139003047    3.19  49632  44.2529  -85.0170      1126   \n",
       "...                  ...     ...    ...      ...       ...       ...   \n",
       "555714    30560609640617   43.77  63453  40.4931  -91.8912       519   \n",
       "555715  3556613125071656  111.84  77566  29.0393  -95.4401     28739   \n",
       "555716  6011724471098086   86.88  99323  46.1966 -118.9017      3684   \n",
       "555717     4079773899158    7.99  83643  44.6255 -116.4493       129   \n",
       "555718  4170689372027579   38.13  73034  35.6665  -97.4798    116001   \n",
       "\n",
       "         unix_time  merch_lat  merch_long  is_fraud  \n",
       "0       1371816865  33.986391  -81.200714         0  \n",
       "1       1371816873  39.450498 -109.960431         0  \n",
       "2       1371816893  40.495810  -74.196111         0  \n",
       "3       1371816915  28.812398  -80.883061         0  \n",
       "4       1371816917  44.959148  -85.884734         0  \n",
       "...            ...        ...         ...       ...  \n",
       "555714  1388534347  39.946837  -91.333331         0  \n",
       "555715  1388534349  29.661049  -96.186633         0  \n",
       "555716  1388534355  46.658340 -119.715054         0  \n",
       "555717  1388534364  44.470525 -117.080888         0  \n",
       "555718  1388534374  36.210097  -97.036372         0  \n",
       "\n",
       "[555719 rows x 10 columns]"
      ]
     },
     "execution_count": 21,
     "metadata": {},
     "output_type": "execute_result"
    }
   ],
   "source": [
    "#finding numerical columns\n",
    "testnum= test.select_dtypes(include=np.number)\n",
    "test[testnum.columns]"
   ]
  },
  {
   "cell_type": "code",
   "execution_count": 22,
   "id": "cf029821",
   "metadata": {
    "execution": {
     "iopub.execute_input": "2022-04-24T18:11:05.606459Z",
     "iopub.status.busy": "2022-04-24T18:11:05.606183Z",
     "iopub.status.idle": "2022-04-24T18:11:07.608883Z",
     "shell.execute_reply": "2022-04-24T18:11:07.607951Z"
    },
    "papermill": {
     "duration": 2.122377,
     "end_time": "2022-04-24T18:11:07.611159",
     "exception": false,
     "start_time": "2022-04-24T18:11:05.488782",
     "status": "completed"
    },
    "tags": []
   },
   "outputs": [
    {
     "data": {
      "text/plain": [
       "trans_date_trans_time    0\n",
       "cc_num                   0\n",
       "merchant                 0\n",
       "category                 0\n",
       "amt                      0\n",
       "first                    0\n",
       "last                     0\n",
       "gender                   0\n",
       "street                   0\n",
       "city                     0\n",
       "state                    0\n",
       "zip                      0\n",
       "lat                      0\n",
       "long                     0\n",
       "city_pop                 0\n",
       "job                      0\n",
       "dob                      0\n",
       "trans_num                0\n",
       "unix_time                0\n",
       "merch_lat                0\n",
       "merch_long               0\n",
       "is_fraud                 0\n",
       "trans_date               0\n",
       "dtype: int64"
      ]
     },
     "execution_count": 22,
     "metadata": {},
     "output_type": "execute_result"
    }
   ],
   "source": [
    "total.isnull().sum()"
   ]
  },
  {
   "cell_type": "code",
   "execution_count": 23,
   "id": "4939deee",
   "metadata": {
    "execution": {
     "iopub.execute_input": "2022-04-24T18:11:07.849443Z",
     "iopub.status.busy": "2022-04-24T18:11:07.848890Z",
     "iopub.status.idle": "2022-04-24T18:11:08.700043Z",
     "shell.execute_reply": "2022-04-24T18:11:08.699435Z"
    },
    "papermill": {
     "duration": 0.972948,
     "end_time": "2022-04-24T18:11:08.702578",
     "exception": false,
     "start_time": "2022-04-24T18:11:07.729630",
     "status": "completed"
    },
    "tags": []
   },
   "outputs": [
    {
     "name": "stdout",
     "output_type": "stream",
     "text": [
      "<class 'pandas.core.frame.DataFrame'>\n",
      "Int64Index: 1852394 entries, 0 to 1296674\n",
      "Data columns (total 10 columns):\n",
      " #   Column      Dtype  \n",
      "---  ------      -----  \n",
      " 0   cc_num      int64  \n",
      " 1   amt         float64\n",
      " 2   zip         int64  \n",
      " 3   lat         float64\n",
      " 4   long        float64\n",
      " 5   city_pop    int64  \n",
      " 6   unix_time   int64  \n",
      " 7   merch_lat   float64\n",
      " 8   merch_long  float64\n",
      " 9   is_fraud    int64  \n",
      "dtypes: float64(5), int64(5)\n",
      "memory usage: 155.5 MB\n"
     ]
    }
   ],
   "source": [
    "total[testnum.columns].info()"
   ]
  },
  {
   "cell_type": "code",
   "execution_count": 24,
   "id": "bde6f740",
   "metadata": {
    "execution": {
     "iopub.execute_input": "2022-04-24T18:11:08.941824Z",
     "iopub.status.busy": "2022-04-24T18:11:08.941320Z",
     "iopub.status.idle": "2022-04-24T18:11:15.318274Z",
     "shell.execute_reply": "2022-04-24T18:11:15.317215Z"
    },
    "papermill": {
     "duration": 6.499437,
     "end_time": "2022-04-24T18:11:15.320490",
     "exception": false,
     "start_time": "2022-04-24T18:11:08.821053",
     "status": "completed"
    },
    "tags": []
   },
   "outputs": [
    {
     "name": "stderr",
     "output_type": "stream",
     "text": [
      "C:\\Users\\surya\\anaconda3\\lib\\site-packages\\seaborn\\distributions.py:2557: FutureWarning: `distplot` is a deprecated function and will be removed in a future version. Please adapt your code to use either `displot` (a figure-level function with similar flexibility) or `histplot` (an axes-level function for histograms).\n",
      "  warnings.warn(msg, FutureWarning)\n"
     ]
    },
    {
     "data": {
      "image/png": "[encoded data removed]",
      "text/plain": [
       "<Figure size 432x288 with 1 Axes>"
      ]
     },
     "metadata": {
      "needs_background": "light"
     },
     "output_type": "display_data"
    }
   ],
   "source": [
    "plt.rcParams.update({'font.size': 10})\n",
    "skewness = str(skew(total['amt']))\n",
    "sns.distplot(total['amt'],fit = norm,color = randomcolor())\n",
    "plt.title(\"Skewness of amt\"+\" = \"+skewness)\n",
    "plt.show()"
   ]
  },
  {
   "cell_type": "markdown",
   "id": "a39cdc0e",
   "metadata": {
    "papermill": {
     "duration": 0.118243,
     "end_time": "2022-04-24T18:11:15.556919",
     "exception": false,
     "start_time": "2022-04-24T18:11:15.438676",
     "status": "completed"
    },
    "tags": []
   },
   "source": [
    "#### Inference:\n",
    "Most transactions are limited within a very small bracket, although transactions of large sums are very much present, which are likely to be fraud transactions."
   ]
  },
  {
   "cell_type": "code",
   "execution_count": 25,
   "id": "c52adf78",
   "metadata": {
    "execution": {
     "iopub.execute_input": "2022-04-24T18:11:15.797888Z",
     "iopub.status.busy": "2022-04-24T18:11:15.797370Z",
     "iopub.status.idle": "2022-04-24T18:11:22.892032Z",
     "shell.execute_reply": "2022-04-24T18:11:22.890983Z"
    },
    "papermill": {
     "duration": 7.219358,
     "end_time": "2022-04-24T18:11:22.894480",
     "exception": false,
     "start_time": "2022-04-24T18:11:15.675122",
     "status": "completed"
    },
    "tags": []
   },
   "outputs": [
    {
     "name": "stderr",
     "output_type": "stream",
     "text": [
      "C:\\Users\\surya\\anaconda3\\lib\\site-packages\\seaborn\\distributions.py:2557: FutureWarning: `distplot` is a deprecated function and will be removed in a future version. Please adapt your code to use either `displot` (a figure-level function with similar flexibility) or `histplot` (an axes-level function for histograms).\n",
      "  warnings.warn(msg, FutureWarning)\n"
     ]
    },
    {
     "data": {
      "image/png": "[encoded data removed]",
      "text/plain": [
       "<Figure size 432x288 with 1 Axes>"
      ]
     },
     "metadata": {
      "needs_background": "light"
     },
     "output_type": "display_data"
    }
   ],
   "source": [
    "skewness = str(skew(total['city_pop']))\n",
    "sns.distplot(total['city_pop'],fit = norm,color = randomcolor())\n",
    "plt.title(\"Skewness of population\"+\" = \"+skewness)\n",
    "plt.show()"
   ]
  },
  {
   "cell_type": "code",
   "execution_count": 26,
   "id": "0b734d73",
   "metadata": {
    "execution": {
     "iopub.execute_input": "2022-04-24T18:11:23.137701Z",
     "iopub.status.busy": "2022-04-24T18:11:23.136967Z",
     "iopub.status.idle": "2022-04-24T18:11:29.862063Z",
     "shell.execute_reply": "2022-04-24T18:11:29.861111Z"
    },
    "papermill": {
     "duration": 6.850782,
     "end_time": "2022-04-24T18:11:29.864675",
     "exception": false,
     "start_time": "2022-04-24T18:11:23.013893",
     "status": "completed"
    },
    "tags": []
   },
   "outputs": [
    {
     "name": "stderr",
     "output_type": "stream",
     "text": [
      "C:\\Users\\surya\\anaconda3\\lib\\site-packages\\seaborn\\distributions.py:2557: FutureWarning: `distplot` is a deprecated function and will be removed in a future version. Please adapt your code to use either `displot` (a figure-level function with similar flexibility) or `histplot` (an axes-level function for histograms).\n",
      "  warnings.warn(msg, FutureWarning)\n"
     ]
    },
    {
     "data": {
      "image/png": "[encoded data removed]",
      "text/plain": [
       "<Figure size 432x288 with 1 Axes>"
      ]
     },
     "metadata": {
      "needs_background": "light"
     },
     "output_type": "display_data"
    }
   ],
   "source": [
    "sns.distplot(total['is_fraud'],fit = norm,color = randomcolor())\n",
    "plt.title(\"Distribution of is_fraud\")\n",
    "plt.show()"
   ]
  },
  {
   "cell_type": "markdown",
   "id": "ee734ed0",
   "metadata": {
    "papermill": {
     "duration": 0.122247,
     "end_time": "2022-04-24T18:11:30.111151",
     "exception": false,
     "start_time": "2022-04-24T18:11:29.988904",
     "status": "completed"
    },
    "tags": []
   },
   "source": [
    "\n",
    "Certain numerical  columns are not needed for modeling and hence can be removed.\n",
    "\n",
    "Moreover,a lot of the data is highly skewed.\n",
    "\n",
    "one insight is that proportion of non fraud transactions are much much larger than fraud transactions so we are looking at an imbalanced dataset.\n"
   ]
  },
  {
   "cell_type": "code",
   "execution_count": 27,
   "id": "519017af",
   "metadata": {
    "execution": {
     "iopub.execute_input": "2022-04-24T18:11:30.393390Z",
     "iopub.status.busy": "2022-04-24T18:11:30.393084Z",
     "iopub.status.idle": "2022-04-24T18:11:30.579984Z",
     "shell.execute_reply": "2022-04-24T18:11:30.579120Z"
    },
    "papermill": {
     "duration": 0.322371,
     "end_time": "2022-04-24T18:11:30.582404",
     "exception": false,
     "start_time": "2022-04-24T18:11:30.260033",
     "status": "completed"
    },
    "tags": []
   },
   "outputs": [
    {
     "name": "stdout",
     "output_type": "stream",
     "text": [
      "<class 'pandas.core.frame.DataFrame'>\n",
      "Int64Index: 1852394 entries, 0 to 1296674\n",
      "Data columns (total 15 columns):\n",
      " #   Column                 Dtype         \n",
      "---  ------                 -----         \n",
      " 0   trans_date_trans_time  datetime64[ns]\n",
      " 1   category               object        \n",
      " 2   amt                    float64       \n",
      " 3   gender                 object        \n",
      " 4   city                   object        \n",
      " 5   state                  object        \n",
      " 6   lat                    float64       \n",
      " 7   long                   float64       \n",
      " 8   city_pop               int64         \n",
      " 9   job                    object        \n",
      " 10  dob                    datetime64[ns]\n",
      " 11  merch_lat              float64       \n",
      " 12  merch_long             float64       \n",
      " 13  is_fraud               int64         \n",
      " 14  trans_date             datetime64[ns]\n",
      "dtypes: datetime64[ns](3), float64(5), int64(2), object(5)\n",
      "memory usage: 226.1+ MB\n"
     ]
    }
   ],
   "source": [
    "total.drop(['cc_num','merchant','first','last','street','zip','trans_num','unix_time'],axis=1,inplace=True)\n",
    "total.info()"
   ]
  },
  {
   "cell_type": "code",
   "execution_count": 28,
   "id": "f419ad37",
   "metadata": {
    "execution": {
     "iopub.execute_input": "2022-04-24T18:11:30.832240Z",
     "iopub.status.busy": "2022-04-24T18:11:30.831698Z",
     "iopub.status.idle": "2022-04-24T18:11:31.208657Z",
     "shell.execute_reply": "2022-04-24T18:11:31.207518Z"
    },
    "papermill": {
     "duration": 0.50488,
     "end_time": "2022-04-24T18:11:31.210630",
     "exception": false,
     "start_time": "2022-04-24T18:11:30.705750",
     "status": "completed"
    },
    "tags": []
   },
   "outputs": [
    {
     "data": {
      "image/png": "[encoded data removed]",
      "text/plain": [
       "<Figure size 576x360 with 1 Axes>"
      ]
     },
     "metadata": {
      "needs_background": "light"
     },
     "output_type": "display_data"
    }
   ],
   "source": [
    "plt.figure(figsize=(8,5))\n",
    "ax = sns.countplot(x=\"is_fraud\", data=total,color=randomcolor())\n",
    "for p in ax.patches:\n",
    "     ax.annotate('{:.1f}'.format(p.get_height()), (p.get_x()+0.25, p.get_height()+0.01))\n",
    "plt.show()"
   ]
  },
  {
   "cell_type": "markdown",
   "id": "2ff0bb0f",
   "metadata": {
    "papermill": {
     "duration": 0.121882,
     "end_time": "2022-04-24T18:11:31.454464",
     "exception": false,
     "start_time": "2022-04-24T18:11:31.332582",
     "status": "completed"
    },
    "tags": []
   },
   "source": [
    "only around 10,000 entries represent fraud transactions out of nearly 1.8 million entries, hence we are looking at an imbalanced dataset.\n",
    "\n",
    "creating age variable from transaction dates and DOB."
   ]
  },
  {
   "cell_type": "code",
   "execution_count": 29,
   "id": "6ee46736",
   "metadata": {
    "execution": {
     "iopub.execute_input": "2022-04-24T18:11:31.709525Z",
     "iopub.status.busy": "2022-04-24T18:11:31.708659Z",
     "iopub.status.idle": "2022-04-24T18:11:31.863040Z",
     "shell.execute_reply": "2022-04-24T18:11:31.862015Z"
    },
    "papermill": {
     "duration": 0.283336,
     "end_time": "2022-04-24T18:11:31.865521",
     "exception": false,
     "start_time": "2022-04-24T18:11:31.582185",
     "status": "completed"
    },
    "tags": []
   },
   "outputs": [
    {
     "data": {
      "text/plain": [
       "0    52.0\n",
       "1    30.0\n",
       "2    49.0\n",
       "3    32.0\n",
       "4    64.0\n",
       "Name: age, dtype: float64"
      ]
     },
     "execution_count": 29,
     "metadata": {},
     "output_type": "execute_result"
    }
   ],
   "source": [
    "total[\"age\"] = total[\"trans_date\"]-total[\"dob\"]\n",
    "total[\"age\"]=total[\"age\"].astype('timedelta64[Y]')\n",
    "total[\"age\"].head()"
   ]
  },
  {
   "cell_type": "code",
   "execution_count": 30,
   "id": "3b6a3b1d",
   "metadata": {
    "execution": {
     "iopub.execute_input": "2022-04-24T18:11:32.114877Z",
     "iopub.status.busy": "2022-04-24T18:11:32.114267Z",
     "iopub.status.idle": "2022-04-24T18:11:32.125608Z",
     "shell.execute_reply": "2022-04-24T18:11:32.124679Z"
    },
    "papermill": {
     "duration": 0.138706,
     "end_time": "2022-04-24T18:11:32.127972",
     "exception": false,
     "start_time": "2022-04-24T18:11:31.989266",
     "status": "completed"
    },
    "tags": []
   },
   "outputs": [
    {
     "name": "stdout",
     "output_type": "stream",
     "text": [
      "<class 'pandas.core.frame.DataFrame'>\n",
      "Int64Index: 1852394 entries, 0 to 1296674\n",
      "Data columns (total 16 columns):\n",
      " #   Column                 Dtype         \n",
      "---  ------                 -----         \n",
      " 0   trans_date_trans_time  datetime64[ns]\n",
      " 1   category               object        \n",
      " 2   amt                    float64       \n",
      " 3   gender                 object        \n",
      " 4   city                   object        \n",
      " 5   state                  object        \n",
      " 6   lat                    float64       \n",
      " 7   long                   float64       \n",
      " 8   city_pop               int64         \n",
      " 9   job                    object        \n",
      " 10  dob                    datetime64[ns]\n",
      " 11  merch_lat              float64       \n",
      " 12  merch_long             float64       \n",
      " 13  is_fraud               int64         \n",
      " 14  trans_date             datetime64[ns]\n",
      " 15  age                    float64       \n",
      "dtypes: datetime64[ns](3), float64(6), int64(2), object(5)\n",
      "memory usage: 240.3+ MB\n"
     ]
    }
   ],
   "source": [
    "total.info()"
   ]
  },
  {
   "cell_type": "code",
   "execution_count": 31,
   "id": "aa7689a1",
   "metadata": {
    "execution": {
     "iopub.execute_input": "2022-04-24T18:11:32.378632Z",
     "iopub.status.busy": "2022-04-24T18:11:32.378368Z",
     "iopub.status.idle": "2022-04-24T18:11:32.646942Z",
     "shell.execute_reply": "2022-04-24T18:11:32.646280Z"
    },
    "papermill": {
     "duration": 0.396159,
     "end_time": "2022-04-24T18:11:32.648865",
     "exception": false,
     "start_time": "2022-04-24T18:11:32.252706",
     "status": "completed"
    },
    "tags": []
   },
   "outputs": [
    {
     "data": {
      "image/png": "[encoded data removed]",
      "text/plain": [
       "<Figure size 432x288 with 1 Axes>"
      ]
     },
     "metadata": {
      "needs_background": "light"
     },
     "output_type": "display_data"
    }
   ],
   "source": [
    "fraud=total[total[\"is_fraud\"]==1]\n",
    "fig, ax = plt.subplots()\n",
    "ax.hist(fraud.age, edgecolor = \"black\", bins = 5, color=randomcolor())\n",
    "plt.title(\"Number of Credit Card Frauds by Age Groups\")\n",
    "plt.show()"
   ]
  },
  {
   "cell_type": "markdown",
   "id": "4888abb9",
   "metadata": {
    "papermill": {
     "duration": 0.126964,
     "end_time": "2022-04-24T18:11:32.900642",
     "exception": false,
     "start_time": "2022-04-24T18:11:32.773678",
     "status": "completed"
    },
    "tags": []
   },
   "source": []
  },
  {
   "cell_type": "markdown",
   "id": "9a1f4f52",
   "metadata": {
    "papermill": {
     "duration": 0.124088,
     "end_time": "2022-04-24T18:11:33.153515",
     "exception": false,
     "start_time": "2022-04-24T18:11:33.029427",
     "status": "completed"
    },
    "tags": []
   },
   "source": [
    "creating transacation month and transaction year columns"
   ]
  },
  {
   "cell_type": "code",
   "execution_count": 32,
   "id": "e8449ada",
   "metadata": {
    "execution": {
     "iopub.execute_input": "2022-04-24T18:11:33.401145Z",
     "iopub.status.busy": "2022-04-24T18:11:33.400639Z",
     "iopub.status.idle": "2022-04-24T18:11:33.740184Z",
     "shell.execute_reply": "2022-04-24T18:11:33.739266Z"
    },
    "papermill": {
     "duration": 0.466096,
     "end_time": "2022-04-24T18:11:33.742633",
     "exception": false,
     "start_time": "2022-04-24T18:11:33.276537",
     "status": "completed"
    },
    "tags": []
   },
   "outputs": [],
   "source": [
    "total['trans_month'] = pd.DatetimeIndex(total['trans_date']).month\n",
    "total['trans_year'] = pd.DatetimeIndex(total['trans_date']).year"
   ]
  },
  {
   "cell_type": "code",
   "execution_count": 33,
   "id": "bc1f8550",
   "metadata": {
    "execution": {
     "iopub.execute_input": "2022-04-24T18:11:33.993697Z",
     "iopub.status.busy": "2022-04-24T18:11:33.993398Z",
     "iopub.status.idle": "2022-04-24T18:11:42.310197Z",
     "shell.execute_reply": "2022-04-24T18:11:42.309320Z"
    },
    "papermill": {
     "duration": 8.446535,
     "end_time": "2022-04-24T18:11:42.313072",
     "exception": false,
     "start_time": "2022-04-24T18:11:33.866537",
     "status": "completed"
    },
    "tags": []
   },
   "outputs": [],
   "source": [
    "import calendar\n",
    "total['Month_name'] = total['trans_month'].apply(lambda x: calendar.month_abbr[x])"
   ]
  },
  {
   "cell_type": "code",
   "execution_count": 34,
   "id": "8c5882d6",
   "metadata": {
    "execution": {
     "iopub.execute_input": "2022-04-24T18:11:42.568394Z",
     "iopub.status.busy": "2022-04-24T18:11:42.567759Z",
     "iopub.status.idle": "2022-04-24T18:11:44.133184Z",
     "shell.execute_reply": "2022-04-24T18:11:44.132182Z"
    },
    "papermill": {
     "duration": 1.695647,
     "end_time": "2022-04-24T18:11:44.135568",
     "exception": false,
     "start_time": "2022-04-24T18:11:42.439921",
     "status": "completed"
    },
    "tags": []
   },
   "outputs": [
    {
     "name": "stderr",
     "output_type": "stream",
     "text": [
      "C:\\Users\\surya\\anaconda3\\lib\\site-packages\\seaborn\\_decorators.py:36: FutureWarning: Pass the following variable as a keyword arg: x. From version 0.12, the only valid positional argument will be `data`, and passing other arguments without an explicit keyword will result in an error or misinterpretation.\n",
      "  warnings.warn(\n"
     ]
    },
    {
     "data": {
      "image/png": "[encoded data removed]",
      "text/plain": [
       "<Figure size 432x288 with 1 Axes>"
      ]
     },
     "metadata": {
      "needs_background": "light"
     },
     "output_type": "display_data"
    }
   ],
   "source": [
    "sns.countplot(total[total[\"is_fraud\"]==1][\"Month_name\"],color=randomcolor())\n",
    "plt.title(\"Number of Credit Card Frauds by month\")\n",
    "plt.show()\n",
    "del total['Month_name']"
   ]
  },
  {
   "cell_type": "code",
   "execution_count": 35,
   "id": "f987d074",
   "metadata": {
    "execution": {
     "iopub.execute_input": "2022-04-24T18:11:44.397650Z",
     "iopub.status.busy": "2022-04-24T18:11:44.397100Z",
     "iopub.status.idle": "2022-04-24T18:11:45.760505Z",
     "shell.execute_reply": "2022-04-24T18:11:45.759661Z"
    },
    "papermill": {
     "duration": 1.496746,
     "end_time": "2022-04-24T18:11:45.763867",
     "exception": false,
     "start_time": "2022-04-24T18:11:44.267121",
     "status": "completed"
    },
    "tags": []
   },
   "outputs": [
    {
     "name": "stderr",
     "output_type": "stream",
     "text": [
      "C:\\Users\\surya\\anaconda3\\lib\\site-packages\\seaborn\\_decorators.py:36: FutureWarning: Pass the following variable as a keyword arg: x. From version 0.12, the only valid positional argument will be `data`, and passing other arguments without an explicit keyword will result in an error or misinterpretation.\n",
      "  warnings.warn(\n"
     ]
    },
    {
     "data": {
      "image/png": "[encoded data removed]",
      "text/plain": [
       "<Figure size 432x288 with 1 Axes>"
      ]
     },
     "metadata": {
      "needs_background": "light"
     },
     "output_type": "display_data"
    }
   ],
   "source": [
    "sns.countplot(total[total[\"is_fraud\"]==1][\"gender\"],color=randomcolor())\n",
    "plt.title(\"Number of Credit Card Frauds by Gender\")\n",
    "plt.show()"
   ]
  },
  {
   "cell_type": "code",
   "execution_count": 36,
   "id": "80f577da",
   "metadata": {
    "execution": {
     "iopub.execute_input": "2022-04-24T18:11:46.381486Z",
     "iopub.status.busy": "2022-04-24T18:11:46.381189Z",
     "iopub.status.idle": "2022-04-24T18:11:46.526544Z",
     "shell.execute_reply": "2022-04-24T18:11:46.525775Z"
    },
    "papermill": {
     "duration": 0.301589,
     "end_time": "2022-04-24T18:11:46.529226",
     "exception": false,
     "start_time": "2022-04-24T18:11:46.227637",
     "status": "completed"
    },
    "tags": []
   },
   "outputs": [
    {
     "name": "stderr",
     "output_type": "stream",
     "text": [
      "C:\\Users\\surya\\anaconda3\\lib\\site-packages\\seaborn\\_decorators.py:36: FutureWarning: Pass the following variable as a keyword arg: x. From version 0.12, the only valid positional argument will be `data`, and passing other arguments without an explicit keyword will result in an error or misinterpretation.\n",
      "  warnings.warn(\n"
     ]
    },
    {
     "data": {
      "image/png": "[encoded data removed]",
      "text/plain": [
       "<Figure size 432x288 with 1 Axes>"
      ]
     },
     "metadata": {
      "needs_background": "light"
     },
     "output_type": "display_data"
    }
   ],
   "source": [
    "sns.countplot(total[total[\"is_fraud\"]==1][\"trans_year\"],color=randomcolor())\n",
    "plt.title(\"Number of Credit Card Frauds by year\")\n",
    "plt.show()"
   ]
  },
  {
   "cell_type": "markdown",
   "id": "9bb1de1b",
   "metadata": {
    "papermill": {
     "duration": 0.176469,
     "end_time": "2022-04-24T18:11:46.859295",
     "exception": false,
     "start_time": "2022-04-24T18:11:46.682826",
     "status": "completed"
    },
    "tags": []
   },
   "source": [
    "Finding distance from customer location to merchant location in degrees latitude and degrees longitude"
   ]
  },
  {
   "cell_type": "code",
   "execution_count": 37,
   "id": "b6f4820f",
   "metadata": {
    "execution": {
     "iopub.execute_input": "2022-04-24T18:11:47.173857Z",
     "iopub.status.busy": "2022-04-24T18:11:47.172233Z",
     "iopub.status.idle": "2022-04-24T18:11:47.223231Z",
     "shell.execute_reply": "2022-04-24T18:11:47.221989Z"
    },
    "papermill": {
     "duration": 0.211973,
     "end_time": "2022-04-24T18:11:47.226342",
     "exception": false,
     "start_time": "2022-04-24T18:11:47.014369",
     "status": "completed"
    },
    "tags": []
   },
   "outputs": [],
   "source": [
    "total['latitudinal_distance'] = abs(round(total['merch_lat']-total['lat'],3))\n",
    "total['longitudinal_distance'] = abs(round(total['merch_long']-total['long'],3))"
   ]
  },
  {
   "cell_type": "code",
   "execution_count": 38,
   "id": "cb3b0826",
   "metadata": {
    "execution": {
     "iopub.execute_input": "2022-04-24T18:11:47.533453Z",
     "iopub.status.busy": "2022-04-24T18:11:47.532922Z",
     "iopub.status.idle": "2022-04-24T18:11:48.772053Z",
     "shell.execute_reply": "2022-04-24T18:11:48.771181Z"
    },
    "papermill": {
     "duration": 1.396508,
     "end_time": "2022-04-24T18:11:48.774658",
     "exception": false,
     "start_time": "2022-04-24T18:11:47.378150",
     "status": "completed"
    },
    "tags": []
   },
   "outputs": [
    {
     "data": {
      "image/png": "[encoded data removed]",
      "text/plain": [
       "<Figure size 432x288 with 1 Axes>"
      ]
     },
     "metadata": {
      "needs_background": "light"
     },
     "output_type": "display_data"
    }
   ],
   "source": [
    "fraud = total[total[\"is_fraud\"]==1]\n",
    "fig, ax = plt.subplots()\n",
    "ax.hist(fraud.latitudinal_distance, edgecolor = \"black\", bins = 5, color=randomcolor())\n",
    "plt.title(\"Number of Credit Card Frauds by latitudinal distance\")\n",
    "plt.show()"
   ]
  },
  {
   "cell_type": "code",
   "execution_count": 39,
   "id": "211cd0b4",
   "metadata": {
    "execution": {
     "iopub.execute_input": "2022-04-24T18:11:49.173820Z",
     "iopub.status.busy": "2022-04-24T18:11:49.173545Z",
     "iopub.status.idle": "2022-04-24T18:11:49.366858Z",
     "shell.execute_reply": "2022-04-24T18:11:49.365955Z"
    },
    "papermill": {
     "duration": 0.398693,
     "end_time": "2022-04-24T18:11:49.368961",
     "exception": false,
     "start_time": "2022-04-24T18:11:48.970268",
     "status": "completed"
    },
    "tags": []
   },
   "outputs": [
    {
     "data": {
      "image/png": "[encoded data removed]",
      "text/plain": [
       "<Figure size 432x288 with 1 Axes>"
      ]
     },
     "metadata": {
      "needs_background": "light"
     },
     "output_type": "display_data"
    }
   ],
   "source": [
    "fig, ax = plt.subplots()\n",
    "ax.hist(fraud.longitudinal_distance, edgecolor = \"black\", bins = 5, color=randomcolor())\n",
    "plt.title(\"Number of Credit Card Frauds by longitudinal distance\")\n",
    "plt.show()"
   ]
  },
  {
   "cell_type": "code",
   "execution_count": 40,
   "id": "8442003f",
   "metadata": {
    "execution": {
     "iopub.execute_input": "2022-04-24T18:11:49.642281Z",
     "iopub.status.busy": "2022-04-24T18:11:49.641879Z",
     "iopub.status.idle": "2022-04-24T18:11:49.657587Z",
     "shell.execute_reply": "2022-04-24T18:11:49.656792Z"
    },
    "papermill": {
     "duration": 0.151084,
     "end_time": "2022-04-24T18:11:49.660483",
     "exception": false,
     "start_time": "2022-04-24T18:11:49.509399",
     "status": "completed"
    },
    "tags": []
   },
   "outputs": [
    {
     "name": "stdout",
     "output_type": "stream",
     "text": [
      "<class 'pandas.core.frame.DataFrame'>\n",
      "Int64Index: 1852394 entries, 0 to 1296674\n",
      "Data columns (total 20 columns):\n",
      " #   Column                 Dtype         \n",
      "---  ------                 -----         \n",
      " 0   trans_date_trans_time  datetime64[ns]\n",
      " 1   category               object        \n",
      " 2   amt                    float64       \n",
      " 3   gender                 object        \n",
      " 4   city                   object        \n",
      " 5   state                  object        \n",
      " 6   lat                    float64       \n",
      " 7   long                   float64       \n",
      " 8   city_pop               int64         \n",
      " 9   job                    object        \n",
      " 10  dob                    datetime64[ns]\n",
      " 11  merch_lat              float64       \n",
      " 12  merch_long             float64       \n",
      " 13  is_fraud               int64         \n",
      " 14  trans_date             datetime64[ns]\n",
      " 15  age                    float64       \n",
      " 16  trans_month            int64         \n",
      " 17  trans_year             int64         \n",
      " 18  latitudinal_distance   float64       \n",
      " 19  longitudinal_distance  float64       \n",
      "dtypes: datetime64[ns](3), float64(8), int64(4), object(5)\n",
      "memory usage: 296.8+ MB\n"
     ]
    }
   ],
   "source": [
    "total.info()"
   ]
  },
  {
   "cell_type": "markdown",
   "id": "e73eda79",
   "metadata": {
    "papermill": {
     "duration": 0.207821,
     "end_time": "2022-04-24T18:11:50.071925",
     "exception": false,
     "start_time": "2022-04-24T18:11:49.864104",
     "status": "completed"
    },
    "tags": []
   },
   "source": [
    "changing gender values to binary values"
   ]
  },
  {
   "cell_type": "code",
   "execution_count": 41,
   "id": "8b6940f1",
   "metadata": {
    "execution": {
     "iopub.execute_input": "2022-04-24T18:11:50.365351Z",
     "iopub.status.busy": "2022-04-24T18:11:50.364230Z",
     "iopub.status.idle": "2022-04-24T18:11:50.580004Z",
     "shell.execute_reply": "2022-04-24T18:11:50.579342Z"
    },
    "papermill": {
     "duration": 0.351969,
     "end_time": "2022-04-24T18:11:50.582106",
     "exception": false,
     "start_time": "2022-04-24T18:11:50.230137",
     "status": "completed"
    },
    "tags": []
   },
   "outputs": [
    {
     "data": {
      "text/plain": [
       "F    1014749\n",
       "M     837645\n",
       "Name: gender, dtype: int64"
      ]
     },
     "execution_count": 41,
     "metadata": {},
     "output_type": "execute_result"
    }
   ],
   "source": [
    "total.gender.value_counts()"
   ]
  },
  {
   "cell_type": "code",
   "execution_count": 42,
   "id": "568c7d8f",
   "metadata": {
    "execution": {
     "iopub.execute_input": "2022-04-24T18:11:50.845434Z",
     "iopub.status.busy": "2022-04-24T18:11:50.844888Z",
     "iopub.status.idle": "2022-04-24T18:11:52.051185Z",
     "shell.execute_reply": "2022-04-24T18:11:52.050309Z"
    },
    "papermill": {
     "duration": 1.340304,
     "end_time": "2022-04-24T18:11:52.053528",
     "exception": false,
     "start_time": "2022-04-24T18:11:50.713224",
     "status": "completed"
    },
    "tags": []
   },
   "outputs": [
    {
     "data": {
      "text/plain": [
       "0    1014749\n",
       "1     837645\n",
       "Name: gender, dtype: int64"
      ]
     },
     "execution_count": 42,
     "metadata": {},
     "output_type": "execute_result"
    }
   ],
   "source": [
    "total.gender=total.gender.apply(lambda x: 1 if x==\"M\" else 0)\n",
    "total.gender.value_counts()"
   ]
  },
  {
   "cell_type": "markdown",
   "id": "67fb21c9",
   "metadata": {
    "papermill": {
     "duration": 0.131501,
     "end_time": "2022-04-24T18:11:52.329025",
     "exception": false,
     "start_time": "2022-04-24T18:11:52.197524",
     "status": "completed"
    },
    "tags": []
   },
   "source": [
    "Dropping final set of variables not useful for model building"
   ]
  },
  {
   "cell_type": "code",
   "execution_count": 43,
   "id": "8c322f50",
   "metadata": {
    "execution": {
     "iopub.execute_input": "2022-04-24T18:11:52.612494Z",
     "iopub.status.busy": "2022-04-24T18:11:52.611963Z",
     "iopub.status.idle": "2022-04-24T18:11:52.841525Z",
     "shell.execute_reply": "2022-04-24T18:11:52.840564Z"
    },
    "papermill": {
     "duration": 0.373113,
     "end_time": "2022-04-24T18:11:52.844227",
     "exception": false,
     "start_time": "2022-04-24T18:11:52.471114",
     "status": "completed"
    },
    "tags": []
   },
   "outputs": [
    {
     "name": "stdout",
     "output_type": "stream",
     "text": [
      "<class 'pandas.core.frame.DataFrame'>\n",
      "Int64Index: 1852394 entries, 0 to 1296674\n",
      "Data columns (total 10 columns):\n",
      " #   Column                 Dtype  \n",
      "---  ------                 -----  \n",
      " 0   category               object \n",
      " 1   amt                    float64\n",
      " 2   gender                 int64  \n",
      " 3   city_pop               int64  \n",
      " 4   is_fraud               int64  \n",
      " 5   age                    float64\n",
      " 6   trans_month            int64  \n",
      " 7   trans_year             int64  \n",
      " 8   latitudinal_distance   float64\n",
      " 9   longitudinal_distance  float64\n",
      "dtypes: float64(4), int64(5), object(1)\n",
      "memory usage: 155.5+ MB\n"
     ]
    }
   ],
   "source": [
    "drop_cols = ['trans_date_trans_time','city','lat','long','job','dob','merch_lat','merch_long','trans_date','state']\n",
    "total=total.drop(drop_cols,axis=1)\n",
    "total.info()"
   ]
  },
  {
   "cell_type": "code",
   "execution_count": 44,
   "id": "858bf4e5",
   "metadata": {
    "execution": {
     "iopub.execute_input": "2022-04-24T18:11:53.128083Z",
     "iopub.status.busy": "2022-04-24T18:11:53.127211Z",
     "iopub.status.idle": "2022-04-24T18:11:53.704330Z",
     "shell.execute_reply": "2022-04-24T18:11:53.703418Z"
    },
    "papermill": {
     "duration": 0.720614,
     "end_time": "2022-04-24T18:11:53.706581",
     "exception": false,
     "start_time": "2022-04-24T18:11:52.985967",
     "status": "completed"
    },
    "tags": []
   },
   "outputs": [
    {
     "name": "stdout",
     "output_type": "stream",
     "text": [
      "<class 'pandas.core.frame.DataFrame'>\n",
      "Int64Index: 1852394 entries, 0 to 1296674\n",
      "Data columns (total 22 columns):\n",
      " #   Column                   Dtype  \n",
      "---  ------                   -----  \n",
      " 0   amt                      float64\n",
      " 1   gender                   int64  \n",
      " 2   city_pop                 int64  \n",
      " 3   is_fraud                 int64  \n",
      " 4   age                      float64\n",
      " 5   trans_month              int64  \n",
      " 6   trans_year               int64  \n",
      " 7   latitudinal_distance     float64\n",
      " 8   longitudinal_distance    float64\n",
      " 9   category_food_dining     uint8  \n",
      " 10  category_gas_transport   uint8  \n",
      " 11  category_grocery_net     uint8  \n",
      " 12  category_grocery_pos     uint8  \n",
      " 13  category_health_fitness  uint8  \n",
      " 14  category_home            uint8  \n",
      " 15  category_kids_pets       uint8  \n",
      " 16  category_misc_net        uint8  \n",
      " 17  category_misc_pos        uint8  \n",
      " 18  category_personal_care   uint8  \n",
      " 19  category_shopping_net    uint8  \n",
      " 20  category_shopping_pos    uint8  \n",
      " 21  category_travel          uint8  \n",
      "dtypes: float64(4), int64(5), uint8(13)\n",
      "memory usage: 164.3 MB\n"
     ]
    }
   ],
   "source": [
    "total = pd.get_dummies(total,columns=['category'],drop_first=True)\n",
    "total.info()"
   ]
  },
  {
   "cell_type": "code",
   "execution_count": 45,
   "id": "3e7a0a64",
   "metadata": {
    "execution": {
     "iopub.execute_input": "2022-04-24T18:11:53.995833Z",
     "iopub.status.busy": "2022-04-24T18:11:53.995190Z",
     "iopub.status.idle": "2022-04-24T18:11:54.020211Z",
     "shell.execute_reply": "2022-04-24T18:11:54.019147Z"
    },
    "papermill": {
     "duration": 0.171448,
     "end_time": "2022-04-24T18:11:54.022884",
     "exception": false,
     "start_time": "2022-04-24T18:11:53.851436",
     "status": "completed"
    },
    "tags": []
   },
   "outputs": [
    {
     "data": {
      "text/html": [
       "<div>\n",
       "<style scoped>\n",
       "    .dataframe tbody tr th:only-of-type {\n",
       "        vertical-align: middle;\n",
       "    }\n",
       "\n",
       "    .dataframe tbody tr th {\n",
       "        vertical-align: top;\n",
       "    }\n",
       "\n",
       "    .dataframe thead th {\n",
       "        text-align: right;\n",
       "    }\n",
       "</style>\n",
       "<table border=\"1\" class=\"dataframe\">\n",
       "  <thead>\n",
       "    <tr style=\"text-align: right;\">\n",
       "      <th></th>\n",
       "      <th>amt</th>\n",
       "      <th>gender</th>\n",
       "      <th>city_pop</th>\n",
       "      <th>is_fraud</th>\n",
       "      <th>age</th>\n",
       "      <th>trans_month</th>\n",
       "      <th>trans_year</th>\n",
       "      <th>latitudinal_distance</th>\n",
       "      <th>longitudinal_distance</th>\n",
       "      <th>category_food_dining</th>\n",
       "      <th>...</th>\n",
       "      <th>category_grocery_pos</th>\n",
       "      <th>category_health_fitness</th>\n",
       "      <th>category_home</th>\n",
       "      <th>category_kids_pets</th>\n",
       "      <th>category_misc_net</th>\n",
       "      <th>category_misc_pos</th>\n",
       "      <th>category_personal_care</th>\n",
       "      <th>category_shopping_net</th>\n",
       "      <th>category_shopping_pos</th>\n",
       "      <th>category_travel</th>\n",
       "    </tr>\n",
       "  </thead>\n",
       "  <tbody>\n",
       "    <tr>\n",
       "      <th>0</th>\n",
       "      <td>2.86</td>\n",
       "      <td>1</td>\n",
       "      <td>333497</td>\n",
       "      <td>0</td>\n",
       "      <td>52.0</td>\n",
       "      <td>6</td>\n",
       "      <td>2020</td>\n",
       "      <td>0.020</td>\n",
       "      <td>0.265</td>\n",
       "      <td>0</td>\n",
       "      <td>...</td>\n",
       "      <td>0</td>\n",
       "      <td>0</td>\n",
       "      <td>0</td>\n",
       "      <td>0</td>\n",
       "      <td>0</td>\n",
       "      <td>0</td>\n",
       "      <td>1</td>\n",
       "      <td>0</td>\n",
       "      <td>0</td>\n",
       "      <td>0</td>\n",
       "    </tr>\n",
       "    <tr>\n",
       "      <th>1</th>\n",
       "      <td>29.84</td>\n",
       "      <td>0</td>\n",
       "      <td>302</td>\n",
       "      <td>0</td>\n",
       "      <td>30.0</td>\n",
       "      <td>6</td>\n",
       "      <td>2020</td>\n",
       "      <td>0.870</td>\n",
       "      <td>0.476</td>\n",
       "      <td>0</td>\n",
       "      <td>...</td>\n",
       "      <td>0</td>\n",
       "      <td>0</td>\n",
       "      <td>0</td>\n",
       "      <td>0</td>\n",
       "      <td>0</td>\n",
       "      <td>0</td>\n",
       "      <td>1</td>\n",
       "      <td>0</td>\n",
       "      <td>0</td>\n",
       "      <td>0</td>\n",
       "    </tr>\n",
       "    <tr>\n",
       "      <th>2</th>\n",
       "      <td>41.28</td>\n",
       "      <td>0</td>\n",
       "      <td>34496</td>\n",
       "      <td>0</td>\n",
       "      <td>49.0</td>\n",
       "      <td>6</td>\n",
       "      <td>2020</td>\n",
       "      <td>0.177</td>\n",
       "      <td>0.660</td>\n",
       "      <td>0</td>\n",
       "      <td>...</td>\n",
       "      <td>0</td>\n",
       "      <td>1</td>\n",
       "      <td>0</td>\n",
       "      <td>0</td>\n",
       "      <td>0</td>\n",
       "      <td>0</td>\n",
       "      <td>0</td>\n",
       "      <td>0</td>\n",
       "      <td>0</td>\n",
       "      <td>0</td>\n",
       "    </tr>\n",
       "    <tr>\n",
       "      <th>3</th>\n",
       "      <td>60.05</td>\n",
       "      <td>1</td>\n",
       "      <td>54767</td>\n",
       "      <td>0</td>\n",
       "      <td>32.0</td>\n",
       "      <td>6</td>\n",
       "      <td>2020</td>\n",
       "      <td>0.243</td>\n",
       "      <td>0.064</td>\n",
       "      <td>0</td>\n",
       "      <td>...</td>\n",
       "      <td>0</td>\n",
       "      <td>0</td>\n",
       "      <td>0</td>\n",
       "      <td>0</td>\n",
       "      <td>0</td>\n",
       "      <td>1</td>\n",
       "      <td>0</td>\n",
       "      <td>0</td>\n",
       "      <td>0</td>\n",
       "      <td>0</td>\n",
       "    </tr>\n",
       "    <tr>\n",
       "      <th>4</th>\n",
       "      <td>3.19</td>\n",
       "      <td>1</td>\n",
       "      <td>1126</td>\n",
       "      <td>0</td>\n",
       "      <td>64.0</td>\n",
       "      <td>6</td>\n",
       "      <td>2020</td>\n",
       "      <td>0.706</td>\n",
       "      <td>0.868</td>\n",
       "      <td>0</td>\n",
       "      <td>...</td>\n",
       "      <td>0</td>\n",
       "      <td>0</td>\n",
       "      <td>0</td>\n",
       "      <td>0</td>\n",
       "      <td>0</td>\n",
       "      <td>0</td>\n",
       "      <td>0</td>\n",
       "      <td>0</td>\n",
       "      <td>0</td>\n",
       "      <td>1</td>\n",
       "    </tr>\n",
       "  </tbody>\n",
       "</table>\n",
       "<p>5 rows × 22 columns</p>\n",
       "</div>"
      ],
      "text/plain": [
       "     amt  gender  city_pop  is_fraud   age  trans_month  trans_year  \\\n",
       "0   2.86       1    333497         0  52.0            6        2020   \n",
       "1  29.84       0       302         0  30.0            6        2020   \n",
       "2  41.28       0     34496         0  49.0            6        2020   \n",
       "3  60.05       1     54767         0  32.0            6        2020   \n",
       "4   3.19       1      1126         0  64.0            6        2020   \n",
       "\n",
       "   latitudinal_distance  longitudinal_distance  category_food_dining  ...  \\\n",
       "0                 0.020                  0.265                     0  ...   \n",
       "1                 0.870                  0.476                     0  ...   \n",
       "2                 0.177                  0.660                     0  ...   \n",
       "3                 0.243                  0.064                     0  ...   \n",
       "4                 0.706                  0.868                     0  ...   \n",
       "\n",
       "   category_grocery_pos  category_health_fitness  category_home  \\\n",
       "0                     0                        0              0   \n",
       "1                     0                        0              0   \n",
       "2                     0                        1              0   \n",
       "3                     0                        0              0   \n",
       "4                     0                        0              0   \n",
       "\n",
       "   category_kids_pets  category_misc_net  category_misc_pos  \\\n",
       "0                   0                  0                  0   \n",
       "1                   0                  0                  0   \n",
       "2                   0                  0                  0   \n",
       "3                   0                  0                  1   \n",
       "4                   0                  0                  0   \n",
       "\n",
       "   category_personal_care  category_shopping_net  category_shopping_pos  \\\n",
       "0                       1                      0                      0   \n",
       "1                       1                      0                      0   \n",
       "2                       0                      0                      0   \n",
       "3                       0                      0                      0   \n",
       "4                       0                      0                      0   \n",
       "\n",
       "   category_travel  \n",
       "0                0  \n",
       "1                0  \n",
       "2                0  \n",
       "3                0  \n",
       "4                1  \n",
       "\n",
       "[5 rows x 22 columns]"
      ]
     },
     "execution_count": 45,
     "metadata": {},
     "output_type": "execute_result"
    }
   ],
   "source": [
    "total.head()"
   ]
  },
  {
   "cell_type": "markdown",
   "id": "4a2edd85",
   "metadata": {
    "papermill": {
     "duration": 0.140661,
     "end_time": "2022-04-24T18:11:54.308186",
     "exception": false,
     "start_time": "2022-04-24T18:11:54.167525",
     "status": "completed"
    },
    "tags": []
   },
   "source": [
    "### Model Building"
   ]
  },
  {
   "cell_type": "code",
   "execution_count": 46,
   "id": "bd539107",
   "metadata": {
    "execution": {
     "iopub.execute_input": "2022-04-24T18:11:54.594855Z",
     "iopub.status.busy": "2022-04-24T18:11:54.594443Z",
     "iopub.status.idle": "2022-04-24T18:11:54.799187Z",
     "shell.execute_reply": "2022-04-24T18:11:54.798184Z"
    },
    "papermill": {
     "duration": 0.351266,
     "end_time": "2022-04-24T18:11:54.801731",
     "exception": false,
     "start_time": "2022-04-24T18:11:54.450465",
     "status": "completed"
    },
    "tags": []
   },
   "outputs": [],
   "source": [
    "from sklearn.model_selection import train_test_split"
   ]
  },
  {
   "cell_type": "markdown",
   "id": "a99c0ac8",
   "metadata": {
    "papermill": {
     "duration": 0.145966,
     "end_time": "2022-04-24T18:11:55.092722",
     "exception": false,
     "start_time": "2022-04-24T18:11:54.946756",
     "status": "completed"
    },
    "tags": []
   },
   "source": [
    "Correcting the imbalance discovered by using resample"
   ]
  },
  {
   "cell_type": "code",
   "execution_count": 47,
   "id": "d02fc6aa",
   "metadata": {
    "execution": {
     "iopub.execute_input": "2022-04-24T18:11:55.381140Z",
     "iopub.status.busy": "2022-04-24T18:11:55.380529Z",
     "iopub.status.idle": "2022-04-24T18:11:55.384404Z",
     "shell.execute_reply": "2022-04-24T18:11:55.383650Z"
    },
    "papermill": {
     "duration": 0.151535,
     "end_time": "2022-04-24T18:11:55.386475",
     "exception": false,
     "start_time": "2022-04-24T18:11:55.234940",
     "status": "completed"
    },
    "tags": []
   },
   "outputs": [],
   "source": [
    "from sklearn.utils import resample"
   ]
  },
  {
   "cell_type": "code",
   "execution_count": 48,
   "id": "4eceef5d",
   "metadata": {
    "execution": {
     "iopub.execute_input": "2022-04-24T18:11:55.657596Z",
     "iopub.status.busy": "2022-04-24T18:11:55.656897Z",
     "iopub.status.idle": "2022-04-24T18:11:56.015695Z",
     "shell.execute_reply": "2022-04-24T18:11:56.015098Z"
    },
    "papermill": {
     "duration": 0.496825,
     "end_time": "2022-04-24T18:11:56.017520",
     "exception": false,
     "start_time": "2022-04-24T18:11:55.520695",
     "status": "completed"
    },
    "tags": []
   },
   "outputs": [
    {
     "data": {
      "text/plain": [
       "((1842743, 22), (9651, 22))"
      ]
     },
     "execution_count": 48,
     "metadata": {},
     "output_type": "execute_result"
    }
   ],
   "source": [
    "#create two different dataframe of majority and minority class \n",
    "df_majority = total[(total['is_fraud']==0)] \n",
    "df_minority = total[(total['is_fraud']==1)] \n",
    "\n",
    "df_majority.shape,df_minority.shape"
   ]
  },
  {
   "cell_type": "code",
   "execution_count": 49,
   "id": "9e667188",
   "metadata": {
    "execution": {
     "iopub.execute_input": "2022-04-24T18:11:56.287353Z",
     "iopub.status.busy": "2022-04-24T18:11:56.286931Z",
     "iopub.status.idle": "2022-04-24T18:11:56.583681Z",
     "shell.execute_reply": "2022-04-24T18:11:56.582873Z"
    },
    "papermill": {
     "duration": 0.434339,
     "end_time": "2022-04-24T18:11:56.585811",
     "exception": false,
     "start_time": "2022-04-24T18:11:56.151472",
     "status": "completed"
    },
    "tags": []
   },
   "outputs": [
    {
     "data": {
      "text/plain": [
       "(1842743, 22)"
      ]
     },
     "execution_count": 49,
     "metadata": {},
     "output_type": "execute_result"
    }
   ],
   "source": [
    "# upsample minority class\n",
    "df_minority_upsampled = resample(df_minority, \n",
    "                                 replace=True,    # sample with replacement\n",
    "                                 n_samples= 1842743, # to match majority class\n",
    "                                 random_state=42)  # reproducible results\n",
    "df_minority_upsampled.shape"
   ]
  },
  {
   "cell_type": "code",
   "execution_count": 50,
   "id": "02d70dd5",
   "metadata": {
    "execution": {
     "iopub.execute_input": "2022-04-24T18:11:56.856602Z",
     "iopub.status.busy": "2022-04-24T18:11:56.856300Z",
     "iopub.status.idle": "2022-04-24T18:11:57.111587Z",
     "shell.execute_reply": "2022-04-24T18:11:57.110804Z"
    },
    "papermill": {
     "duration": 0.393194,
     "end_time": "2022-04-24T18:11:57.113723",
     "exception": false,
     "start_time": "2022-04-24T18:11:56.720529",
     "status": "completed"
    },
    "tags": []
   },
   "outputs": [
    {
     "data": {
      "text/plain": [
       "(3685486, 22)"
      ]
     },
     "execution_count": 50,
     "metadata": {},
     "output_type": "execute_result"
    }
   ],
   "source": [
    "# Combine majority class with upsampled minority class\n",
    "total_upsampled = pd.concat([df_minority_upsampled, df_majority])\n",
    "total_upsampled.shape"
   ]
  },
  {
   "cell_type": "code",
   "execution_count": 51,
   "id": "4d5b51d4",
   "metadata": {
    "execution": {
     "iopub.execute_input": "2022-04-24T18:11:57.383948Z",
     "iopub.status.busy": "2022-04-24T18:11:57.383632Z",
     "iopub.status.idle": "2022-04-24T18:11:57.390551Z",
     "shell.execute_reply": "2022-04-24T18:11:57.389707Z"
    },
    "papermill": {
     "duration": 0.143967,
     "end_time": "2022-04-24T18:11:57.392831",
     "exception": false,
     "start_time": "2022-04-24T18:11:57.248864",
     "status": "completed"
    },
    "tags": []
   },
   "outputs": [
    {
     "data": {
      "text/plain": [
       "['amt',\n",
       " 'gender',\n",
       " 'city_pop',\n",
       " 'age',\n",
       " 'trans_month',\n",
       " 'trans_year',\n",
       " 'latitudinal_distance',\n",
       " 'longitudinal_distance',\n",
       " 'category_food_dining',\n",
       " 'category_gas_transport',\n",
       " 'category_grocery_net',\n",
       " 'category_grocery_pos',\n",
       " 'category_health_fitness',\n",
       " 'category_home',\n",
       " 'category_kids_pets',\n",
       " 'category_misc_net',\n",
       " 'category_misc_pos',\n",
       " 'category_personal_care',\n",
       " 'category_shopping_net',\n",
       " 'category_shopping_pos',\n",
       " 'category_travel']"
      ]
     },
     "execution_count": 51,
     "metadata": {},
     "output_type": "execute_result"
    }
   ],
   "source": [
    "x_cols = list(total_upsampled.columns)\n",
    "x_cols.remove('is_fraud')\n",
    "x_cols"
   ]
  },
  {
   "cell_type": "code",
   "execution_count": 52,
   "id": "aabc8c75",
   "metadata": {
    "execution": {
     "iopub.execute_input": "2022-04-24T18:11:57.668757Z",
     "iopub.status.busy": "2022-04-24T18:11:57.668215Z",
     "iopub.status.idle": "2022-04-24T18:11:58.043913Z",
     "shell.execute_reply": "2022-04-24T18:11:58.043053Z"
    },
    "papermill": {
     "duration": 0.519366,
     "end_time": "2022-04-24T18:11:58.045976",
     "exception": false,
     "start_time": "2022-04-24T18:11:57.526610",
     "status": "completed"
    },
    "tags": []
   },
   "outputs": [
    {
     "name": "stdout",
     "output_type": "stream",
     "text": [
      "<class 'pandas.core.frame.DataFrame'>\n",
      "Int64Index: 3685486 entries, 909017 to 1296674\n",
      "Data columns (total 21 columns):\n",
      " #   Column                   Dtype  \n",
      "---  ------                   -----  \n",
      " 0   amt                      float64\n",
      " 1   gender                   int64  \n",
      " 2   city_pop                 int64  \n",
      " 3   age                      float64\n",
      " 4   trans_month              int64  \n",
      " 5   trans_year               int64  \n",
      " 6   latitudinal_distance     float64\n",
      " 7   longitudinal_distance    float64\n",
      " 8   category_food_dining     uint8  \n",
      " 9   category_gas_transport   uint8  \n",
      " 10  category_grocery_net     uint8  \n",
      " 11  category_grocery_pos     uint8  \n",
      " 12  category_health_fitness  uint8  \n",
      " 13  category_home            uint8  \n",
      " 14  category_kids_pets       uint8  \n",
      " 15  category_misc_net        uint8  \n",
      " 16  category_misc_pos        uint8  \n",
      " 17  category_personal_care   uint8  \n",
      " 18  category_shopping_net    uint8  \n",
      " 19  category_shopping_pos    uint8  \n",
      " 20  category_travel          uint8  \n",
      "dtypes: float64(4), int64(4), uint8(13)\n",
      "memory usage: 298.8 MB\n"
     ]
    }
   ],
   "source": [
    "X = total_upsampled[x_cols]\n",
    "Y = total_upsampled['is_fraud']\n",
    "X.info()"
   ]
  },
  {
   "cell_type": "code",
   "execution_count": 53,
   "id": "bc959dac",
   "metadata": {
    "execution": {
     "iopub.execute_input": "2022-04-24T18:11:58.317138Z",
     "iopub.status.busy": "2022-04-24T18:11:58.316890Z",
     "iopub.status.idle": "2022-04-24T18:11:59.865073Z",
     "shell.execute_reply": "2022-04-24T18:11:59.864309Z"
    },
    "papermill": {
     "duration": 1.687743,
     "end_time": "2022-04-24T18:11:59.867530",
     "exception": false,
     "start_time": "2022-04-24T18:11:58.179787",
     "status": "completed"
    },
    "tags": []
   },
   "outputs": [],
   "source": [
    "X_train, X_test, Y_train, Y_test = train_test_split(\n",
    " X, Y, test_size=0.3, random_state=42)"
   ]
  },
  {
   "cell_type": "code",
   "execution_count": 54,
   "id": "6552be09",
   "metadata": {
    "execution": {
     "iopub.execute_input": "2022-04-24T18:12:00.142099Z",
     "iopub.status.busy": "2022-04-24T18:12:00.141825Z",
     "iopub.status.idle": "2022-04-24T18:12:00.318450Z",
     "shell.execute_reply": "2022-04-24T18:12:00.317268Z"
    },
    "papermill": {
     "duration": 0.316012,
     "end_time": "2022-04-24T18:12:00.321108",
     "exception": false,
     "start_time": "2022-04-24T18:12:00.005096",
     "status": "completed"
    },
    "tags": []
   },
   "outputs": [],
   "source": [
    "from sklearn.linear_model import LogisticRegression\n",
    "from sklearn.experimental import enable_halving_search_cv\n",
    "from sklearn.metrics import accuracy_score, mean_absolute_error ,mean_squared_error, confusion_matrix, median_absolute_error,classification_report, f1_score,recall_score,precision_score\n",
    "from sklearn.tree import DecisionTreeClassifier\n",
    "from sklearn.preprocessing import StandardScaler\n",
    "from sklearn.metrics import plot_roc_curve\n",
    "from sklearn.model_selection import HalvingRandomSearchCV,RandomizedSearchCV"
   ]
  },
  {
   "cell_type": "markdown",
   "id": "4803e180",
   "metadata": {
    "papermill": {
     "duration": 0.13642,
     "end_time": "2022-04-24T18:12:00.593379",
     "exception": false,
     "start_time": "2022-04-24T18:12:00.456959",
     "status": "completed"
    },
    "tags": []
   },
   "source": [
    "### Scaling the x variables"
   ]
  },
  {
   "cell_type": "code",
   "execution_count": 55,
   "id": "9caad314",
   "metadata": {},
   "outputs": [
    {
     "data": {
      "text/plain": [
       "amt                        float64\n",
       "gender                       int64\n",
       "city_pop                     int64\n",
       "age                        float64\n",
       "trans_month                  int64\n",
       "trans_year                   int64\n",
       "latitudinal_distance       float64\n",
       "longitudinal_distance      float64\n",
       "category_food_dining         uint8\n",
       "category_gas_transport       uint8\n",
       "category_grocery_net         uint8\n",
       "category_grocery_pos         uint8\n",
       "category_health_fitness      uint8\n",
       "category_home                uint8\n",
       "category_kids_pets           uint8\n",
       "category_misc_net            uint8\n",
       "category_misc_pos            uint8\n",
       "category_personal_care       uint8\n",
       "category_shopping_net        uint8\n",
       "category_shopping_pos        uint8\n",
       "category_travel              uint8\n",
       "dtype: object"
      ]
     },
     "execution_count": 55,
     "metadata": {},
     "output_type": "execute_result"
    }
   ],
   "source": [
    "X_train.dtypes"
   ]
  },
  {
   "cell_type": "code",
   "execution_count": 56,
   "id": "463f12b3",
   "metadata": {
    "execution": {
     "iopub.execute_input": "2022-04-24T18:12:00.866082Z",
     "iopub.status.busy": "2022-04-24T18:12:00.865770Z",
     "iopub.status.idle": "2022-04-24T18:12:02.385190Z",
     "shell.execute_reply": "2022-04-24T18:12:02.384134Z"
    },
    "papermill": {
     "duration": 1.658677,
     "end_time": "2022-04-24T18:12:02.387836",
     "exception": false,
     "start_time": "2022-04-24T18:12:00.729159",
     "status": "completed"
    },
    "tags": []
   },
   "outputs": [
    {
     "name": "stdout",
     "output_type": "stream",
     "text": [
      "[[-0.76367673  1.05751042 -0.28696288 ... -0.42380542 -0.33265961\n",
      "  -0.15585472]\n",
      " [-0.77239994 -0.94561716 -0.1803394  ...  2.35957341 -0.33265961\n",
      "  -0.15585472]\n",
      " [ 0.07433703 -0.94561716 -0.28109273 ... -0.42380542 -0.33265961\n",
      "  -0.15585472]\n",
      " ...\n",
      " [-0.7896602   1.05751042 -0.00772941 ... -0.42380542 -0.33265961\n",
      "  -0.15585472]\n",
      " [-0.61115343 -0.94561716 -0.27500541 ... -0.42380542 -0.33265961\n",
      "  -0.15585472]\n",
      " [-0.7896602  -0.94561716 -0.29359312 ...  2.35957341 -0.33265961\n",
      "  -0.15585472]]\n"
     ]
    }
   ],
   "source": [
    "sc= StandardScaler()\n",
    "X_train_std=sc.fit_transform(X_train)\n",
    "X_test_std = sc.fit_transform(X_test)\n",
    "\n",
    "print(X_train_std)"
   ]
  },
  {
   "cell_type": "markdown",
   "id": "2be369e7",
   "metadata": {
    "papermill": {
     "duration": 0.143878,
     "end_time": "2022-04-24T18:12:02.665726",
     "exception": false,
     "start_time": "2022-04-24T18:12:02.521848",
     "status": "completed"
    },
    "tags": []
   },
   "source": [
    "### Feature Importances"
   ]
  },
  {
   "cell_type": "code",
   "execution_count": 57,
   "id": "4847794a",
   "metadata": {
    "execution": {
     "iopub.execute_input": "2022-04-24T18:12:02.974370Z",
     "iopub.status.busy": "2022-04-24T18:12:02.974050Z",
     "iopub.status.idle": "2022-04-24T18:12:27.731383Z",
     "shell.execute_reply": "2022-04-24T18:12:27.730289Z"
    },
    "papermill": {
     "duration": 24.908182,
     "end_time": "2022-04-24T18:12:27.733757",
     "exception": false,
     "start_time": "2022-04-24T18:12:02.825575",
     "status": "completed"
    },
    "tags": []
   },
   "outputs": [
    {
     "data": {
      "text/plain": [
       "LogisticRegression(solver='liblinear')"
      ]
     },
     "execution_count": 57,
     "metadata": {},
     "output_type": "execute_result"
    }
   ],
   "source": [
    "logit_model= LogisticRegression(solver='liblinear')\n",
    "logit_model.fit(X_train_std, Y_train)"
   ]
  },
  {
   "cell_type": "code",
   "execution_count": 58,
   "id": "ce16da35",
   "metadata": {
    "execution": {
     "iopub.execute_input": "2022-04-24T18:12:28.007830Z",
     "iopub.status.busy": "2022-04-24T18:12:28.007303Z",
     "iopub.status.idle": "2022-04-24T18:12:28.022327Z",
     "shell.execute_reply": "2022-04-24T18:12:28.021624Z"
    },
    "papermill": {
     "duration": 0.154899,
     "end_time": "2022-04-24T18:12:28.024320",
     "exception": false,
     "start_time": "2022-04-24T18:12:27.869421",
     "status": "completed"
    },
    "tags": []
   },
   "outputs": [
    {
     "data": {
      "text/html": [
       "<div>\n",
       "<style scoped>\n",
       "    .dataframe tbody tr th:only-of-type {\n",
       "        vertical-align: middle;\n",
       "    }\n",
       "\n",
       "    .dataframe tbody tr th {\n",
       "        vertical-align: top;\n",
       "    }\n",
       "\n",
       "    .dataframe thead th {\n",
       "        text-align: right;\n",
       "    }\n",
       "</style>\n",
       "<table border=\"1\" class=\"dataframe\">\n",
       "  <thead>\n",
       "    <tr style=\"text-align: right;\">\n",
       "      <th></th>\n",
       "      <th>column</th>\n",
       "      <th>importance</th>\n",
       "    </tr>\n",
       "  </thead>\n",
       "  <tbody>\n",
       "    <tr>\n",
       "      <th>0</th>\n",
       "      <td>amt</td>\n",
       "      <td>4.027204</td>\n",
       "    </tr>\n",
       "    <tr>\n",
       "      <th>9</th>\n",
       "      <td>category_gas_transport</td>\n",
       "      <td>0.821690</td>\n",
       "    </tr>\n",
       "    <tr>\n",
       "      <th>11</th>\n",
       "      <td>category_grocery_pos</td>\n",
       "      <td>0.700215</td>\n",
       "    </tr>\n",
       "    <tr>\n",
       "      <th>17</th>\n",
       "      <td>category_personal_care</td>\n",
       "      <td>0.484034</td>\n",
       "    </tr>\n",
       "    <tr>\n",
       "      <th>14</th>\n",
       "      <td>category_kids_pets</td>\n",
       "      <td>0.465313</td>\n",
       "    </tr>\n",
       "    <tr>\n",
       "      <th>16</th>\n",
       "      <td>category_misc_pos</td>\n",
       "      <td>0.454854</td>\n",
       "    </tr>\n",
       "    <tr>\n",
       "      <th>10</th>\n",
       "      <td>category_grocery_net</td>\n",
       "      <td>0.395396</td>\n",
       "    </tr>\n",
       "    <tr>\n",
       "      <th>20</th>\n",
       "      <td>category_travel</td>\n",
       "      <td>0.378825</td>\n",
       "    </tr>\n",
       "    <tr>\n",
       "      <th>12</th>\n",
       "      <td>category_health_fitness</td>\n",
       "      <td>0.358050</td>\n",
       "    </tr>\n",
       "    <tr>\n",
       "      <th>8</th>\n",
       "      <td>category_food_dining</td>\n",
       "      <td>0.325288</td>\n",
       "    </tr>\n",
       "    <tr>\n",
       "      <th>13</th>\n",
       "      <td>category_home</td>\n",
       "      <td>0.228834</td>\n",
       "    </tr>\n",
       "    <tr>\n",
       "      <th>3</th>\n",
       "      <td>age</td>\n",
       "      <td>0.033834</td>\n",
       "    </tr>\n",
       "    <tr>\n",
       "      <th>6</th>\n",
       "      <td>latitudinal_distance</td>\n",
       "      <td>0.014719</td>\n",
       "    </tr>\n",
       "    <tr>\n",
       "      <th>7</th>\n",
       "      <td>longitudinal_distance</td>\n",
       "      <td>-0.009094</td>\n",
       "    </tr>\n",
       "    <tr>\n",
       "      <th>2</th>\n",
       "      <td>city_pop</td>\n",
       "      <td>-0.031796</td>\n",
       "    </tr>\n",
       "    <tr>\n",
       "      <th>1</th>\n",
       "      <td>gender</td>\n",
       "      <td>-0.083557</td>\n",
       "    </tr>\n",
       "    <tr>\n",
       "      <th>5</th>\n",
       "      <td>trans_year</td>\n",
       "      <td>-0.092528</td>\n",
       "    </tr>\n",
       "    <tr>\n",
       "      <th>4</th>\n",
       "      <td>trans_month</td>\n",
       "      <td>-0.241290</td>\n",
       "    </tr>\n",
       "    <tr>\n",
       "      <th>15</th>\n",
       "      <td>category_misc_net</td>\n",
       "      <td>-0.243475</td>\n",
       "    </tr>\n",
       "    <tr>\n",
       "      <th>19</th>\n",
       "      <td>category_shopping_pos</td>\n",
       "      <td>-0.542576</td>\n",
       "    </tr>\n",
       "    <tr>\n",
       "      <th>18</th>\n",
       "      <td>category_shopping_net</td>\n",
       "      <td>-0.766548</td>\n",
       "    </tr>\n",
       "  </tbody>\n",
       "</table>\n",
       "</div>"
      ],
      "text/plain": [
       "                     column  importance\n",
       "0                       amt    4.027204\n",
       "9    category_gas_transport    0.821690\n",
       "11     category_grocery_pos    0.700215\n",
       "17   category_personal_care    0.484034\n",
       "14       category_kids_pets    0.465313\n",
       "16        category_misc_pos    0.454854\n",
       "10     category_grocery_net    0.395396\n",
       "20          category_travel    0.378825\n",
       "12  category_health_fitness    0.358050\n",
       "8      category_food_dining    0.325288\n",
       "13            category_home    0.228834\n",
       "3                       age    0.033834\n",
       "6      latitudinal_distance    0.014719\n",
       "7     longitudinal_distance   -0.009094\n",
       "2                  city_pop   -0.031796\n",
       "1                    gender   -0.083557\n",
       "5                trans_year   -0.092528\n",
       "4               trans_month   -0.241290\n",
       "15        category_misc_net   -0.243475\n",
       "19    category_shopping_pos   -0.542576\n",
       "18    category_shopping_net   -0.766548"
      ]
     },
     "execution_count": 58,
     "metadata": {},
     "output_type": "execute_result"
    }
   ],
   "source": [
    "feature= pd.DataFrame()\n",
    "feature['column']= X_train.columns\n",
    "feature['importance']= logit_model.coef_[0]\n",
    "feature.sort_values('importance', ascending=False, inplace=True)\n",
    "feature"
   ]
  },
  {
   "cell_type": "markdown",
   "id": "2bc26dfb",
   "metadata": {
    "papermill": {
     "duration": 0.135911,
     "end_time": "2022-04-24T18:12:28.296312",
     "exception": false,
     "start_time": "2022-04-24T18:12:28.160401",
     "status": "completed"
    },
    "tags": []
   },
   "source": [
    "## Logistic Regression"
   ]
  },
  {
   "cell_type": "code",
   "execution_count": 59,
   "id": "3b244e9f",
   "metadata": {},
   "outputs": [
    {
     "data": {
      "text/html": [
       "<div>\n",
       "<style scoped>\n",
       "    .dataframe tbody tr th:only-of-type {\n",
       "        vertical-align: middle;\n",
       "    }\n",
       "\n",
       "    .dataframe tbody tr th {\n",
       "        vertical-align: top;\n",
       "    }\n",
       "\n",
       "    .dataframe thead th {\n",
       "        text-align: right;\n",
       "    }\n",
       "</style>\n",
       "<table border=\"1\" class=\"dataframe\">\n",
       "  <thead>\n",
       "    <tr style=\"text-align: right;\">\n",
       "      <th></th>\n",
       "      <th>amt</th>\n",
       "      <th>gender</th>\n",
       "      <th>city_pop</th>\n",
       "      <th>age</th>\n",
       "      <th>trans_month</th>\n",
       "      <th>trans_year</th>\n",
       "      <th>latitudinal_distance</th>\n",
       "      <th>longitudinal_distance</th>\n",
       "      <th>category_food_dining</th>\n",
       "      <th>category_gas_transport</th>\n",
       "      <th>category_grocery_net</th>\n",
       "      <th>category_grocery_pos</th>\n",
       "      <th>category_health_fitness</th>\n",
       "      <th>category_home</th>\n",
       "      <th>category_kids_pets</th>\n",
       "      <th>category_misc_net</th>\n",
       "      <th>category_misc_pos</th>\n",
       "      <th>category_personal_care</th>\n",
       "      <th>category_shopping_net</th>\n",
       "      <th>category_shopping_pos</th>\n",
       "      <th>category_travel</th>\n",
       "    </tr>\n",
       "  </thead>\n",
       "  <tbody>\n",
       "    <tr>\n",
       "      <th>724222</th>\n",
       "      <td>12.26</td>\n",
       "      <td>1</td>\n",
       "      <td>2092</td>\n",
       "      <td>57.0</td>\n",
       "      <td>11</td>\n",
       "      <td>2019</td>\n",
       "      <td>0.364</td>\n",
       "      <td>0.790</td>\n",
       "      <td>0</td>\n",
       "      <td>0</td>\n",
       "      <td>0</td>\n",
       "      <td>0</td>\n",
       "      <td>0</td>\n",
       "      <td>0</td>\n",
       "      <td>1</td>\n",
       "      <td>0</td>\n",
       "      <td>0</td>\n",
       "      <td>0</td>\n",
       "      <td>0</td>\n",
       "      <td>0</td>\n",
       "      <td>0</td>\n",
       "    </tr>\n",
       "    <tr>\n",
       "      <th>193843</th>\n",
       "      <td>8.98</td>\n",
       "      <td>0</td>\n",
       "      <td>34496</td>\n",
       "      <td>49.0</td>\n",
       "      <td>8</td>\n",
       "      <td>2020</td>\n",
       "      <td>0.831</td>\n",
       "      <td>0.309</td>\n",
       "      <td>0</td>\n",
       "      <td>0</td>\n",
       "      <td>0</td>\n",
       "      <td>0</td>\n",
       "      <td>0</td>\n",
       "      <td>0</td>\n",
       "      <td>0</td>\n",
       "      <td>0</td>\n",
       "      <td>0</td>\n",
       "      <td>0</td>\n",
       "      <td>1</td>\n",
       "      <td>0</td>\n",
       "      <td>0</td>\n",
       "    </tr>\n",
       "    <tr>\n",
       "      <th>828211</th>\n",
       "      <td>327.36</td>\n",
       "      <td>0</td>\n",
       "      <td>3876</td>\n",
       "      <td>59.0</td>\n",
       "      <td>12</td>\n",
       "      <td>2019</td>\n",
       "      <td>0.349</td>\n",
       "      <td>0.183</td>\n",
       "      <td>0</td>\n",
       "      <td>0</td>\n",
       "      <td>0</td>\n",
       "      <td>1</td>\n",
       "      <td>0</td>\n",
       "      <td>0</td>\n",
       "      <td>0</td>\n",
       "      <td>0</td>\n",
       "      <td>0</td>\n",
       "      <td>0</td>\n",
       "      <td>0</td>\n",
       "      <td>0</td>\n",
       "      <td>0</td>\n",
       "    </tr>\n",
       "    <tr>\n",
       "      <th>277282</th>\n",
       "      <td>2.60</td>\n",
       "      <td>0</td>\n",
       "      <td>54287</td>\n",
       "      <td>48.0</td>\n",
       "      <td>10</td>\n",
       "      <td>2020</td>\n",
       "      <td>0.616</td>\n",
       "      <td>0.483</td>\n",
       "      <td>0</td>\n",
       "      <td>0</td>\n",
       "      <td>0</td>\n",
       "      <td>0</td>\n",
       "      <td>0</td>\n",
       "      <td>0</td>\n",
       "      <td>0</td>\n",
       "      <td>0</td>\n",
       "      <td>0</td>\n",
       "      <td>0</td>\n",
       "      <td>0</td>\n",
       "      <td>1</td>\n",
       "      <td>0</td>\n",
       "    </tr>\n",
       "    <tr>\n",
       "      <th>851181</th>\n",
       "      <td>1.42</td>\n",
       "      <td>0</td>\n",
       "      <td>1478</td>\n",
       "      <td>54.0</td>\n",
       "      <td>12</td>\n",
       "      <td>2019</td>\n",
       "      <td>0.589</td>\n",
       "      <td>0.611</td>\n",
       "      <td>0</td>\n",
       "      <td>0</td>\n",
       "      <td>0</td>\n",
       "      <td>0</td>\n",
       "      <td>0</td>\n",
       "      <td>0</td>\n",
       "      <td>1</td>\n",
       "      <td>0</td>\n",
       "      <td>0</td>\n",
       "      <td>0</td>\n",
       "      <td>0</td>\n",
       "      <td>0</td>\n",
       "      <td>0</td>\n",
       "    </tr>\n",
       "  </tbody>\n",
       "</table>\n",
       "</div>"
      ],
      "text/plain": [
       "           amt  gender  city_pop   age  trans_month  trans_year  \\\n",
       "724222   12.26       1      2092  57.0           11        2019   \n",
       "193843    8.98       0     34496  49.0            8        2020   \n",
       "828211  327.36       0      3876  59.0           12        2019   \n",
       "277282    2.60       0     54287  48.0           10        2020   \n",
       "851181    1.42       0      1478  54.0           12        2019   \n",
       "\n",
       "        latitudinal_distance  longitudinal_distance  category_food_dining  \\\n",
       "724222                 0.364                  0.790                     0   \n",
       "193843                 0.831                  0.309                     0   \n",
       "828211                 0.349                  0.183                     0   \n",
       "277282                 0.616                  0.483                     0   \n",
       "851181                 0.589                  0.611                     0   \n",
       "\n",
       "        category_gas_transport  category_grocery_net  category_grocery_pos  \\\n",
       "724222                       0                     0                     0   \n",
       "193843                       0                     0                     0   \n",
       "828211                       0                     0                     1   \n",
       "277282                       0                     0                     0   \n",
       "851181                       0                     0                     0   \n",
       "\n",
       "        category_health_fitness  category_home  category_kids_pets  \\\n",
       "724222                        0              0                   1   \n",
       "193843                        0              0                   0   \n",
       "828211                        0              0                   0   \n",
       "277282                        0              0                   0   \n",
       "851181                        0              0                   1   \n",
       "\n",
       "        category_misc_net  category_misc_pos  category_personal_care  \\\n",
       "724222                  0                  0                       0   \n",
       "193843                  0                  0                       0   \n",
       "828211                  0                  0                       0   \n",
       "277282                  0                  0                       0   \n",
       "851181                  0                  0                       0   \n",
       "\n",
       "        category_shopping_net  category_shopping_pos  category_travel  \n",
       "724222                      0                      0                0  \n",
       "193843                      1                      0                0  \n",
       "828211                      0                      0                0  \n",
       "277282                      0                      1                0  \n",
       "851181                      0                      0                0  "
      ]
     },
     "execution_count": 59,
     "metadata": {},
     "output_type": "execute_result"
    }
   ],
   "source": [
    "pd.set_option('display.max_columns', None)\n",
    "X_train.head()"
   ]
  },
  {
   "cell_type": "code",
   "execution_count": 60,
   "id": "7c807efa",
   "metadata": {},
   "outputs": [
    {
     "name": "stdout",
     "output_type": "stream",
     "text": [
      "[-0.76367673  1.05751042 -0.28696288  0.55210806  1.21696988 -0.96088814\n",
      " -0.4786524   1.00195498 -0.21967269 -0.31541439 -0.16531004 -0.4410031\n",
      " -0.21131502 -0.25540074  3.97585616 -0.30611265 -0.22338642 -0.23030642\n",
      " -0.42380542 -0.33265961 -0.15585472]\n"
     ]
    }
   ],
   "source": [
    "print(X_train_std[0])"
   ]
  },
  {
   "cell_type": "code",
   "execution_count": 61,
   "id": "9a1f4c2f",
   "metadata": {
    "execution": {
     "iopub.execute_input": "2022-04-24T18:12:28.570343Z",
     "iopub.status.busy": "2022-04-24T18:12:28.569840Z",
     "iopub.status.idle": "2022-04-24T18:12:53.886176Z",
     "shell.execute_reply": "2022-04-24T18:12:53.885158Z"
    },
    "papermill": {
     "duration": 25.456539,
     "end_time": "2022-04-24T18:12:53.888530",
     "exception": false,
     "start_time": "2022-04-24T18:12:28.431991",
     "status": "completed"
    },
    "tags": []
   },
   "outputs": [
    {
     "name": "stderr",
     "output_type": "stream",
     "text": [
      "C:\\Users\\surya\\anaconda3\\lib\\site-packages\\sklearn\\base.py:443: UserWarning: X has feature names, but LogisticRegression was fitted without feature names\n",
      "  warnings.warn(\n"
     ]
    },
    {
     "name": "stdout",
     "output_type": "stream",
     "text": [
      "Score of the model with X-train and Y-train is :  67.95 %\n"
     ]
    },
    {
     "name": "stderr",
     "output_type": "stream",
     "text": [
      "C:\\Users\\surya\\anaconda3\\lib\\site-packages\\sklearn\\base.py:443: UserWarning: X has feature names, but LogisticRegression was fitted without feature names\n",
      "  warnings.warn(\n"
     ]
    },
    {
     "name": "stdout",
     "output_type": "stream",
     "text": [
      "Score of the model with X-test and Y-test is :  67.92 %\n",
      " Mean absolute error is  0.17727283416210976\n",
      " Mean squared  error is  0.17727283416210976\n",
      " Median absolute error is  0.0\n",
      "Accuracy is  82.27 %\n",
      "F1 score:  82.18 %\n"
     ]
    }
   ],
   "source": [
    "import pickle\n",
    "\n",
    "Logit1=LogisticRegression(solver='liblinear')\n",
    "\n",
    "Logit1.fit(X_train_std,Y_train)\n",
    "\n",
    "with open('logmodel.pkl', 'wb') as f:\n",
    "    pickle.dump(Logit1, f)\n",
    "    \n",
    "print(\"Score of the model with X-train and Y-train is : \", str(round(Logit1.score(X_train,Y_train)*100,2)),\"%\")\n",
    "print(\"Score of the model with X-test and Y-test is : \", str(round(Logit1.score(X_test,Y_test)*100,2)),\"%\")\n",
    "\n",
    "Y_pred=Logit1.predict(X_test_std)\n",
    "\n",
    "print( \" Mean absolute error is \",( mean_absolute_error(Y_test,Y_pred)))\n",
    "print(\" Mean squared  error is \" , mean_squared_error(Y_test,Y_pred))\n",
    "print(\" Median absolute error is \" ,median_absolute_error(Y_test,Y_pred)) \n",
    "print(\"Accuracy is \" , round(accuracy_score(Y_test,Y_pred)*100,2),\"%\")\n",
    "print(\"F1 score: \", round(f1_score(Y_test, Y_pred, average='weighted')*100,2),\"%\")"
   ]
  },
  {
   "cell_type": "code",
   "execution_count": 62,
   "id": "5426e04b",
   "metadata": {},
   "outputs": [
    {
     "name": "stdout",
     "output_type": "stream",
     "text": [
      "1\n"
     ]
    }
   ],
   "source": [
    "a1 = [[327.36, 0, 3876, 59, 12, 2019, 0.349, 0.183, 0, 0, 0, 1, 0, 0, 0, 0, 0, 0, 0, 0, 0]]\n",
    "\n",
    "ans = sc.fit_transform(a1)\n",
    "\n",
    "out=Logit1.predict(ans)\n",
    "print(out[0])"
   ]
  },
  {
   "cell_type": "markdown",
   "id": "59c16d21",
   "metadata": {
    "papermill": {
     "duration": 0.140654,
     "end_time": "2022-04-24T18:12:54.166532",
     "exception": false,
     "start_time": "2022-04-24T18:12:54.025878",
     "status": "completed"
    },
    "tags": []
   },
   "source": [
    "### Fine Tuning"
   ]
  },
  {
   "cell_type": "code",
   "execution_count": 63,
   "id": "0f17a5a3",
   "metadata": {
    "execution": {
     "iopub.execute_input": "2022-04-24T18:12:54.443547Z",
     "iopub.status.busy": "2022-04-24T18:12:54.442966Z",
     "iopub.status.idle": "2022-04-24T18:12:54.505391Z",
     "shell.execute_reply": "2022-04-24T18:12:54.504671Z"
    },
    "papermill": {
     "duration": 0.203065,
     "end_time": "2022-04-24T18:12:54.507636",
     "exception": false,
     "start_time": "2022-04-24T18:12:54.304571",
     "status": "completed"
    },
    "tags": []
   },
   "outputs": [],
   "source": [
    "X_train_new=X_train[[x for x in feature[feature[\"importance\"]>0].column]]\n",
    "X_test_new=X_test[[x for x in feature[feature[\"importance\"]>0].column]]"
   ]
  },
  {
   "cell_type": "markdown",
   "id": "78e6805c",
   "metadata": {
    "papermill": {
     "duration": 0.137216,
     "end_time": "2022-04-24T18:12:54.782087",
     "exception": false,
     "start_time": "2022-04-24T18:12:54.644871",
     "status": "completed"
    },
    "tags": []
   },
   "source": [
    "checking p values & variance inflation factor"
   ]
  },
  {
   "cell_type": "code",
   "execution_count": 64,
   "id": "aa1ebdfc",
   "metadata": {
    "execution": {
     "iopub.execute_input": "2022-04-24T18:12:55.059405Z",
     "iopub.status.busy": "2022-04-24T18:12:55.059096Z",
     "iopub.status.idle": "2022-04-24T18:12:55.782196Z",
     "shell.execute_reply": "2022-04-24T18:12:55.781314Z"
    },
    "papermill": {
     "duration": 0.865526,
     "end_time": "2022-04-24T18:12:55.784754",
     "exception": false,
     "start_time": "2022-04-24T18:12:54.919228",
     "status": "completed"
    },
    "tags": []
   },
   "outputs": [
    {
     "name": "stderr",
     "output_type": "stream",
     "text": [
      "C:\\Users\\surya\\anaconda3\\lib\\site-packages\\statsmodels\\tsa\\base\\tsa_model.py:7: FutureWarning: pandas.Int64Index is deprecated and will be removed from pandas in a future version. Use pandas.Index with the appropriate dtype instead.\n",
      "  from pandas import (to_datetime, Int64Index, DatetimeIndex, Period,\n",
      "C:\\Users\\surya\\anaconda3\\lib\\site-packages\\statsmodels\\tsa\\base\\tsa_model.py:7: FutureWarning: pandas.Float64Index is deprecated and will be removed from pandas in a future version. Use pandas.Index with the appropriate dtype instead.\n",
      "  from pandas import (to_datetime, Int64Index, DatetimeIndex, Period,\n"
     ]
    }
   ],
   "source": [
    "import statsmodels.api as sm\n",
    "from statsmodels.stats.outliers_influence import variance_inflation_factor"
   ]
  },
  {
   "cell_type": "code",
   "execution_count": 65,
   "id": "02c04bc2",
   "metadata": {
    "execution": {
     "iopub.execute_input": "2022-04-24T18:12:56.063769Z",
     "iopub.status.busy": "2022-04-24T18:12:56.063179Z",
     "iopub.status.idle": "2022-04-24T18:13:13.839785Z",
     "shell.execute_reply": "2022-04-24T18:13:13.837623Z"
    },
    "papermill": {
     "duration": 17.919062,
     "end_time": "2022-04-24T18:13:13.842275",
     "exception": false,
     "start_time": "2022-04-24T18:12:55.923213",
     "status": "completed"
    },
    "tags": []
   },
   "outputs": [
    {
     "name": "stderr",
     "output_type": "stream",
     "text": [
      "C:\\Users\\surya\\anaconda3\\lib\\site-packages\\statsmodels\\tsa\\tsatools.py:142: FutureWarning: In a future version of pandas all arguments of concat except for the argument 'objs' will be keyword-only.\n",
      "  x = pd.concat(x[::order], 1)\n"
     ]
    },
    {
     "data": {
      "text/html": [
       "<table class=\"simpletable\">\n",
       "<caption>Generalized Linear Model Regression Results</caption>\n",
       "<tr>\n",
       "  <th>Dep. Variable:</th>       <td>is_fraud</td>     <th>  No. Observations:  </th>   <td>2579840</td>  \n",
       "</tr>\n",
       "<tr>\n",
       "  <th>Model:</th>                  <td>GLM</td>       <th>  Df Residuals:      </th>   <td>2579826</td>  \n",
       "</tr>\n",
       "<tr>\n",
       "  <th>Model Family:</th>        <td>Binomial</td>     <th>  Df Model:          </th>   <td>    13</td>   \n",
       "</tr>\n",
       "<tr>\n",
       "  <th>Link Function:</th>         <td>logit</td>      <th>  Scale:             </th>  <td>  1.0000</td>  \n",
       "</tr>\n",
       "<tr>\n",
       "  <th>Method:</th>                <td>IRLS</td>       <th>  Log-Likelihood:    </th> <td>-9.6068e+05</td>\n",
       "</tr>\n",
       "<tr>\n",
       "  <th>Date:</th>            <td>Tue, 04 Apr 2023</td> <th>  Deviance:          </th> <td>1.9214e+06</td> \n",
       "</tr>\n",
       "<tr>\n",
       "  <th>Time:</th>                <td>10:45:39</td>     <th>  Pearson chi2:      </th>  <td>1.05e+18</td>  \n",
       "</tr>\n",
       "<tr>\n",
       "  <th>No. Iterations:</th>          <td>8</td>        <th>                     </th>      <td> </td>     \n",
       "</tr>\n",
       "<tr>\n",
       "  <th>Covariance Type:</th>     <td>nonrobust</td>    <th>                     </th>      <td> </td>     \n",
       "</tr>\n",
       "</table>\n",
       "<table class=\"simpletable\">\n",
       "<tr>\n",
       "             <td></td>                <th>coef</th>     <th>std err</th>      <th>z</th>      <th>P>|z|</th>  <th>[0.025</th>    <th>0.975]</th>  \n",
       "</tr>\n",
       "<tr>\n",
       "  <th>const</th>                   <td>   -4.3127</td> <td>    0.011</td> <td> -393.652</td> <td> 0.000</td> <td>   -4.334</td> <td>   -4.291</td>\n",
       "</tr>\n",
       "<tr>\n",
       "  <th>amt</th>                     <td>    0.0101</td> <td> 1.68e-05</td> <td>  599.930</td> <td> 0.000</td> <td>    0.010</td> <td>    0.010</td>\n",
       "</tr>\n",
       "<tr>\n",
       "  <th>category_gas_transport</th>  <td>    3.5436</td> <td>    0.010</td> <td>  358.227</td> <td> 0.000</td> <td>    3.524</td> <td>    3.563</td>\n",
       "</tr>\n",
       "<tr>\n",
       "  <th>category_grocery_pos</th>    <td>    2.6769</td> <td>    0.008</td> <td>  336.484</td> <td> 0.000</td> <td>    2.661</td> <td>    2.692</td>\n",
       "</tr>\n",
       "<tr>\n",
       "  <th>category_personal_care</th>  <td>    2.9094</td> <td>    0.011</td> <td>  268.012</td> <td> 0.000</td> <td>    2.888</td> <td>    2.931</td>\n",
       "</tr>\n",
       "<tr>\n",
       "  <th>category_kids_pets</th>      <td>    2.6713</td> <td>    0.011</td> <td>  251.502</td> <td> 0.000</td> <td>    2.650</td> <td>    2.692</td>\n",
       "</tr>\n",
       "<tr>\n",
       "  <th>category_misc_pos</th>       <td>    2.8207</td> <td>    0.011</td> <td>  247.250</td> <td> 0.000</td> <td>    2.798</td> <td>    2.843</td>\n",
       "</tr>\n",
       "<tr>\n",
       "  <th>category_grocery_net</th>    <td>    3.1335</td> <td>    0.012</td> <td>  259.111</td> <td> 0.000</td> <td>    3.110</td> <td>    3.157</td>\n",
       "</tr>\n",
       "<tr>\n",
       "  <th>category_travel</th>         <td>    3.1722</td> <td>    0.013</td> <td>  239.479</td> <td> 0.000</td> <td>    3.146</td> <td>    3.198</td>\n",
       "</tr>\n",
       "<tr>\n",
       "  <th>category_health_fitness</th> <td>    2.4608</td> <td>    0.011</td> <td>  214.340</td> <td> 0.000</td> <td>    2.438</td> <td>    2.483</td>\n",
       "</tr>\n",
       "<tr>\n",
       "  <th>category_food_dining</th>    <td>    2.2673</td> <td>    0.011</td> <td>  205.154</td> <td> 0.000</td> <td>    2.246</td> <td>    2.289</td>\n",
       "</tr>\n",
       "<tr>\n",
       "  <th>category_home</th>           <td>    1.7122</td> <td>    0.010</td> <td>  166.849</td> <td> 0.000</td> <td>    1.692</td> <td>    1.732</td>\n",
       "</tr>\n",
       "<tr>\n",
       "  <th>age</th>                     <td>    0.0017</td> <td>    0.000</td> <td>   16.591</td> <td> 0.000</td> <td>    0.001</td> <td>    0.002</td>\n",
       "</tr>\n",
       "<tr>\n",
       "  <th>latitudinal_distance</th>    <td>    0.0496</td> <td>    0.006</td> <td>    7.999</td> <td> 0.000</td> <td>    0.037</td> <td>    0.062</td>\n",
       "</tr>\n",
       "</table>"
      ],
      "text/plain": [
       "<class 'statsmodels.iolib.summary.Summary'>\n",
       "\"\"\"\n",
       "                 Generalized Linear Model Regression Results                  \n",
       "==============================================================================\n",
       "Dep. Variable:               is_fraud   No. Observations:              2579840\n",
       "Model:                            GLM   Df Residuals:                  2579826\n",
       "Model Family:                Binomial   Df Model:                           13\n",
       "Link Function:                  logit   Scale:                          1.0000\n",
       "Method:                          IRLS   Log-Likelihood:            -9.6068e+05\n",
       "Date:                Tue, 04 Apr 2023   Deviance:                   1.9214e+06\n",
       "Time:                        10:45:39   Pearson chi2:                 1.05e+18\n",
       "No. Iterations:                     8                                         \n",
       "Covariance Type:            nonrobust                                         \n",
       "===========================================================================================\n",
       "                              coef    std err          z      P>|z|      [0.025      0.975]\n",
       "-------------------------------------------------------------------------------------------\n",
       "const                      -4.3127      0.011   -393.652      0.000      -4.334      -4.291\n",
       "amt                         0.0101   1.68e-05    599.930      0.000       0.010       0.010\n",
       "category_gas_transport      3.5436      0.010    358.227      0.000       3.524       3.563\n",
       "category_grocery_pos        2.6769      0.008    336.484      0.000       2.661       2.692\n",
       "category_personal_care      2.9094      0.011    268.012      0.000       2.888       2.931\n",
       "category_kids_pets          2.6713      0.011    251.502      0.000       2.650       2.692\n",
       "category_misc_pos           2.8207      0.011    247.250      0.000       2.798       2.843\n",
       "category_grocery_net        3.1335      0.012    259.111      0.000       3.110       3.157\n",
       "category_travel             3.1722      0.013    239.479      0.000       3.146       3.198\n",
       "category_health_fitness     2.4608      0.011    214.340      0.000       2.438       2.483\n",
       "category_food_dining        2.2673      0.011    205.154      0.000       2.246       2.289\n",
       "category_home               1.7122      0.010    166.849      0.000       1.692       1.732\n",
       "age                         0.0017      0.000     16.591      0.000       0.001       0.002\n",
       "latitudinal_distance        0.0496      0.006      7.999      0.000       0.037       0.062\n",
       "===========================================================================================\n",
       "\"\"\""
      ]
     },
     "execution_count": 65,
     "metadata": {},
     "output_type": "execute_result"
    }
   ],
   "source": [
    "X_train_sm = sm.add_constant(X_train_new)\n",
    "logm = sm.GLM(Y_train, X_train_sm, family = sm.families.Binomial())\n",
    "res = logm.fit()\n",
    "res.summary()"
   ]
  },
  {
   "cell_type": "code",
   "execution_count": 66,
   "id": "a55e1521",
   "metadata": {
    "execution": {
     "iopub.execute_input": "2022-04-24T18:13:14.122844Z",
     "iopub.status.busy": "2022-04-24T18:13:14.122238Z",
     "iopub.status.idle": "2022-04-24T18:14:01.718135Z",
     "shell.execute_reply": "2022-04-24T18:14:01.717202Z"
    },
    "papermill": {
     "duration": 47.927544,
     "end_time": "2022-04-24T18:14:01.908605",
     "exception": false,
     "start_time": "2022-04-24T18:13:13.981061",
     "status": "completed"
    },
    "tags": []
   },
   "outputs": [
    {
     "data": {
      "text/html": [
       "<div>\n",
       "<style scoped>\n",
       "    .dataframe tbody tr th:only-of-type {\n",
       "        vertical-align: middle;\n",
       "    }\n",
       "\n",
       "    .dataframe tbody tr th {\n",
       "        vertical-align: top;\n",
       "    }\n",
       "\n",
       "    .dataframe thead th {\n",
       "        text-align: right;\n",
       "    }\n",
       "</style>\n",
       "<table border=\"1\" class=\"dataframe\">\n",
       "  <thead>\n",
       "    <tr style=\"text-align: right;\">\n",
       "      <th></th>\n",
       "      <th>Features</th>\n",
       "      <th>VIF</th>\n",
       "    </tr>\n",
       "  </thead>\n",
       "  <tbody>\n",
       "    <tr>\n",
       "      <th>11</th>\n",
       "      <td>age</td>\n",
       "      <td>4.74</td>\n",
       "    </tr>\n",
       "    <tr>\n",
       "      <th>12</th>\n",
       "      <td>latitudinal_distance</td>\n",
       "      <td>3.30</td>\n",
       "    </tr>\n",
       "    <tr>\n",
       "      <th>0</th>\n",
       "      <td>amt</td>\n",
       "      <td>2.17</td>\n",
       "    </tr>\n",
       "    <tr>\n",
       "      <th>2</th>\n",
       "      <td>category_grocery_pos</td>\n",
       "      <td>1.43</td>\n",
       "    </tr>\n",
       "    <tr>\n",
       "      <th>1</th>\n",
       "      <td>category_gas_transport</td>\n",
       "      <td>1.36</td>\n",
       "    </tr>\n",
       "    <tr>\n",
       "      <th>4</th>\n",
       "      <td>category_kids_pets</td>\n",
       "      <td>1.21</td>\n",
       "    </tr>\n",
       "    <tr>\n",
       "      <th>3</th>\n",
       "      <td>category_personal_care</td>\n",
       "      <td>1.19</td>\n",
       "    </tr>\n",
       "    <tr>\n",
       "      <th>10</th>\n",
       "      <td>category_home</td>\n",
       "      <td>1.19</td>\n",
       "    </tr>\n",
       "    <tr>\n",
       "      <th>8</th>\n",
       "      <td>category_health_fitness</td>\n",
       "      <td>1.15</td>\n",
       "    </tr>\n",
       "    <tr>\n",
       "      <th>9</th>\n",
       "      <td>category_food_dining</td>\n",
       "      <td>1.15</td>\n",
       "    </tr>\n",
       "    <tr>\n",
       "      <th>5</th>\n",
       "      <td>category_misc_pos</td>\n",
       "      <td>1.14</td>\n",
       "    </tr>\n",
       "    <tr>\n",
       "      <th>6</th>\n",
       "      <td>category_grocery_net</td>\n",
       "      <td>1.09</td>\n",
       "    </tr>\n",
       "    <tr>\n",
       "      <th>7</th>\n",
       "      <td>category_travel</td>\n",
       "      <td>1.09</td>\n",
       "    </tr>\n",
       "  </tbody>\n",
       "</table>\n",
       "</div>"
      ],
      "text/plain": [
       "                   Features   VIF\n",
       "11                      age  4.74\n",
       "12     latitudinal_distance  3.30\n",
       "0                       amt  2.17\n",
       "2      category_grocery_pos  1.43\n",
       "1    category_gas_transport  1.36\n",
       "4        category_kids_pets  1.21\n",
       "3    category_personal_care  1.19\n",
       "10            category_home  1.19\n",
       "8   category_health_fitness  1.15\n",
       "9      category_food_dining  1.15\n",
       "5         category_misc_pos  1.14\n",
       "6      category_grocery_net  1.09\n",
       "7           category_travel  1.09"
      ]
     },
     "execution_count": 66,
     "metadata": {},
     "output_type": "execute_result"
    }
   ],
   "source": [
    "vif = pd.DataFrame()\n",
    "vif['Features'] = X_train_new.columns\n",
    "vif['VIF'] = [variance_inflation_factor(X_train_new.values, i) for i in range(X_train_new.shape[1])]\n",
    "vif['VIF'] = round(vif['VIF'], 2)\n",
    "vif = vif.sort_values(by = \"VIF\", ascending = False)\n",
    "vif"
   ]
  },
  {
   "cell_type": "markdown",
   "id": "3c8eb55a",
   "metadata": {
    "papermill": {
     "duration": 0.13811,
     "end_time": "2022-04-24T18:14:02.188580",
     "exception": false,
     "start_time": "2022-04-24T18:14:02.050470",
     "status": "completed"
    },
    "tags": []
   },
   "source": [
    "since all columns have VIF < 5 , we'll continue with all columns"
   ]
  },
  {
   "cell_type": "code",
   "execution_count": 67,
   "id": "f92053c3",
   "metadata": {
    "execution": {
     "iopub.execute_input": "2022-04-24T18:14:02.563555Z",
     "iopub.status.busy": "2022-04-24T18:14:02.563280Z",
     "iopub.status.idle": "2022-04-24T18:14:02.566945Z",
     "shell.execute_reply": "2022-04-24T18:14:02.566346Z"
    },
    "papermill": {
     "duration": 0.240658,
     "end_time": "2022-04-24T18:14:02.568703",
     "exception": false,
     "start_time": "2022-04-24T18:14:02.328045",
     "status": "completed"
    },
    "tags": []
   },
   "outputs": [],
   "source": [
    "#x_train_vif_adj = X_train_new[[x for x in list(vif[vif['VIF']<=5]['Features'])]]\n",
    "x_train_vif_adj = X_train_new\n",
    "#x_test_vif_adj = X_test_new[[x for x in list(vif[vif['VIF']<=5]['Features'])]]\n",
    "x_test_vif_adj = X_test_new\n"
   ]
  },
  {
   "cell_type": "markdown",
   "id": "cabd042b",
   "metadata": {
    "papermill": {
     "duration": 0.137932,
     "end_time": "2022-04-24T18:14:02.844757",
     "exception": false,
     "start_time": "2022-04-24T18:14:02.706825",
     "status": "completed"
    },
    "tags": []
   },
   "source": [
    "Scaling the new test and train sets"
   ]
  },
  {
   "cell_type": "code",
   "execution_count": 68,
   "id": "7602d167",
   "metadata": {
    "execution": {
     "iopub.execute_input": "2022-04-24T18:14:03.145813Z",
     "iopub.status.busy": "2022-04-24T18:14:03.145295Z",
     "iopub.status.idle": "2022-04-24T18:14:03.764067Z",
     "shell.execute_reply": "2022-04-24T18:14:03.763327Z"
    },
    "papermill": {
     "duration": 0.775896,
     "end_time": "2022-04-24T18:14:03.766545",
     "exception": false,
     "start_time": "2022-04-24T18:14:02.990649",
     "status": "completed"
    },
    "tags": []
   },
   "outputs": [],
   "source": [
    "sc= StandardScaler()\n",
    "X_train_vif_adj_std=sc.fit_transform(x_train_vif_adj)\n",
    "X_test_vif_adj_std = sc.fit_transform(x_test_vif_adj)"
   ]
  },
  {
   "cell_type": "markdown",
   "id": "79a9c02e",
   "metadata": {
    "papermill": {
     "duration": 0.140274,
     "end_time": "2022-04-24T18:14:04.045597",
     "exception": false,
     "start_time": "2022-04-24T18:14:03.905323",
     "status": "completed"
    },
    "tags": []
   },
   "source": [
    "Training a new Logistic Regression Model to reflect the changes-"
   ]
  },
  {
   "cell_type": "code",
   "execution_count": 69,
   "id": "db5fbb6e",
   "metadata": {
    "execution": {
     "iopub.execute_input": "2022-04-24T18:14:04.324746Z",
     "iopub.status.busy": "2022-04-24T18:14:04.324291Z",
     "iopub.status.idle": "2022-04-24T18:14:19.342067Z",
     "shell.execute_reply": "2022-04-24T18:14:19.341105Z"
    },
    "papermill": {
     "duration": 15.160362,
     "end_time": "2022-04-24T18:14:19.344675",
     "exception": false,
     "start_time": "2022-04-24T18:14:04.184313",
     "status": "completed"
    },
    "tags": []
   },
   "outputs": [
    {
     "name": "stdout",
     "output_type": "stream",
     "text": [
      "Score of the model with X-train and Y-train is :  82.34 %\n",
      "Score of the model with X-test and Y-test is :  82.17 %\n",
      " Mean absolute error is  0.17834098798349562\n",
      " Mean squared  error is  0.17834098798349562\n",
      " Median absolute error is  0.0\n",
      "Accuracy is  82.17 %\n",
      "F1 score:  82.05 %\n"
     ]
    }
   ],
   "source": [
    "Logit2=LogisticRegression(solver='liblinear')\n",
    "\n",
    "Logit2.fit(X_train_vif_adj_std,Y_train)\n",
    "\n",
    "print(\"Score of the model with X-train and Y-train is : \", str(round(Logit2.score(X_train_vif_adj_std,Y_train)*100,2)),\"%\")\n",
    "print(\"Score of the model with X-test and Y-test is : \", str(round(Logit2.score(X_test_vif_adj_std,Y_test)*100,2)),\"%\")\n",
    "\n",
    "Y_pred=Logit2.predict(X_test_vif_adj_std)\n",
    "\n",
    "print( \" Mean absolute error is \",( mean_absolute_error(Y_test,Y_pred)))\n",
    "print(\" Mean squared  error is \" , mean_squared_error(Y_test,Y_pred))\n",
    "print(\" Median absolute error is \" ,median_absolute_error(Y_test,Y_pred)) \n",
    "print(\"Accuracy is \" , round(accuracy_score(Y_test,Y_pred)*100,2),\"%\")\n",
    "print(\"F1 score: \", round(f1_score(Y_test, Y_pred, average='weighted')*100,2),\"%\")"
   ]
  },
  {
   "cell_type": "code",
   "execution_count": 70,
   "id": "6a0d3366",
   "metadata": {
    "execution": {
     "iopub.execute_input": "2022-04-24T18:14:19.629033Z",
     "iopub.status.busy": "2022-04-24T18:14:19.628756Z",
     "iopub.status.idle": "2022-04-24T18:14:24.644358Z",
     "shell.execute_reply": "2022-04-24T18:14:24.642994Z"
    },
    "papermill": {
     "duration": 5.161328,
     "end_time": "2022-04-24T18:14:24.647357",
     "exception": false,
     "start_time": "2022-04-24T18:14:19.486029",
     "status": "completed"
    },
    "tags": []
   },
   "outputs": [
    {
     "name": "stdout",
     "output_type": "stream",
     "text": [
      "Confusion matrix : \n",
      " [[410545 142287]\n",
      " [ 54895 497919]]\n",
      "Outcome values : \n",
      " 410545 142287 54895 497919\n",
      "Classification report : \n",
      "               precision    recall  f1-score   support\n",
      "\n",
      "           1       0.88      0.74      0.81    552832\n",
      "           0       0.78      0.90      0.83    552814\n",
      "\n",
      "    accuracy                           0.82   1105646\n",
      "   macro avg       0.83      0.82      0.82   1105646\n",
      "weighted avg       0.83      0.82      0.82   1105646\n",
      "\n"
     ]
    }
   ],
   "source": [
    "matrix = confusion_matrix(Y_test,Y_pred, labels=[1,0])\n",
    "print('Confusion matrix : \\n',matrix)\n",
    "\n",
    "\n",
    "tp, fn, fp, tn = confusion_matrix(Y_test,Y_pred,labels=[1,0]).reshape(-1)\n",
    "print('Outcome values : \\n', tp, fn, fp, tn)\n",
    "\n",
    "\n",
    "matrix = classification_report(Y_test,Y_pred,labels=[1,0])\n",
    "print('Classification report : \\n',matrix)"
   ]
  },
  {
   "cell_type": "code",
   "execution_count": 71,
   "id": "9dace700",
   "metadata": {
    "execution": {
     "iopub.execute_input": "2022-04-24T18:14:24.935478Z",
     "iopub.status.busy": "2022-04-24T18:14:24.934941Z",
     "iopub.status.idle": "2022-04-24T18:14:25.493580Z",
     "shell.execute_reply": "2022-04-24T18:14:25.492664Z"
    },
    "papermill": {
     "duration": 0.704665,
     "end_time": "2022-04-24T18:14:25.495648",
     "exception": false,
     "start_time": "2022-04-24T18:14:24.790983",
     "status": "completed"
    },
    "tags": []
   },
   "outputs": [
    {
     "name": "stderr",
     "output_type": "stream",
     "text": [
      "C:\\Users\\surya\\anaconda3\\lib\\site-packages\\sklearn\\utils\\deprecation.py:87: FutureWarning: Function plot_roc_curve is deprecated; Function :func:`plot_roc_curve` is deprecated in 1.0 and will be removed in 1.2. Use one of the class methods: :meth:`sklearn.metric.RocCurveDisplay.from_predictions` or :meth:`sklearn.metric.RocCurveDisplay.from_estimator`.\n",
      "  warnings.warn(msg, category=FutureWarning)\n"
     ]
    },
    {
     "data": {
      "image/png": "[encoded data removed]",
      "text/plain": [
       "<Figure size 432x288 with 1 Axes>"
      ]
     },
     "metadata": {
      "needs_background": "light"
     },
     "output_type": "display_data"
    }
   ],
   "source": [
    "plot_roc_curve(Logit2, X_test_vif_adj_std, Y_test)\n",
    "plt.show()"
   ]
  },
  {
   "cell_type": "markdown",
   "id": "8a7e59e8",
   "metadata": {
    "papermill": {
     "duration": 0.144791,
     "end_time": "2022-04-24T18:14:25.784840",
     "exception": false,
     "start_time": "2022-04-24T18:14:25.640049",
     "status": "completed"
    },
    "tags": []
   },
   "source": [
    "## Decision Tree"
   ]
  },
  {
   "cell_type": "code",
   "execution_count": 72,
   "id": "520c58fe",
   "metadata": {
    "execution": {
     "iopub.execute_input": "2022-04-24T18:14:26.075464Z",
     "iopub.status.busy": "2022-04-24T18:14:26.074904Z",
     "iopub.status.idle": "2022-04-24T18:14:47.746508Z",
     "shell.execute_reply": "2022-04-24T18:14:47.745534Z"
    },
    "papermill": {
     "duration": 21.820087,
     "end_time": "2022-04-24T18:14:47.748723",
     "exception": false,
     "start_time": "2022-04-24T18:14:25.928636",
     "status": "completed"
    },
    "tags": []
   },
   "outputs": [
    {
     "data": {
      "text/plain": [
       "DecisionTreeClassifier()"
      ]
     },
     "execution_count": 72,
     "metadata": {},
     "output_type": "execute_result"
    }
   ],
   "source": [
    "dtc = DecisionTreeClassifier()\n",
    "dtc.fit(X_train,Y_train)"
   ]
  },
  {
   "cell_type": "markdown",
   "id": "ce44a944",
   "metadata": {
    "papermill": {
     "duration": 0.143853,
     "end_time": "2022-04-24T18:14:48.037238",
     "exception": false,
     "start_time": "2022-04-24T18:14:47.893385",
     "status": "completed"
    },
    "tags": []
   },
   "source": [
    "### Feature Importances using Decision Tree"
   ]
  },
  {
   "cell_type": "code",
   "execution_count": 73,
   "id": "35763d81",
   "metadata": {
    "execution": {
     "iopub.execute_input": "2022-04-24T18:14:48.327575Z",
     "iopub.status.busy": "2022-04-24T18:14:48.327071Z",
     "iopub.status.idle": "2022-04-24T18:14:48.765552Z",
     "shell.execute_reply": "2022-04-24T18:14:48.764844Z"
    },
    "papermill": {
     "duration": 0.58556,
     "end_time": "2022-04-24T18:14:48.767551",
     "exception": false,
     "start_time": "2022-04-24T18:14:48.181991",
     "status": "completed"
    },
    "tags": []
   },
   "outputs": [
    {
     "name": "stdout",
     "output_type": "stream",
     "text": [
      "amt -  0.7281392901640079\n",
      "gender -  0.003647159735627018\n",
      "city_pop -  0.02110547982978857\n",
      "age -  0.027031302717016335\n",
      "trans_month -  0.006893028767127751\n",
      "trans_year -  0.0015728272955361745\n",
      "latitudinal_distance -  0.011969800140499854\n",
      "longitudinal_distance -  0.011921160285641528\n",
      "category_food_dining -  0.01371371411292894\n",
      "category_gas_transport -  0.07416727189845906\n",
      "category_grocery_net -  0.0260193660155596\n",
      "category_grocery_pos -  0.0012803490921376394\n",
      "category_health_fitness -  0.0034183036910789295\n",
      "category_home -  0.016132430847011263\n",
      "category_kids_pets -  0.003612663753477291\n",
      "category_misc_net -  0.002265917927183186\n",
      "category_misc_pos -  0.013542564363879458\n",
      "category_personal_care -  0.004939094682885193\n",
      "category_shopping_net -  0.007897488604454436\n",
      "category_shopping_pos -  0.004188681975890267\n",
      "category_travel -  0.016542104099809548\n"
     ]
    },
    {
     "data": {
      "image/png": "[encoded data removed]",
      "text/plain": [
       "<Figure size 432x288 with 1 Axes>"
      ]
     },
     "metadata": {
      "needs_background": "light"
     },
     "output_type": "display_data"
    }
   ],
   "source": [
    "importance = dtc.feature_importances_\n",
    "for i,v in enumerate(importance):\n",
    "    print(X_train.columns[int(i)],\"- \",v)\n",
    "plt.bar([x for x in range(len(importance))], importance)\n",
    "plt.show()"
   ]
  },
  {
   "cell_type": "code",
   "execution_count": 74,
   "id": "21ec0324",
   "metadata": {},
   "outputs": [
    {
     "data": {
      "text/plain": [
       "Index(['amt', 'gender', 'city_pop', 'age', 'trans_month', 'trans_year',\n",
       "       'latitudinal_distance', 'longitudinal_distance', 'category_food_dining',\n",
       "       'category_gas_transport', 'category_grocery_net',\n",
       "       'category_grocery_pos', 'category_health_fitness', 'category_home',\n",
       "       'category_kids_pets', 'category_misc_net', 'category_misc_pos',\n",
       "       'category_personal_care', 'category_shopping_net',\n",
       "       'category_shopping_pos', 'category_travel'],\n",
       "      dtype='object')"
      ]
     },
     "execution_count": 74,
     "metadata": {},
     "output_type": "execute_result"
    }
   ],
   "source": [
    "X_train.columns"
   ]
  },
  {
   "cell_type": "code",
   "execution_count": 75,
   "id": "d26a8b6a",
   "metadata": {},
   "outputs": [
    {
     "data": {
      "text/plain": [
       "amt                        float64\n",
       "gender                       int64\n",
       "city_pop                     int64\n",
       "age                        float64\n",
       "trans_month                  int64\n",
       "trans_year                   int64\n",
       "latitudinal_distance       float64\n",
       "longitudinal_distance      float64\n",
       "category_food_dining         uint8\n",
       "category_gas_transport       uint8\n",
       "category_grocery_net         uint8\n",
       "category_grocery_pos         uint8\n",
       "category_health_fitness      uint8\n",
       "category_home                uint8\n",
       "category_kids_pets           uint8\n",
       "category_misc_net            uint8\n",
       "category_misc_pos            uint8\n",
       "category_personal_care       uint8\n",
       "category_shopping_net        uint8\n",
       "category_shopping_pos        uint8\n",
       "category_travel              uint8\n",
       "dtype: object"
      ]
     },
     "execution_count": 75,
     "metadata": {},
     "output_type": "execute_result"
    }
   ],
   "source": [
    "X_train.dtypes"
   ]
  },
  {
   "cell_type": "code",
   "execution_count": 76,
   "id": "d000448e",
   "metadata": {},
   "outputs": [
    {
     "data": {
      "text/html": [
       "<div>\n",
       "<style scoped>\n",
       "    .dataframe tbody tr th:only-of-type {\n",
       "        vertical-align: middle;\n",
       "    }\n",
       "\n",
       "    .dataframe tbody tr th {\n",
       "        vertical-align: top;\n",
       "    }\n",
       "\n",
       "    .dataframe thead th {\n",
       "        text-align: right;\n",
       "    }\n",
       "</style>\n",
       "<table border=\"1\" class=\"dataframe\">\n",
       "  <thead>\n",
       "    <tr style=\"text-align: right;\">\n",
       "      <th></th>\n",
       "      <th>amt</th>\n",
       "      <th>gender</th>\n",
       "      <th>city_pop</th>\n",
       "      <th>age</th>\n",
       "      <th>trans_month</th>\n",
       "      <th>trans_year</th>\n",
       "      <th>latitudinal_distance</th>\n",
       "      <th>longitudinal_distance</th>\n",
       "      <th>category_food_dining</th>\n",
       "      <th>category_gas_transport</th>\n",
       "      <th>category_grocery_net</th>\n",
       "      <th>category_grocery_pos</th>\n",
       "      <th>category_health_fitness</th>\n",
       "      <th>category_home</th>\n",
       "      <th>category_kids_pets</th>\n",
       "      <th>category_misc_net</th>\n",
       "      <th>category_misc_pos</th>\n",
       "      <th>category_personal_care</th>\n",
       "      <th>category_shopping_net</th>\n",
       "      <th>category_shopping_pos</th>\n",
       "      <th>category_travel</th>\n",
       "    </tr>\n",
       "  </thead>\n",
       "  <tbody>\n",
       "    <tr>\n",
       "      <th>724222</th>\n",
       "      <td>12.26</td>\n",
       "      <td>1</td>\n",
       "      <td>2092</td>\n",
       "      <td>57.0</td>\n",
       "      <td>11</td>\n",
       "      <td>2019</td>\n",
       "      <td>0.364</td>\n",
       "      <td>0.790</td>\n",
       "      <td>0</td>\n",
       "      <td>0</td>\n",
       "      <td>0</td>\n",
       "      <td>0</td>\n",
       "      <td>0</td>\n",
       "      <td>0</td>\n",
       "      <td>1</td>\n",
       "      <td>0</td>\n",
       "      <td>0</td>\n",
       "      <td>0</td>\n",
       "      <td>0</td>\n",
       "      <td>0</td>\n",
       "      <td>0</td>\n",
       "    </tr>\n",
       "    <tr>\n",
       "      <th>193843</th>\n",
       "      <td>8.98</td>\n",
       "      <td>0</td>\n",
       "      <td>34496</td>\n",
       "      <td>49.0</td>\n",
       "      <td>8</td>\n",
       "      <td>2020</td>\n",
       "      <td>0.831</td>\n",
       "      <td>0.309</td>\n",
       "      <td>0</td>\n",
       "      <td>0</td>\n",
       "      <td>0</td>\n",
       "      <td>0</td>\n",
       "      <td>0</td>\n",
       "      <td>0</td>\n",
       "      <td>0</td>\n",
       "      <td>0</td>\n",
       "      <td>0</td>\n",
       "      <td>0</td>\n",
       "      <td>1</td>\n",
       "      <td>0</td>\n",
       "      <td>0</td>\n",
       "    </tr>\n",
       "    <tr>\n",
       "      <th>828211</th>\n",
       "      <td>327.36</td>\n",
       "      <td>0</td>\n",
       "      <td>3876</td>\n",
       "      <td>59.0</td>\n",
       "      <td>12</td>\n",
       "      <td>2019</td>\n",
       "      <td>0.349</td>\n",
       "      <td>0.183</td>\n",
       "      <td>0</td>\n",
       "      <td>0</td>\n",
       "      <td>0</td>\n",
       "      <td>1</td>\n",
       "      <td>0</td>\n",
       "      <td>0</td>\n",
       "      <td>0</td>\n",
       "      <td>0</td>\n",
       "      <td>0</td>\n",
       "      <td>0</td>\n",
       "      <td>0</td>\n",
       "      <td>0</td>\n",
       "      <td>0</td>\n",
       "    </tr>\n",
       "    <tr>\n",
       "      <th>277282</th>\n",
       "      <td>2.60</td>\n",
       "      <td>0</td>\n",
       "      <td>54287</td>\n",
       "      <td>48.0</td>\n",
       "      <td>10</td>\n",
       "      <td>2020</td>\n",
       "      <td>0.616</td>\n",
       "      <td>0.483</td>\n",
       "      <td>0</td>\n",
       "      <td>0</td>\n",
       "      <td>0</td>\n",
       "      <td>0</td>\n",
       "      <td>0</td>\n",
       "      <td>0</td>\n",
       "      <td>0</td>\n",
       "      <td>0</td>\n",
       "      <td>0</td>\n",
       "      <td>0</td>\n",
       "      <td>0</td>\n",
       "      <td>1</td>\n",
       "      <td>0</td>\n",
       "    </tr>\n",
       "    <tr>\n",
       "      <th>851181</th>\n",
       "      <td>1.42</td>\n",
       "      <td>0</td>\n",
       "      <td>1478</td>\n",
       "      <td>54.0</td>\n",
       "      <td>12</td>\n",
       "      <td>2019</td>\n",
       "      <td>0.589</td>\n",
       "      <td>0.611</td>\n",
       "      <td>0</td>\n",
       "      <td>0</td>\n",
       "      <td>0</td>\n",
       "      <td>0</td>\n",
       "      <td>0</td>\n",
       "      <td>0</td>\n",
       "      <td>1</td>\n",
       "      <td>0</td>\n",
       "      <td>0</td>\n",
       "      <td>0</td>\n",
       "      <td>0</td>\n",
       "      <td>0</td>\n",
       "      <td>0</td>\n",
       "    </tr>\n",
       "  </tbody>\n",
       "</table>\n",
       "</div>"
      ],
      "text/plain": [
       "           amt  gender  city_pop   age  trans_month  trans_year  \\\n",
       "724222   12.26       1      2092  57.0           11        2019   \n",
       "193843    8.98       0     34496  49.0            8        2020   \n",
       "828211  327.36       0      3876  59.0           12        2019   \n",
       "277282    2.60       0     54287  48.0           10        2020   \n",
       "851181    1.42       0      1478  54.0           12        2019   \n",
       "\n",
       "        latitudinal_distance  longitudinal_distance  category_food_dining  \\\n",
       "724222                 0.364                  0.790                     0   \n",
       "193843                 0.831                  0.309                     0   \n",
       "828211                 0.349                  0.183                     0   \n",
       "277282                 0.616                  0.483                     0   \n",
       "851181                 0.589                  0.611                     0   \n",
       "\n",
       "        category_gas_transport  category_grocery_net  category_grocery_pos  \\\n",
       "724222                       0                     0                     0   \n",
       "193843                       0                     0                     0   \n",
       "828211                       0                     0                     1   \n",
       "277282                       0                     0                     0   \n",
       "851181                       0                     0                     0   \n",
       "\n",
       "        category_health_fitness  category_home  category_kids_pets  \\\n",
       "724222                        0              0                   1   \n",
       "193843                        0              0                   0   \n",
       "828211                        0              0                   0   \n",
       "277282                        0              0                   0   \n",
       "851181                        0              0                   1   \n",
       "\n",
       "        category_misc_net  category_misc_pos  category_personal_care  \\\n",
       "724222                  0                  0                       0   \n",
       "193843                  0                  0                       0   \n",
       "828211                  0                  0                       0   \n",
       "277282                  0                  0                       0   \n",
       "851181                  0                  0                       0   \n",
       "\n",
       "        category_shopping_net  category_shopping_pos  category_travel  \n",
       "724222                      0                      0                0  \n",
       "193843                      1                      0                0  \n",
       "828211                      0                      0                0  \n",
       "277282                      0                      1                0  \n",
       "851181                      0                      0                0  "
      ]
     },
     "execution_count": 76,
     "metadata": {},
     "output_type": "execute_result"
    }
   ],
   "source": [
    "X_train.head()"
   ]
  },
  {
   "cell_type": "code",
   "execution_count": 78,
   "id": "fb2fe835",
   "metadata": {
    "execution": {
     "iopub.execute_input": "2022-04-24T18:14:49.060305Z",
     "iopub.status.busy": "2022-04-24T18:14:49.059762Z",
     "iopub.status.idle": "2022-04-24T18:14:51.397210Z",
     "shell.execute_reply": "2022-04-24T18:14:51.396298Z"
    },
    "papermill": {
     "duration": 2.486694,
     "end_time": "2022-04-24T18:14:51.399760",
     "exception": false,
     "start_time": "2022-04-24T18:14:48.913066",
     "status": "completed"
    },
    "tags": []
   },
   "outputs": [
    {
     "name": "stdout",
     "output_type": "stream",
     "text": [
      "Score the X-train with Y-train is :  1.0\n",
      "Score the X-test  with Y-test  is :  0.9990204821434708\n",
      "\n",
      " Mean absolute error is  0.0009795178565291242\n",
      " Mean squared  error is  0.0009795178565291242\n",
      " Median absolute error is  0.0\n",
      "Accuracy score  0.9990204821434708\n",
      "F1 score:  99.9 %\n"
     ]
    }
   ],
   "source": [
    "print(\"Score the X-train with Y-train is : \", dtc.score(X_train,Y_train))\n",
    "print(\"Score the X-test  with Y-test  is : \", dtc.score(X_test,Y_test))\n",
    "\n",
    "Y_pred=dtc.predict(X_test)\n",
    "\n",
    "# ans = dtc.predict(24.84,'F',23,53,2020)\n",
    "print()\n",
    "\n",
    "print( \" Mean absolute error is \", mean_absolute_error(Y_test,Y_pred))\n",
    "print(\" Mean squared  error is \" , mean_squared_error(Y_test,Y_pred))\n",
    "print(\" Median absolute error is \" ,median_absolute_error(Y_test,Y_pred)) \n",
    "print(\"Accuracy score \" , accuracy_score(Y_test,Y_pred))\n",
    "print(\"F1 score: \", round(f1_score(Y_test, Y_pred, average='weighted')*100,2),\"%\")"
   ]
  },
  {
   "cell_type": "markdown",
   "id": "b1bb7e05",
   "metadata": {
    "papermill": {
     "duration": 0.146158,
     "end_time": "2022-04-24T18:14:51.692622",
     "exception": false,
     "start_time": "2022-04-24T18:14:51.546464",
     "status": "completed"
    },
    "tags": []
   },
   "source": [
    "Perfect score on training set indicates overfitting. Using hyperparameter tuning.\n",
    "### Hyperparameter Tuning"
   ]
  },
  {
   "cell_type": "code",
   "execution_count": 79,
   "id": "d26d1a8c",
   "metadata": {
    "execution": {
     "iopub.execute_input": "2022-04-24T18:14:51.989119Z",
     "iopub.status.busy": "2022-04-24T18:14:51.988122Z",
     "iopub.status.idle": "2022-04-24T18:14:51.995089Z",
     "shell.execute_reply": "2022-04-24T18:14:51.994319Z"
    },
    "papermill": {
     "duration": 0.156774,
     "end_time": "2022-04-24T18:14:51.997064",
     "exception": false,
     "start_time": "2022-04-24T18:14:51.840290",
     "status": "completed"
    },
    "tags": []
   },
   "outputs": [
    {
     "data": {
      "text/plain": [
       "'dtc1 = DecisionTreeClassifier()\\n\\n\\nparams_dtc = {  \\n    \"splitter\":[\"best\"],\\n    \\'max_depth\\': [10, 20, 50, 100, 200],\\n    \\'min_samples_leaf\\': [10, 20, 50, 100, 200],\\n    \\'min_samples_split\\' : [10, 20, 50, 100, 200],\\n    \\'criterion\\': [\"gini\", \"entropy\"]\\n}\\nrandom_search=RandomizedSearchCV(estimator=dtc1,param_distributions = params_dtc, scoring = \\'f1\\',cv=5,n_iter=100)\\nrandom_search.fit(X_train,Y_train)'"
      ]
     },
     "execution_count": 79,
     "metadata": {},
     "output_type": "execute_result"
    }
   ],
   "source": [
    "#Normal Randomised Search takes too much time to execute on a dataset this large.\n",
    "\"\"\"dtc1 = DecisionTreeClassifier()\n",
    "\n",
    "\n",
    "params_dtc = {  \n",
    "    \"splitter\":[\"best\"],\n",
    "    'max_depth': [10, 20, 50, 100, 200],\n",
    "    'min_samples_leaf': [10, 20, 50, 100, 200],\n",
    "    'min_samples_split' : [10, 20, 50, 100, 200],\n",
    "    'criterion': [\"gini\", \"entropy\"]\n",
    "}\n",
    "random_search=RandomizedSearchCV(estimator=dtc1,param_distributions = params_dtc, scoring = 'f1',cv=5,n_iter=100)\n",
    "random_search.fit(X_train,Y_train)\"\"\""
   ]
  },
  {
   "cell_type": "markdown",
   "id": "dc74177d",
   "metadata": {
    "papermill": {
     "duration": 0.1462,
     "end_time": "2022-04-24T18:14:52.290097",
     "exception": false,
     "start_time": "2022-04-24T18:14:52.143897",
     "status": "completed"
    },
    "tags": []
   },
   "source": [
    "Since dataset is very large(close to 1.8 million rows originally and even more after treating for unbalanced condition),\n",
    "we will use halving randomized search cross validation which is an experimental variant of the randomised search, much  faster compared to either randomised search or grid search cross validation.\n"
   ]
  },
  {
   "cell_type": "code",
   "execution_count": 80,
   "id": "593faa83",
   "metadata": {
    "execution": {
     "iopub.execute_input": "2022-04-24T18:14:52.586769Z",
     "iopub.status.busy": "2022-04-24T18:14:52.586480Z",
     "iopub.status.idle": "2022-04-24T18:15:29.950315Z",
     "shell.execute_reply": "2022-04-24T18:15:29.949437Z"
    },
    "papermill": {
     "duration": 37.668264,
     "end_time": "2022-04-24T18:15:30.106972",
     "exception": false,
     "start_time": "2022-04-24T18:14:52.438708",
     "status": "completed"
    },
    "tags": []
   },
   "outputs": [
    {
     "name": "stderr",
     "output_type": "stream",
     "text": [
      "C:\\Users\\surya\\anaconda3\\lib\\site-packages\\sklearn\\model_selection\\_search.py:292: UserWarning: The total space of parameters 250 is smaller than n_iter=128992. Running 250 iterations. For exhaustive searches, use GridSearchCV.\n",
      "  warnings.warn(\n"
     ]
    },
    {
     "name": "stdout",
     "output_type": "stream",
     "text": [
      "{'min_samples_split': 50, 'min_samples_leaf': 10, 'max_depth': 200, 'criterion': 'gini'}\n"
     ]
    }
   ],
   "source": [
    "dtc1 = DecisionTreeClassifier()\n",
    "\n",
    "params_dtc = {\n",
    "    'max_depth': [10, 20, 50, 100, 200],\n",
    "    'min_samples_leaf': [10, 20, 50, 100, 200],\n",
    "    'min_samples_split' : [10, 20, 50, 100, 200],\n",
    "    'criterion': [\"gini\", \"entropy\"]\n",
    "} \n",
    "\n",
    "halving_random_search=HalvingRandomSearchCV(estimator=dtc1,param_distributions = params_dtc,cv=5)\n",
    "halving_random_search.fit(X_train,Y_train)\n",
    "print(halving_random_search.best_params_)"
   ]
  },
  {
   "cell_type": "code",
   "execution_count": 81,
   "id": "a19439cf",
   "metadata": {
    "execution": {
     "iopub.execute_input": "2022-04-24T18:15:30.407590Z",
     "iopub.status.busy": "2022-04-24T18:15:30.407260Z",
     "iopub.status.idle": "2022-04-24T18:15:30.411878Z",
     "shell.execute_reply": "2022-04-24T18:15:30.410977Z"
    },
    "papermill": {
     "duration": 0.158397,
     "end_time": "2022-04-24T18:15:30.414399",
     "exception": false,
     "start_time": "2022-04-24T18:15:30.256002",
     "status": "completed"
    },
    "tags": []
   },
   "outputs": [
    {
     "name": "stdout",
     "output_type": "stream",
     "text": [
      "{'min_samples_split': 50, 'min_samples_leaf': 10, 'max_depth': 200, 'criterion': 'gini'}\n"
     ]
    }
   ],
   "source": [
    "print(halving_random_search.best_params_)"
   ]
  },
  {
   "cell_type": "code",
   "execution_count": 82,
   "id": "50bddbc0",
   "metadata": {
    "execution": {
     "iopub.execute_input": "2022-04-24T18:15:30.715758Z",
     "iopub.status.busy": "2022-04-24T18:15:30.715445Z",
     "iopub.status.idle": "2022-04-24T18:15:51.320496Z",
     "shell.execute_reply": "2022-04-24T18:15:51.319663Z"
    },
    "papermill": {
     "duration": 20.75888,
     "end_time": "2022-04-24T18:15:51.322547",
     "exception": false,
     "start_time": "2022-04-24T18:15:30.563667",
     "status": "completed"
    },
    "tags": []
   },
   "outputs": [
    {
     "data": {
      "text/plain": [
       "DecisionTreeClassifier(max_depth=200, min_samples_leaf=20,\n",
       "                       min_samples_split=100)"
      ]
     },
     "execution_count": 82,
     "metadata": {},
     "output_type": "execute_result"
    }
   ],
   "source": [
    "dtc2 = DecisionTreeClassifier(min_samples_split= 100, min_samples_leaf= 20, max_depth= 200, criterion= 'gini')\n",
    "dtc2.fit(X_train,Y_train)"
   ]
  },
  {
   "cell_type": "code",
   "execution_count": 83,
   "id": "6138d8ae",
   "metadata": {
    "execution": {
     "iopub.execute_input": "2022-04-24T18:15:51.623136Z",
     "iopub.status.busy": "2022-04-24T18:15:51.622225Z",
     "iopub.status.idle": "2022-04-24T18:15:53.847264Z",
     "shell.execute_reply": "2022-04-24T18:15:53.846257Z"
    },
    "papermill": {
     "duration": 2.378988,
     "end_time": "2022-04-24T18:15:53.850895",
     "exception": false,
     "start_time": "2022-04-24T18:15:51.471907",
     "status": "completed"
    },
    "tags": []
   },
   "outputs": [
    {
     "name": "stdout",
     "output_type": "stream",
     "text": [
      "Score the X-train with Y-train is :  0.9969672537831804\n",
      "Score the X-test  with Y-test  is :  0.9964220012553747\n",
      " Mean absolute error is  0.003577998744625314\n",
      " Mean squared  error is  0.003577998744625314\n",
      " Median absolute error is  0.0\n",
      "Accuracy score  0.9964220012553747\n",
      "F1 score:  99.64 %\n"
     ]
    }
   ],
   "source": [
    "print(\"Score the X-train with Y-train is : \", dtc2.score(X_train,Y_train))\n",
    "print(\"Score the X-test  with Y-test  is : \", dtc2.score(X_test,Y_test))\n",
    "\n",
    "Y_pred=dtc2.predict(X_test)\n",
    "\n",
    "print( \" Mean absolute error is \", mean_absolute_error(Y_test,Y_pred))\n",
    "print(\" Mean squared  error is \" , mean_squared_error(Y_test,Y_pred))\n",
    "print(\" Median absolute error is \" ,median_absolute_error(Y_test,Y_pred)) \n",
    "print(\"Accuracy score \" , accuracy_score(Y_test,Y_pred))\n",
    "print(\"F1 score: \", round(f1_score(Y_test, Y_pred, average='weighted')*100,2),\"%\")"
   ]
  },
  {
   "cell_type": "code",
   "execution_count": 84,
   "id": "d379905c",
   "metadata": {
    "execution": {
     "iopub.execute_input": "2022-04-24T18:15:54.154314Z",
     "iopub.status.busy": "2022-04-24T18:15:54.153650Z",
     "iopub.status.idle": "2022-04-24T18:15:59.172677Z",
     "shell.execute_reply": "2022-04-24T18:15:59.171599Z"
    },
    "papermill": {
     "duration": 5.173463,
     "end_time": "2022-04-24T18:15:59.175670",
     "exception": false,
     "start_time": "2022-04-24T18:15:54.002207",
     "status": "completed"
    },
    "tags": []
   },
   "outputs": [
    {
     "name": "stdout",
     "output_type": "stream",
     "text": [
      "Confusion matrix : \n",
      " [[552832      0]\n",
      " [  3956 548858]]\n",
      "Outcome values : \n",
      " 552832 0 3956 548858\n",
      "Classification report : \n",
      "               precision    recall  f1-score   support\n",
      "\n",
      "           1       0.99      1.00      1.00    552832\n",
      "           0       1.00      0.99      1.00    552814\n",
      "\n",
      "    accuracy                           1.00   1105646\n",
      "   macro avg       1.00      1.00      1.00   1105646\n",
      "weighted avg       1.00      1.00      1.00   1105646\n",
      "\n"
     ]
    }
   ],
   "source": [
    "matrix = confusion_matrix(Y_test,Y_pred, labels=[1,0])\n",
    "print('Confusion matrix : \\n',matrix)\n",
    "\n",
    "\n",
    "tp, fn, fp, tn = confusion_matrix(Y_test,Y_pred,labels=[1,0]).reshape(-1)\n",
    "print('Outcome values : \\n', tp, fn, fp, tn)\n",
    "\n",
    "\n",
    "matrix = classification_report(Y_test,Y_pred,labels=[1,0])\n",
    "print('Classification report : \\n',matrix)"
   ]
  },
  {
   "cell_type": "code",
   "execution_count": 85,
   "id": "551dcc6b",
   "metadata": {
    "execution": {
     "iopub.execute_input": "2022-04-24T18:15:59.483712Z",
     "iopub.status.busy": "2022-04-24T18:15:59.482763Z",
     "iopub.status.idle": "2022-04-24T18:16:00.043100Z",
     "shell.execute_reply": "2022-04-24T18:16:00.042256Z"
    },
    "papermill": {
     "duration": 0.716345,
     "end_time": "2022-04-24T18:16:00.045280",
     "exception": false,
     "start_time": "2022-04-24T18:15:59.328935",
     "status": "completed"
    },
    "tags": []
   },
   "outputs": [
    {
     "name": "stderr",
     "output_type": "stream",
     "text": [
      "C:\\Users\\surya\\anaconda3\\lib\\site-packages\\sklearn\\utils\\deprecation.py:87: FutureWarning: Function plot_roc_curve is deprecated; Function :func:`plot_roc_curve` is deprecated in 1.0 and will be removed in 1.2. Use one of the class methods: :meth:`sklearn.metric.RocCurveDisplay.from_predictions` or :meth:`sklearn.metric.RocCurveDisplay.from_estimator`.\n",
      "  warnings.warn(msg, category=FutureWarning)\n"
     ]
    },
    {
     "data": {
      "image/png": "[encoded data removed]",
      "text/plain": [
       "<Figure size 432x288 with 1 Axes>"
      ]
     },
     "metadata": {
      "needs_background": "light"
     },
     "output_type": "display_data"
    }
   ],
   "source": [
    "plot_roc_curve(dtc2, X_test, Y_test)\n",
    "plt.show()"
   ]
  },
  {
   "cell_type": "markdown",
   "id": "be8fc9ed",
   "metadata": {
    "papermill": {
     "duration": 0.151482,
     "end_time": "2022-04-24T18:16:00.347575",
     "exception": false,
     "start_time": "2022-04-24T18:16:00.196093",
     "status": "completed"
    },
    "tags": []
   },
   "source": [
    "In accordance with the confusion matrix, the roc curve is almost perfect."
   ]
  },
  {
   "cell_type": "code",
   "execution_count": null,
   "id": "da64cfec",
   "metadata": {
    "papermill": {
     "duration": 0.152392,
     "end_time": "2022-04-24T18:16:00.652656",
     "exception": false,
     "start_time": "2022-04-24T18:16:00.500264",
     "status": "completed"
    },
    "tags": []
   },
   "outputs": [],
   "source": []
  }
 ],
 "metadata": {
  "kernelspec": {
   "display_name": "Python 3",
   "language": "python",
   "name": "python3"
  },
  "language_info": {
   "codemirror_mode": {
    "name": "ipython",
    "version": 3
   },
   "file_extension": ".py",
   "mimetype": "text/x-python",
   "name": "python",
   "nbconvert_exporter": "python",
   "pygments_lexer": "ipython3",
   "version": "3.8.8"
  },
  "papermill": {
   "default_parameters": {},
   "duration": 359.864584,
   "end_time": "2022-04-24T18:16:02.030003",
   "environment_variables": {},
   "exception": null,
   "input_path": "__notebook__.ipynb",
   "output_path": "__notebook__.ipynb",
   "parameters": {},
   "start_time": "2022-04-24T18:10:02.165419",
   "version": "2.3.4"
  }
 },
 "nbformat": 4,
 "nbformat_minor": 5
}
